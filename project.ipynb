{
  "cells": [
    {
      "cell_type": "code",
      "execution_count": null,
      "metadata": {
        "colab": {
          "base_uri": "https://localhost:8080/",
          "height": 306
        },
        "id": "q9Lr2nCv4NY0",
        "outputId": "0c96993d-1abc-4e7b-e543-77c08911b41c"
      },
      "outputs": [
        {
          "output_type": "execute_result",
          "data": {
            "text/plain": [
              "   Unnamed: 0  assists  bonus  bps  clean_sheets  creativity  element  \\\n",
              "0           1        0      0    1             0         0.1      534   \n",
              "1           2        0      0    1             0         0.3      534   \n",
              "2           3        0      0    1             0         4.8      534   \n",
              "\n",
              "   fixture  goals_conceded  goals_scored  ...  total_points  \\\n",
              "0       37               1             0  ...             1   \n",
              "1       43               1             0  ...             1   \n",
              "2       58               0             0  ...             1   \n",
              "\n",
              "   transfers_balance transfers_in  transfers_out value  was_home  \\\n",
              "0                  0            0              0   4.5     False   \n",
              "1              10589        13500           2911   4.5      True   \n",
              "2               8090        11749           3659   4.5     False   \n",
              "\n",
              "   yellow_cards            full      team       ppm  \n",
              "0             0  Aaron Connolly  Brighton  0.222222  \n",
              "1             0  Aaron Connolly  Brighton  0.222222  \n",
              "2             0  Aaron Connolly  Brighton  0.222222  \n",
              "\n",
              "[3 rows x 35 columns]"
            ],
            "text/html": [
              "\n",
              "  <div id=\"df-b24777f6-fb0c-42e6-a0eb-d718ea048992\">\n",
              "    <div class=\"colab-df-container\">\n",
              "      <div>\n",
              "<style scoped>\n",
              "    .dataframe tbody tr th:only-of-type {\n",
              "        vertical-align: middle;\n",
              "    }\n",
              "\n",
              "    .dataframe tbody tr th {\n",
              "        vertical-align: top;\n",
              "    }\n",
              "\n",
              "    .dataframe thead th {\n",
              "        text-align: right;\n",
              "    }\n",
              "</style>\n",
              "<table border=\"1\" class=\"dataframe\">\n",
              "  <thead>\n",
              "    <tr style=\"text-align: right;\">\n",
              "      <th></th>\n",
              "      <th>Unnamed: 0</th>\n",
              "      <th>assists</th>\n",
              "      <th>bonus</th>\n",
              "      <th>bps</th>\n",
              "      <th>clean_sheets</th>\n",
              "      <th>creativity</th>\n",
              "      <th>element</th>\n",
              "      <th>fixture</th>\n",
              "      <th>goals_conceded</th>\n",
              "      <th>goals_scored</th>\n",
              "      <th>...</th>\n",
              "      <th>total_points</th>\n",
              "      <th>transfers_balance</th>\n",
              "      <th>transfers_in</th>\n",
              "      <th>transfers_out</th>\n",
              "      <th>value</th>\n",
              "      <th>was_home</th>\n",
              "      <th>yellow_cards</th>\n",
              "      <th>full</th>\n",
              "      <th>team</th>\n",
              "      <th>ppm</th>\n",
              "    </tr>\n",
              "  </thead>\n",
              "  <tbody>\n",
              "    <tr>\n",
              "      <th>0</th>\n",
              "      <td>1</td>\n",
              "      <td>0</td>\n",
              "      <td>0</td>\n",
              "      <td>1</td>\n",
              "      <td>0</td>\n",
              "      <td>0.1</td>\n",
              "      <td>534</td>\n",
              "      <td>37</td>\n",
              "      <td>1</td>\n",
              "      <td>0</td>\n",
              "      <td>...</td>\n",
              "      <td>1</td>\n",
              "      <td>0</td>\n",
              "      <td>0</td>\n",
              "      <td>0</td>\n",
              "      <td>4.5</td>\n",
              "      <td>False</td>\n",
              "      <td>0</td>\n",
              "      <td>Aaron Connolly</td>\n",
              "      <td>Brighton</td>\n",
              "      <td>0.222222</td>\n",
              "    </tr>\n",
              "    <tr>\n",
              "      <th>1</th>\n",
              "      <td>2</td>\n",
              "      <td>0</td>\n",
              "      <td>0</td>\n",
              "      <td>1</td>\n",
              "      <td>0</td>\n",
              "      <td>0.3</td>\n",
              "      <td>534</td>\n",
              "      <td>43</td>\n",
              "      <td>1</td>\n",
              "      <td>0</td>\n",
              "      <td>...</td>\n",
              "      <td>1</td>\n",
              "      <td>10589</td>\n",
              "      <td>13500</td>\n",
              "      <td>2911</td>\n",
              "      <td>4.5</td>\n",
              "      <td>True</td>\n",
              "      <td>0</td>\n",
              "      <td>Aaron Connolly</td>\n",
              "      <td>Brighton</td>\n",
              "      <td>0.222222</td>\n",
              "    </tr>\n",
              "    <tr>\n",
              "      <th>2</th>\n",
              "      <td>3</td>\n",
              "      <td>0</td>\n",
              "      <td>0</td>\n",
              "      <td>1</td>\n",
              "      <td>0</td>\n",
              "      <td>4.8</td>\n",
              "      <td>534</td>\n",
              "      <td>58</td>\n",
              "      <td>0</td>\n",
              "      <td>0</td>\n",
              "      <td>...</td>\n",
              "      <td>1</td>\n",
              "      <td>8090</td>\n",
              "      <td>11749</td>\n",
              "      <td>3659</td>\n",
              "      <td>4.5</td>\n",
              "      <td>False</td>\n",
              "      <td>0</td>\n",
              "      <td>Aaron Connolly</td>\n",
              "      <td>Brighton</td>\n",
              "      <td>0.222222</td>\n",
              "    </tr>\n",
              "  </tbody>\n",
              "</table>\n",
              "<p>3 rows × 35 columns</p>\n",
              "</div>\n",
              "      <button class=\"colab-df-convert\" onclick=\"convertToInteractive('df-b24777f6-fb0c-42e6-a0eb-d718ea048992')\"\n",
              "              title=\"Convert this dataframe to an interactive table.\"\n",
              "              style=\"display:none;\">\n",
              "        \n",
              "  <svg xmlns=\"http://www.w3.org/2000/svg\" height=\"24px\"viewBox=\"0 0 24 24\"\n",
              "       width=\"24px\">\n",
              "    <path d=\"M0 0h24v24H0V0z\" fill=\"none\"/>\n",
              "    <path d=\"M18.56 5.44l.94 2.06.94-2.06 2.06-.94-2.06-.94-.94-2.06-.94 2.06-2.06.94zm-11 1L8.5 8.5l.94-2.06 2.06-.94-2.06-.94L8.5 2.5l-.94 2.06-2.06.94zm10 10l.94 2.06.94-2.06 2.06-.94-2.06-.94-.94-2.06-.94 2.06-2.06.94z\"/><path d=\"M17.41 7.96l-1.37-1.37c-.4-.4-.92-.59-1.43-.59-.52 0-1.04.2-1.43.59L10.3 9.45l-7.72 7.72c-.78.78-.78 2.05 0 2.83L4 21.41c.39.39.9.59 1.41.59.51 0 1.02-.2 1.41-.59l7.78-7.78 2.81-2.81c.8-.78.8-2.07 0-2.86zM5.41 20L4 18.59l7.72-7.72 1.47 1.35L5.41 20z\"/>\n",
              "  </svg>\n",
              "      </button>\n",
              "      \n",
              "  <style>\n",
              "    .colab-df-container {\n",
              "      display:flex;\n",
              "      flex-wrap:wrap;\n",
              "      gap: 12px;\n",
              "    }\n",
              "\n",
              "    .colab-df-convert {\n",
              "      background-color: #E8F0FE;\n",
              "      border: none;\n",
              "      border-radius: 50%;\n",
              "      cursor: pointer;\n",
              "      display: none;\n",
              "      fill: #1967D2;\n",
              "      height: 32px;\n",
              "      padding: 0 0 0 0;\n",
              "      width: 32px;\n",
              "    }\n",
              "\n",
              "    .colab-df-convert:hover {\n",
              "      background-color: #E2EBFA;\n",
              "      box-shadow: 0px 1px 2px rgba(60, 64, 67, 0.3), 0px 1px 3px 1px rgba(60, 64, 67, 0.15);\n",
              "      fill: #174EA6;\n",
              "    }\n",
              "\n",
              "    [theme=dark] .colab-df-convert {\n",
              "      background-color: #3B4455;\n",
              "      fill: #D2E3FC;\n",
              "    }\n",
              "\n",
              "    [theme=dark] .colab-df-convert:hover {\n",
              "      background-color: #434B5C;\n",
              "      box-shadow: 0px 1px 3px 1px rgba(0, 0, 0, 0.15);\n",
              "      filter: drop-shadow(0px 1px 2px rgba(0, 0, 0, 0.3));\n",
              "      fill: #FFFFFF;\n",
              "    }\n",
              "  </style>\n",
              "\n",
              "      <script>\n",
              "        const buttonEl =\n",
              "          document.querySelector('#df-b24777f6-fb0c-42e6-a0eb-d718ea048992 button.colab-df-convert');\n",
              "        buttonEl.style.display =\n",
              "          google.colab.kernel.accessAllowed ? 'block' : 'none';\n",
              "\n",
              "        async function convertToInteractive(key) {\n",
              "          const element = document.querySelector('#df-b24777f6-fb0c-42e6-a0eb-d718ea048992');\n",
              "          const dataTable =\n",
              "            await google.colab.kernel.invokeFunction('convertToInteractive',\n",
              "                                                     [key], {});\n",
              "          if (!dataTable) return;\n",
              "\n",
              "          const docLinkHtml = 'Like what you see? Visit the ' +\n",
              "            '<a target=\"_blank\" href=https://colab.research.google.com/notebooks/data_table.ipynb>data table notebook</a>'\n",
              "            + ' to learn more about interactive tables.';\n",
              "          element.innerHTML = '';\n",
              "          dataTable['output_type'] = 'display_data';\n",
              "          await google.colab.output.renderOutput(dataTable, element);\n",
              "          const docLink = document.createElement('div');\n",
              "          docLink.innerHTML = docLinkHtml;\n",
              "          element.appendChild(docLink);\n",
              "        }\n",
              "      </script>\n",
              "    </div>\n",
              "  </div>\n",
              "  "
            ]
          },
          "metadata": {},
          "execution_count": 1
        }
      ],
      "source": [
        "import pandas as pd       # pandas library 불러내기\n",
        "import numpy as np        # numpy library 불러내기\n",
        "df = pd.read_csv('/content/drive/MyDrive/Colab Notebooks/project/players_1920_fin.csv')\n",
        "df.head(3)"
      ]
    },
    {
      "cell_type": "code",
      "execution_count": null,
      "metadata": {
        "id": "UnygbQGBlKoQ"
      },
      "outputs": [],
      "source": [
        "df = df.rename(columns={'Unnamed: 0' : 'id'})"
      ]
    },
    {
      "cell_type": "code",
      "execution_count": null,
      "metadata": {
        "colab": {
          "base_uri": "https://localhost:8080/"
        },
        "id": "fcZqRDeB41Cg",
        "outputId": "2ef264e2-aacf-41ed-fd34-5adbcf3807aa"
      },
      "outputs": [
        {
          "output_type": "execute_result",
          "data": {
            "text/plain": [
              "(22502, 35)"
            ]
          },
          "metadata": {},
          "execution_count": 3
        }
      ],
      "source": [
        "df.shape"
      ]
    },
    {
      "cell_type": "code",
      "execution_count": null,
      "metadata": {
        "colab": {
          "base_uri": "https://localhost:8080/"
        },
        "id": "Qf8LplZu45Dz",
        "outputId": "822379fa-3a8b-4d94-fd35-e47247290435"
      },
      "outputs": [
        {
          "output_type": "stream",
          "name": "stdout",
          "text": [
            "<class 'pandas.core.frame.DataFrame'>\n",
            "RangeIndex: 22502 entries, 0 to 22501\n",
            "Data columns (total 35 columns):\n",
            " #   Column             Non-Null Count  Dtype  \n",
            "---  ------             --------------  -----  \n",
            " 0   id                 22502 non-null  int64  \n",
            " 1   assists            22502 non-null  int64  \n",
            " 2   bonus              22502 non-null  int64  \n",
            " 3   bps                22502 non-null  int64  \n",
            " 4   clean_sheets       22502 non-null  int64  \n",
            " 5   creativity         22502 non-null  float64\n",
            " 6   element            22502 non-null  int64  \n",
            " 7   fixture            22502 non-null  int64  \n",
            " 8   goals_conceded     22502 non-null  int64  \n",
            " 9   goals_scored       22502 non-null  int64  \n",
            " 10  ict_index          22502 non-null  float64\n",
            " 11  influence          22502 non-null  float64\n",
            " 12  kickoff_time       22502 non-null  object \n",
            " 13  minutes            22502 non-null  int64  \n",
            " 14  opponent_team      22502 non-null  object \n",
            " 15  own_goals          22502 non-null  int64  \n",
            " 16  penalties_missed   22502 non-null  int64  \n",
            " 17  penalties_saved    22502 non-null  int64  \n",
            " 18  red_cards          22502 non-null  int64  \n",
            " 19  round              22502 non-null  int64  \n",
            " 20  saves              22502 non-null  int64  \n",
            " 21  selected           22502 non-null  int64  \n",
            " 22  team_a_score       22502 non-null  int64  \n",
            " 23  team_h_score       22502 non-null  int64  \n",
            " 24  threat             22502 non-null  int64  \n",
            " 25  total_points       22502 non-null  int64  \n",
            " 26  transfers_balance  22502 non-null  int64  \n",
            " 27  transfers_in       22502 non-null  int64  \n",
            " 28  transfers_out      22502 non-null  int64  \n",
            " 29  value              22502 non-null  float64\n",
            " 30  was_home           22502 non-null  bool   \n",
            " 31  yellow_cards       22502 non-null  int64  \n",
            " 32  full               22502 non-null  object \n",
            " 33  team               22502 non-null  object \n",
            " 34  ppm                22502 non-null  float64\n",
            "dtypes: bool(1), float64(5), int64(25), object(4)\n",
            "memory usage: 5.9+ MB\n"
          ]
        }
      ],
      "source": [
        "df.info()"
      ]
    },
    {
      "cell_type": "code",
      "execution_count": null,
      "metadata": {
        "colab": {
          "base_uri": "https://localhost:8080/"
        },
        "id": "TJePNpSO451E",
        "outputId": "0dc6e3bc-7f3f-4656-a58f-2e3a3f589e93"
      },
      "outputs": [
        {
          "output_type": "execute_result",
          "data": {
            "text/plain": [
              "0"
            ]
          },
          "metadata": {},
          "execution_count": 5
        }
      ],
      "source": [
        "df['id'].isnull().sum()"
      ]
    },
    {
      "cell_type": "code",
      "execution_count": null,
      "metadata": {
        "colab": {
          "base_uri": "https://localhost:8080/"
        },
        "id": "QY-SubAW5Cfo",
        "outputId": "6dffcc35-a656-4f88-84ae-d3adfb99b56a"
      },
      "outputs": [
        {
          "output_type": "stream",
          "name": "stdout",
          "text": [
            "22502\n"
          ]
        }
      ],
      "source": [
        "n = len(pd.unique(df['id']))\n",
        "print(n)"
      ]
    },
    {
      "cell_type": "code",
      "execution_count": null,
      "metadata": {
        "colab": {
          "base_uri": "https://localhost:8080/"
        },
        "id": "rew6Qvbf0Z4v",
        "outputId": "4a33ea56-0a5c-4d89-a7c8-1ed08d3dfb3d"
      },
      "outputs": [
        {
          "output_type": "execute_result",
          "data": {
            "text/plain": [
              "count    22502.000000\n",
              "mean         4.848378\n",
              "std         10.832486\n",
              "min          0.000000\n",
              "25%          0.000000\n",
              "50%          0.000000\n",
              "75%          2.800000\n",
              "max        133.500000\n",
              "Name: creativity, dtype: float64"
            ]
          },
          "metadata": {},
          "execution_count": 7
        }
      ],
      "source": [
        "df['creativity'].describe()"
      ]
    },
    {
      "cell_type": "code",
      "execution_count": null,
      "metadata": {
        "id": "PknSJDqh04eS"
      },
      "outputs": [],
      "source": [
        "df.loc[df['creativity'] >=0.5, \"creativity_B\"] =1\n",
        "df.loc[df['creativity'] <0.5, \"creativity_B\"] =0"
      ]
    },
    {
      "cell_type": "code",
      "execution_count": null,
      "metadata": {
        "colab": {
          "base_uri": "https://localhost:8080/"
        },
        "id": "VUxuRuN71Rmr",
        "outputId": "44ca473f-c4bb-40cd-dd09-1ceafd20dfde"
      },
      "outputs": [
        {
          "output_type": "execute_result",
          "data": {
            "text/plain": [
              "0.0    0.633677\n",
              "1.0    0.366323\n",
              "Name: creativity_B, dtype: float64"
            ]
          },
          "metadata": {},
          "execution_count": 9
        }
      ],
      "source": [
        "df['creativity_B'].value_counts(dropna=False, normalize=True)"
      ]
    },
    {
      "cell_type": "code",
      "execution_count": null,
      "metadata": {
        "id": "ZkomCHDXqCMP"
      },
      "outputs": [],
      "source": [
        "# 타겟변수 비율 검토\n",
        "#df['creativity'].value_counts(dropna=False, normalize=True)"
      ]
    },
    {
      "cell_type": "markdown",
      "metadata": {
        "id": "ZGP1ham4wqIG"
      },
      "source": []
    },
    {
      "cell_type": "code",
      "execution_count": null,
      "metadata": {
        "colab": {
          "base_uri": "https://localhost:8080/"
        },
        "id": "Yfi6c7ARpvZY",
        "outputId": "1c792d33-1823-4572-9aa7-9deebfe877be"
      },
      "outputs": [
        {
          "output_type": "execute_result",
          "data": {
            "text/plain": [
              "assists              int64\n",
              "bonus                int64\n",
              "goals_conceded       int64\n",
              "goals_scored         int64\n",
              "influence          float64\n",
              "minutes              int64\n",
              "penalties_saved      int64\n",
              "saves                int64\n",
              "team_a_score         int64\n",
              "team_h_score         int64\n",
              "threat               int64\n",
              "total_points         int64\n",
              "ppm                float64\n",
              "dtype: object"
            ]
          },
          "metadata": {},
          "execution_count": 11
        }
      ],
      "source": [
        "cols = ['assists','bonus','goals_conceded','goals_scored','influence', 'minutes','penalties_saved',\n",
        "        'saves','team_a_score','team_h_score','threat','total_points', 'ppm']\n",
        "df[cols].dtypes\n",
        "#ppm (Points per Match)\n",
        "# 제외 컬럼 : bps, element, fixture, ict_index, round, selected, tansfers_balance, transfers_in, tansfers_out, value, kickoff Time"
      ]
    },
    {
      "cell_type": "code",
      "execution_count": null,
      "metadata": {
        "colab": {
          "base_uri": "https://localhost:8080/",
          "height": 364
        },
        "id": "IUYl40V9pm5n",
        "outputId": "9a087818-19da-4f1e-be6f-104c8e479259"
      },
      "outputs": [
        {
          "output_type": "execute_result",
          "data": {
            "text/plain": [
              "            assists         bonus  goals_conceded  goals_scored     influence  \\\n",
              "count  22502.000000  22502.000000    22502.000000  22502.000000  22502.000000   \n",
              "mean       0.040041      0.107902        0.505466      0.044485      7.396116   \n",
              "std        0.211752      0.490432        0.955543      0.230016     12.883909   \n",
              "min        0.000000      0.000000        0.000000      0.000000      0.000000   \n",
              "25%        0.000000      0.000000        0.000000      0.000000      0.000000   \n",
              "50%        0.000000      0.000000        0.000000      0.000000      0.000000   \n",
              "75%        0.000000      0.000000        1.000000      0.000000     11.200000   \n",
              "max        3.000000      3.000000        9.000000      4.000000    144.000000   \n",
              "\n",
              "            minutes  penalties_saved         saves  team_a_score  \\\n",
              "count  22502.000000     22502.000000  22502.000000  22502.000000   \n",
              "mean      33.292107         0.000755      0.098791      1.199404   \n",
              "std       40.671211         0.029049      0.640450      1.190049   \n",
              "min        0.000000         0.000000      0.000000      0.000000   \n",
              "25%        0.000000         0.000000      0.000000      0.000000   \n",
              "50%        0.000000         0.000000      0.000000      1.000000   \n",
              "75%       90.000000         0.000000      0.000000      2.000000   \n",
              "max       90.000000         2.000000     12.000000      9.000000   \n",
              "\n",
              "       team_h_score        threat  total_points           ppm  \n",
              "count  22502.000000  22502.000000  22502.000000  22502.000000  \n",
              "mean       1.513821      5.589725      1.378189      0.249703  \n",
              "std        1.245430     14.070831      2.502970      0.445899  \n",
              "min        0.000000      0.000000     -6.000000     -1.250000  \n",
              "25%        1.000000      0.000000      0.000000      0.000000  \n",
              "50%        1.000000      0.000000      0.000000      0.000000  \n",
              "75%        2.000000      2.000000      2.000000      0.333333  \n",
              "max        8.000000    181.000000     26.000000      4.468085  "
            ],
            "text/html": [
              "\n",
              "  <div id=\"df-7e492eca-7d16-4f2c-8b9f-df376fa31f52\">\n",
              "    <div class=\"colab-df-container\">\n",
              "      <div>\n",
              "<style scoped>\n",
              "    .dataframe tbody tr th:only-of-type {\n",
              "        vertical-align: middle;\n",
              "    }\n",
              "\n",
              "    .dataframe tbody tr th {\n",
              "        vertical-align: top;\n",
              "    }\n",
              "\n",
              "    .dataframe thead th {\n",
              "        text-align: right;\n",
              "    }\n",
              "</style>\n",
              "<table border=\"1\" class=\"dataframe\">\n",
              "  <thead>\n",
              "    <tr style=\"text-align: right;\">\n",
              "      <th></th>\n",
              "      <th>assists</th>\n",
              "      <th>bonus</th>\n",
              "      <th>goals_conceded</th>\n",
              "      <th>goals_scored</th>\n",
              "      <th>influence</th>\n",
              "      <th>minutes</th>\n",
              "      <th>penalties_saved</th>\n",
              "      <th>saves</th>\n",
              "      <th>team_a_score</th>\n",
              "      <th>team_h_score</th>\n",
              "      <th>threat</th>\n",
              "      <th>total_points</th>\n",
              "      <th>ppm</th>\n",
              "    </tr>\n",
              "  </thead>\n",
              "  <tbody>\n",
              "    <tr>\n",
              "      <th>count</th>\n",
              "      <td>22502.000000</td>\n",
              "      <td>22502.000000</td>\n",
              "      <td>22502.000000</td>\n",
              "      <td>22502.000000</td>\n",
              "      <td>22502.000000</td>\n",
              "      <td>22502.000000</td>\n",
              "      <td>22502.000000</td>\n",
              "      <td>22502.000000</td>\n",
              "      <td>22502.000000</td>\n",
              "      <td>22502.000000</td>\n",
              "      <td>22502.000000</td>\n",
              "      <td>22502.000000</td>\n",
              "      <td>22502.000000</td>\n",
              "    </tr>\n",
              "    <tr>\n",
              "      <th>mean</th>\n",
              "      <td>0.040041</td>\n",
              "      <td>0.107902</td>\n",
              "      <td>0.505466</td>\n",
              "      <td>0.044485</td>\n",
              "      <td>7.396116</td>\n",
              "      <td>33.292107</td>\n",
              "      <td>0.000755</td>\n",
              "      <td>0.098791</td>\n",
              "      <td>1.199404</td>\n",
              "      <td>1.513821</td>\n",
              "      <td>5.589725</td>\n",
              "      <td>1.378189</td>\n",
              "      <td>0.249703</td>\n",
              "    </tr>\n",
              "    <tr>\n",
              "      <th>std</th>\n",
              "      <td>0.211752</td>\n",
              "      <td>0.490432</td>\n",
              "      <td>0.955543</td>\n",
              "      <td>0.230016</td>\n",
              "      <td>12.883909</td>\n",
              "      <td>40.671211</td>\n",
              "      <td>0.029049</td>\n",
              "      <td>0.640450</td>\n",
              "      <td>1.190049</td>\n",
              "      <td>1.245430</td>\n",
              "      <td>14.070831</td>\n",
              "      <td>2.502970</td>\n",
              "      <td>0.445899</td>\n",
              "    </tr>\n",
              "    <tr>\n",
              "      <th>min</th>\n",
              "      <td>0.000000</td>\n",
              "      <td>0.000000</td>\n",
              "      <td>0.000000</td>\n",
              "      <td>0.000000</td>\n",
              "      <td>0.000000</td>\n",
              "      <td>0.000000</td>\n",
              "      <td>0.000000</td>\n",
              "      <td>0.000000</td>\n",
              "      <td>0.000000</td>\n",
              "      <td>0.000000</td>\n",
              "      <td>0.000000</td>\n",
              "      <td>-6.000000</td>\n",
              "      <td>-1.250000</td>\n",
              "    </tr>\n",
              "    <tr>\n",
              "      <th>25%</th>\n",
              "      <td>0.000000</td>\n",
              "      <td>0.000000</td>\n",
              "      <td>0.000000</td>\n",
              "      <td>0.000000</td>\n",
              "      <td>0.000000</td>\n",
              "      <td>0.000000</td>\n",
              "      <td>0.000000</td>\n",
              "      <td>0.000000</td>\n",
              "      <td>0.000000</td>\n",
              "      <td>1.000000</td>\n",
              "      <td>0.000000</td>\n",
              "      <td>0.000000</td>\n",
              "      <td>0.000000</td>\n",
              "    </tr>\n",
              "    <tr>\n",
              "      <th>50%</th>\n",
              "      <td>0.000000</td>\n",
              "      <td>0.000000</td>\n",
              "      <td>0.000000</td>\n",
              "      <td>0.000000</td>\n",
              "      <td>0.000000</td>\n",
              "      <td>0.000000</td>\n",
              "      <td>0.000000</td>\n",
              "      <td>0.000000</td>\n",
              "      <td>1.000000</td>\n",
              "      <td>1.000000</td>\n",
              "      <td>0.000000</td>\n",
              "      <td>0.000000</td>\n",
              "      <td>0.000000</td>\n",
              "    </tr>\n",
              "    <tr>\n",
              "      <th>75%</th>\n",
              "      <td>0.000000</td>\n",
              "      <td>0.000000</td>\n",
              "      <td>1.000000</td>\n",
              "      <td>0.000000</td>\n",
              "      <td>11.200000</td>\n",
              "      <td>90.000000</td>\n",
              "      <td>0.000000</td>\n",
              "      <td>0.000000</td>\n",
              "      <td>2.000000</td>\n",
              "      <td>2.000000</td>\n",
              "      <td>2.000000</td>\n",
              "      <td>2.000000</td>\n",
              "      <td>0.333333</td>\n",
              "    </tr>\n",
              "    <tr>\n",
              "      <th>max</th>\n",
              "      <td>3.000000</td>\n",
              "      <td>3.000000</td>\n",
              "      <td>9.000000</td>\n",
              "      <td>4.000000</td>\n",
              "      <td>144.000000</td>\n",
              "      <td>90.000000</td>\n",
              "      <td>2.000000</td>\n",
              "      <td>12.000000</td>\n",
              "      <td>9.000000</td>\n",
              "      <td>8.000000</td>\n",
              "      <td>181.000000</td>\n",
              "      <td>26.000000</td>\n",
              "      <td>4.468085</td>\n",
              "    </tr>\n",
              "  </tbody>\n",
              "</table>\n",
              "</div>\n",
              "      <button class=\"colab-df-convert\" onclick=\"convertToInteractive('df-7e492eca-7d16-4f2c-8b9f-df376fa31f52')\"\n",
              "              title=\"Convert this dataframe to an interactive table.\"\n",
              "              style=\"display:none;\">\n",
              "        \n",
              "  <svg xmlns=\"http://www.w3.org/2000/svg\" height=\"24px\"viewBox=\"0 0 24 24\"\n",
              "       width=\"24px\">\n",
              "    <path d=\"M0 0h24v24H0V0z\" fill=\"none\"/>\n",
              "    <path d=\"M18.56 5.44l.94 2.06.94-2.06 2.06-.94-2.06-.94-.94-2.06-.94 2.06-2.06.94zm-11 1L8.5 8.5l.94-2.06 2.06-.94-2.06-.94L8.5 2.5l-.94 2.06-2.06.94zm10 10l.94 2.06.94-2.06 2.06-.94-2.06-.94-.94-2.06-.94 2.06-2.06.94z\"/><path d=\"M17.41 7.96l-1.37-1.37c-.4-.4-.92-.59-1.43-.59-.52 0-1.04.2-1.43.59L10.3 9.45l-7.72 7.72c-.78.78-.78 2.05 0 2.83L4 21.41c.39.39.9.59 1.41.59.51 0 1.02-.2 1.41-.59l7.78-7.78 2.81-2.81c.8-.78.8-2.07 0-2.86zM5.41 20L4 18.59l7.72-7.72 1.47 1.35L5.41 20z\"/>\n",
              "  </svg>\n",
              "      </button>\n",
              "      \n",
              "  <style>\n",
              "    .colab-df-container {\n",
              "      display:flex;\n",
              "      flex-wrap:wrap;\n",
              "      gap: 12px;\n",
              "    }\n",
              "\n",
              "    .colab-df-convert {\n",
              "      background-color: #E8F0FE;\n",
              "      border: none;\n",
              "      border-radius: 50%;\n",
              "      cursor: pointer;\n",
              "      display: none;\n",
              "      fill: #1967D2;\n",
              "      height: 32px;\n",
              "      padding: 0 0 0 0;\n",
              "      width: 32px;\n",
              "    }\n",
              "\n",
              "    .colab-df-convert:hover {\n",
              "      background-color: #E2EBFA;\n",
              "      box-shadow: 0px 1px 2px rgba(60, 64, 67, 0.3), 0px 1px 3px 1px rgba(60, 64, 67, 0.15);\n",
              "      fill: #174EA6;\n",
              "    }\n",
              "\n",
              "    [theme=dark] .colab-df-convert {\n",
              "      background-color: #3B4455;\n",
              "      fill: #D2E3FC;\n",
              "    }\n",
              "\n",
              "    [theme=dark] .colab-df-convert:hover {\n",
              "      background-color: #434B5C;\n",
              "      box-shadow: 0px 1px 3px 1px rgba(0, 0, 0, 0.15);\n",
              "      filter: drop-shadow(0px 1px 2px rgba(0, 0, 0, 0.3));\n",
              "      fill: #FFFFFF;\n",
              "    }\n",
              "  </style>\n",
              "\n",
              "      <script>\n",
              "        const buttonEl =\n",
              "          document.querySelector('#df-7e492eca-7d16-4f2c-8b9f-df376fa31f52 button.colab-df-convert');\n",
              "        buttonEl.style.display =\n",
              "          google.colab.kernel.accessAllowed ? 'block' : 'none';\n",
              "\n",
              "        async function convertToInteractive(key) {\n",
              "          const element = document.querySelector('#df-7e492eca-7d16-4f2c-8b9f-df376fa31f52');\n",
              "          const dataTable =\n",
              "            await google.colab.kernel.invokeFunction('convertToInteractive',\n",
              "                                                     [key], {});\n",
              "          if (!dataTable) return;\n",
              "\n",
              "          const docLinkHtml = 'Like what you see? Visit the ' +\n",
              "            '<a target=\"_blank\" href=https://colab.research.google.com/notebooks/data_table.ipynb>data table notebook</a>'\n",
              "            + ' to learn more about interactive tables.';\n",
              "          element.innerHTML = '';\n",
              "          dataTable['output_type'] = 'display_data';\n",
              "          await google.colab.output.renderOutput(dataTable, element);\n",
              "          const docLink = document.createElement('div');\n",
              "          docLink.innerHTML = docLinkHtml;\n",
              "          element.appendChild(docLink);\n",
              "        }\n",
              "      </script>\n",
              "    </div>\n",
              "  </div>\n",
              "  "
            ]
          },
          "metadata": {},
          "execution_count": 12
        }
      ],
      "source": [
        "df[cols].describe()"
      ]
    },
    {
      "cell_type": "code",
      "execution_count": null,
      "metadata": {
        "colab": {
          "base_uri": "https://localhost:8080/"
        },
        "id": "vexiBlnznIXg",
        "outputId": "320fd074-2131-417f-b423-3a6ae05c4bd5"
      },
      "outputs": [
        {
          "output_type": "execute_result",
          "data": {
            "text/plain": [
              "clean_sheets         int64\n",
              "opponent_team       object\n",
              "own_goals            int64\n",
              "penalties_missed     int64\n",
              "red_cards            int64\n",
              "was_home              bool\n",
              "yellow_cards         int64\n",
              "team                object\n",
              "dtype: object"
            ]
          },
          "metadata": {},
          "execution_count": 13
        }
      ],
      "source": [
        "# 구간 변수\n",
        "cols1 = ['clean_sheets','opponent_team', 'own_goals', 'penalties_missed','red_cards','was_home', 'yellow_cards', 'team']\n",
        "df[cols1].dtypes"
      ]
    },
    {
      "cell_type": "code",
      "execution_count": null,
      "metadata": {
        "colab": {
          "base_uri": "https://localhost:8080/"
        },
        "id": "PhpInpFE5_mQ",
        "outputId": "8f25c080-7d94-4d07-8721-a1307f4e9b45"
      },
      "outputs": [
        {
          "output_type": "execute_result",
          "data": {
            "text/plain": [
              "assists             5.806313\n",
              "bonus               4.837941\n",
              "goals_conceded      2.392690\n",
              "goals_scored        5.939102\n",
              "influence           2.536058\n",
              "minutes             0.534550\n",
              "penalties_saved    41.625927\n",
              "saves               7.956761\n",
              "team_a_score        1.504778\n",
              "team_h_score        0.936209\n",
              "threat              3.823514\n",
              "total_points        2.757586\n",
              "ppm                 2.636021\n",
              "dtype: float64"
            ]
          },
          "metadata": {},
          "execution_count": 14
        }
      ],
      "source": [
        "df[cols].skew()\n",
        "#assist, bonus, goals_Scored, penalties_saved, saves, threat"
      ]
    },
    {
      "cell_type": "code",
      "execution_count": null,
      "metadata": {
        "colab": {
          "base_uri": "https://localhost:8080/",
          "height": 300
        },
        "id": "jg200igCBoxo",
        "outputId": "0d840bb1-3686-4bc8-e50d-ea48aff870ca"
      },
      "outputs": [
        {
          "output_type": "execute_result",
          "data": {
            "text/plain": [
              "            assists         bonus  goals_scored  penalties_saved  \\\n",
              "count  22502.000000  22502.000000  22502.000000     22502.000000   \n",
              "mean       0.026871      0.057130      0.029439         0.000511   \n",
              "std        0.138732      0.248281      0.147092         0.019330   \n",
              "min        0.000000      0.000000      0.000000         0.000000   \n",
              "25%        0.000000      0.000000      0.000000         0.000000   \n",
              "50%        0.000000      0.000000      0.000000         0.000000   \n",
              "75%        0.000000      0.000000      0.000000         0.000000   \n",
              "max        1.386294      1.386294      1.609438         1.098612   \n",
              "\n",
              "              saves        threat  \n",
              "count  22502.000000  22502.000000  \n",
              "mean       0.041655      0.744974  \n",
              "std        0.243949      1.267869  \n",
              "min        0.000000      0.000000  \n",
              "25%        0.000000      0.000000  \n",
              "50%        0.000000      0.000000  \n",
              "75%        0.000000      1.098612  \n",
              "max        2.564949      5.204007  "
            ],
            "text/html": [
              "\n",
              "  <div id=\"df-97649eb3-f747-44fe-94d8-12285bc43af3\">\n",
              "    <div class=\"colab-df-container\">\n",
              "      <div>\n",
              "<style scoped>\n",
              "    .dataframe tbody tr th:only-of-type {\n",
              "        vertical-align: middle;\n",
              "    }\n",
              "\n",
              "    .dataframe tbody tr th {\n",
              "        vertical-align: top;\n",
              "    }\n",
              "\n",
              "    .dataframe thead th {\n",
              "        text-align: right;\n",
              "    }\n",
              "</style>\n",
              "<table border=\"1\" class=\"dataframe\">\n",
              "  <thead>\n",
              "    <tr style=\"text-align: right;\">\n",
              "      <th></th>\n",
              "      <th>assists</th>\n",
              "      <th>bonus</th>\n",
              "      <th>goals_scored</th>\n",
              "      <th>penalties_saved</th>\n",
              "      <th>saves</th>\n",
              "      <th>threat</th>\n",
              "    </tr>\n",
              "  </thead>\n",
              "  <tbody>\n",
              "    <tr>\n",
              "      <th>count</th>\n",
              "      <td>22502.000000</td>\n",
              "      <td>22502.000000</td>\n",
              "      <td>22502.000000</td>\n",
              "      <td>22502.000000</td>\n",
              "      <td>22502.000000</td>\n",
              "      <td>22502.000000</td>\n",
              "    </tr>\n",
              "    <tr>\n",
              "      <th>mean</th>\n",
              "      <td>0.026871</td>\n",
              "      <td>0.057130</td>\n",
              "      <td>0.029439</td>\n",
              "      <td>0.000511</td>\n",
              "      <td>0.041655</td>\n",
              "      <td>0.744974</td>\n",
              "    </tr>\n",
              "    <tr>\n",
              "      <th>std</th>\n",
              "      <td>0.138732</td>\n",
              "      <td>0.248281</td>\n",
              "      <td>0.147092</td>\n",
              "      <td>0.019330</td>\n",
              "      <td>0.243949</td>\n",
              "      <td>1.267869</td>\n",
              "    </tr>\n",
              "    <tr>\n",
              "      <th>min</th>\n",
              "      <td>0.000000</td>\n",
              "      <td>0.000000</td>\n",
              "      <td>0.000000</td>\n",
              "      <td>0.000000</td>\n",
              "      <td>0.000000</td>\n",
              "      <td>0.000000</td>\n",
              "    </tr>\n",
              "    <tr>\n",
              "      <th>25%</th>\n",
              "      <td>0.000000</td>\n",
              "      <td>0.000000</td>\n",
              "      <td>0.000000</td>\n",
              "      <td>0.000000</td>\n",
              "      <td>0.000000</td>\n",
              "      <td>0.000000</td>\n",
              "    </tr>\n",
              "    <tr>\n",
              "      <th>50%</th>\n",
              "      <td>0.000000</td>\n",
              "      <td>0.000000</td>\n",
              "      <td>0.000000</td>\n",
              "      <td>0.000000</td>\n",
              "      <td>0.000000</td>\n",
              "      <td>0.000000</td>\n",
              "    </tr>\n",
              "    <tr>\n",
              "      <th>75%</th>\n",
              "      <td>0.000000</td>\n",
              "      <td>0.000000</td>\n",
              "      <td>0.000000</td>\n",
              "      <td>0.000000</td>\n",
              "      <td>0.000000</td>\n",
              "      <td>1.098612</td>\n",
              "    </tr>\n",
              "    <tr>\n",
              "      <th>max</th>\n",
              "      <td>1.386294</td>\n",
              "      <td>1.386294</td>\n",
              "      <td>1.609438</td>\n",
              "      <td>1.098612</td>\n",
              "      <td>2.564949</td>\n",
              "      <td>5.204007</td>\n",
              "    </tr>\n",
              "  </tbody>\n",
              "</table>\n",
              "</div>\n",
              "      <button class=\"colab-df-convert\" onclick=\"convertToInteractive('df-97649eb3-f747-44fe-94d8-12285bc43af3')\"\n",
              "              title=\"Convert this dataframe to an interactive table.\"\n",
              "              style=\"display:none;\">\n",
              "        \n",
              "  <svg xmlns=\"http://www.w3.org/2000/svg\" height=\"24px\"viewBox=\"0 0 24 24\"\n",
              "       width=\"24px\">\n",
              "    <path d=\"M0 0h24v24H0V0z\" fill=\"none\"/>\n",
              "    <path d=\"M18.56 5.44l.94 2.06.94-2.06 2.06-.94-2.06-.94-.94-2.06-.94 2.06-2.06.94zm-11 1L8.5 8.5l.94-2.06 2.06-.94-2.06-.94L8.5 2.5l-.94 2.06-2.06.94zm10 10l.94 2.06.94-2.06 2.06-.94-2.06-.94-.94-2.06-.94 2.06-2.06.94z\"/><path d=\"M17.41 7.96l-1.37-1.37c-.4-.4-.92-.59-1.43-.59-.52 0-1.04.2-1.43.59L10.3 9.45l-7.72 7.72c-.78.78-.78 2.05 0 2.83L4 21.41c.39.39.9.59 1.41.59.51 0 1.02-.2 1.41-.59l7.78-7.78 2.81-2.81c.8-.78.8-2.07 0-2.86zM5.41 20L4 18.59l7.72-7.72 1.47 1.35L5.41 20z\"/>\n",
              "  </svg>\n",
              "      </button>\n",
              "      \n",
              "  <style>\n",
              "    .colab-df-container {\n",
              "      display:flex;\n",
              "      flex-wrap:wrap;\n",
              "      gap: 12px;\n",
              "    }\n",
              "\n",
              "    .colab-df-convert {\n",
              "      background-color: #E8F0FE;\n",
              "      border: none;\n",
              "      border-radius: 50%;\n",
              "      cursor: pointer;\n",
              "      display: none;\n",
              "      fill: #1967D2;\n",
              "      height: 32px;\n",
              "      padding: 0 0 0 0;\n",
              "      width: 32px;\n",
              "    }\n",
              "\n",
              "    .colab-df-convert:hover {\n",
              "      background-color: #E2EBFA;\n",
              "      box-shadow: 0px 1px 2px rgba(60, 64, 67, 0.3), 0px 1px 3px 1px rgba(60, 64, 67, 0.15);\n",
              "      fill: #174EA6;\n",
              "    }\n",
              "\n",
              "    [theme=dark] .colab-df-convert {\n",
              "      background-color: #3B4455;\n",
              "      fill: #D2E3FC;\n",
              "    }\n",
              "\n",
              "    [theme=dark] .colab-df-convert:hover {\n",
              "      background-color: #434B5C;\n",
              "      box-shadow: 0px 1px 3px 1px rgba(0, 0, 0, 0.15);\n",
              "      filter: drop-shadow(0px 1px 2px rgba(0, 0, 0, 0.3));\n",
              "      fill: #FFFFFF;\n",
              "    }\n",
              "  </style>\n",
              "\n",
              "      <script>\n",
              "        const buttonEl =\n",
              "          document.querySelector('#df-97649eb3-f747-44fe-94d8-12285bc43af3 button.colab-df-convert');\n",
              "        buttonEl.style.display =\n",
              "          google.colab.kernel.accessAllowed ? 'block' : 'none';\n",
              "\n",
              "        async function convertToInteractive(key) {\n",
              "          const element = document.querySelector('#df-97649eb3-f747-44fe-94d8-12285bc43af3');\n",
              "          const dataTable =\n",
              "            await google.colab.kernel.invokeFunction('convertToInteractive',\n",
              "                                                     [key], {});\n",
              "          if (!dataTable) return;\n",
              "\n",
              "          const docLinkHtml = 'Like what you see? Visit the ' +\n",
              "            '<a target=\"_blank\" href=https://colab.research.google.com/notebooks/data_table.ipynb>data table notebook</a>'\n",
              "            + ' to learn more about interactive tables.';\n",
              "          element.innerHTML = '';\n",
              "          dataTable['output_type'] = 'display_data';\n",
              "          await google.colab.output.renderOutput(dataTable, element);\n",
              "          const docLink = document.createElement('div');\n",
              "          docLink.innerHTML = docLinkHtml;\n",
              "          element.appendChild(docLink);\n",
              "        }\n",
              "      </script>\n",
              "    </div>\n",
              "  </div>\n",
              "  "
            ]
          },
          "metadata": {},
          "execution_count": 15
        }
      ],
      "source": [
        "col = ['assists','bonus','goals_scored','penalties_saved','saves','threat']\n",
        "col_log = df[col].transform(lambda x: np.log(x+1))\n",
        "col_log.describe()"
      ]
    },
    {
      "cell_type": "code",
      "execution_count": null,
      "metadata": {
        "colab": {
          "base_uri": "https://localhost:8080/"
        },
        "id": "ZzZ5pM_YCBg6",
        "outputId": "236f0505-2f1f-44af-92d4-f059fbc39419"
      },
      "outputs": [
        {
          "output_type": "execute_result",
          "data": {
            "text/plain": [
              "assists             5.171019\n",
              "bonus               4.382334\n",
              "goals_scored        5.065826\n",
              "penalties_saved    38.817992\n",
              "saves               6.193471\n",
              "threat              1.444424\n",
              "dtype: float64"
            ]
          },
          "metadata": {},
          "execution_count": 16
        }
      ],
      "source": [
        "col_log.skew()\n",
        "# threat 뺴고 모두 3이 넘으므로 threat만 남김"
      ]
    },
    {
      "cell_type": "code",
      "execution_count": null,
      "metadata": {
        "colab": {
          "base_uri": "https://localhost:8080/",
          "height": 300
        },
        "id": "8njQDak-YD3H",
        "outputId": "917e09ee-5baf-48e3-c886-8ce30e2ffd00"
      },
      "outputs": [
        {
          "output_type": "execute_result",
          "data": {
            "text/plain": [
              "       goals_conceded     influence       minutes  team_a_score  team_h_score  \\\n",
              "count    22502.000000  22502.000000  22502.000000  22502.000000  22502.000000   \n",
              "mean         0.505466      7.396116     33.292107      1.199404      1.513821   \n",
              "std          0.955543     12.883909     40.671211      1.190049      1.245430   \n",
              "min          0.000000      0.000000      0.000000      0.000000      0.000000   \n",
              "25%          0.000000      0.000000      0.000000      0.000000      1.000000   \n",
              "50%          0.000000      0.000000      0.000000      1.000000      1.000000   \n",
              "75%          1.000000     11.200000     90.000000      2.000000      2.000000   \n",
              "max          9.000000    144.000000     90.000000      9.000000      8.000000   \n",
              "\n",
              "       total_points           ppm        threat  \n",
              "count  22502.000000  22502.000000  22502.000000  \n",
              "mean       1.378189      0.249703      0.744974  \n",
              "std        2.502970      0.445899      1.267869  \n",
              "min       -6.000000     -1.250000      0.000000  \n",
              "25%        0.000000      0.000000      0.000000  \n",
              "50%        0.000000      0.000000      0.000000  \n",
              "75%        2.000000      0.333333      1.098612  \n",
              "max       26.000000      4.468085      5.204007  "
            ],
            "text/html": [
              "\n",
              "  <div id=\"df-af6c9729-a7c0-460f-bdf7-aa24e548706e\">\n",
              "    <div class=\"colab-df-container\">\n",
              "      <div>\n",
              "<style scoped>\n",
              "    .dataframe tbody tr th:only-of-type {\n",
              "        vertical-align: middle;\n",
              "    }\n",
              "\n",
              "    .dataframe tbody tr th {\n",
              "        vertical-align: top;\n",
              "    }\n",
              "\n",
              "    .dataframe thead th {\n",
              "        text-align: right;\n",
              "    }\n",
              "</style>\n",
              "<table border=\"1\" class=\"dataframe\">\n",
              "  <thead>\n",
              "    <tr style=\"text-align: right;\">\n",
              "      <th></th>\n",
              "      <th>goals_conceded</th>\n",
              "      <th>influence</th>\n",
              "      <th>minutes</th>\n",
              "      <th>team_a_score</th>\n",
              "      <th>team_h_score</th>\n",
              "      <th>total_points</th>\n",
              "      <th>ppm</th>\n",
              "      <th>threat</th>\n",
              "    </tr>\n",
              "  </thead>\n",
              "  <tbody>\n",
              "    <tr>\n",
              "      <th>count</th>\n",
              "      <td>22502.000000</td>\n",
              "      <td>22502.000000</td>\n",
              "      <td>22502.000000</td>\n",
              "      <td>22502.000000</td>\n",
              "      <td>22502.000000</td>\n",
              "      <td>22502.000000</td>\n",
              "      <td>22502.000000</td>\n",
              "      <td>22502.000000</td>\n",
              "    </tr>\n",
              "    <tr>\n",
              "      <th>mean</th>\n",
              "      <td>0.505466</td>\n",
              "      <td>7.396116</td>\n",
              "      <td>33.292107</td>\n",
              "      <td>1.199404</td>\n",
              "      <td>1.513821</td>\n",
              "      <td>1.378189</td>\n",
              "      <td>0.249703</td>\n",
              "      <td>0.744974</td>\n",
              "    </tr>\n",
              "    <tr>\n",
              "      <th>std</th>\n",
              "      <td>0.955543</td>\n",
              "      <td>12.883909</td>\n",
              "      <td>40.671211</td>\n",
              "      <td>1.190049</td>\n",
              "      <td>1.245430</td>\n",
              "      <td>2.502970</td>\n",
              "      <td>0.445899</td>\n",
              "      <td>1.267869</td>\n",
              "    </tr>\n",
              "    <tr>\n",
              "      <th>min</th>\n",
              "      <td>0.000000</td>\n",
              "      <td>0.000000</td>\n",
              "      <td>0.000000</td>\n",
              "      <td>0.000000</td>\n",
              "      <td>0.000000</td>\n",
              "      <td>-6.000000</td>\n",
              "      <td>-1.250000</td>\n",
              "      <td>0.000000</td>\n",
              "    </tr>\n",
              "    <tr>\n",
              "      <th>25%</th>\n",
              "      <td>0.000000</td>\n",
              "      <td>0.000000</td>\n",
              "      <td>0.000000</td>\n",
              "      <td>0.000000</td>\n",
              "      <td>1.000000</td>\n",
              "      <td>0.000000</td>\n",
              "      <td>0.000000</td>\n",
              "      <td>0.000000</td>\n",
              "    </tr>\n",
              "    <tr>\n",
              "      <th>50%</th>\n",
              "      <td>0.000000</td>\n",
              "      <td>0.000000</td>\n",
              "      <td>0.000000</td>\n",
              "      <td>1.000000</td>\n",
              "      <td>1.000000</td>\n",
              "      <td>0.000000</td>\n",
              "      <td>0.000000</td>\n",
              "      <td>0.000000</td>\n",
              "    </tr>\n",
              "    <tr>\n",
              "      <th>75%</th>\n",
              "      <td>1.000000</td>\n",
              "      <td>11.200000</td>\n",
              "      <td>90.000000</td>\n",
              "      <td>2.000000</td>\n",
              "      <td>2.000000</td>\n",
              "      <td>2.000000</td>\n",
              "      <td>0.333333</td>\n",
              "      <td>1.098612</td>\n",
              "    </tr>\n",
              "    <tr>\n",
              "      <th>max</th>\n",
              "      <td>9.000000</td>\n",
              "      <td>144.000000</td>\n",
              "      <td>90.000000</td>\n",
              "      <td>9.000000</td>\n",
              "      <td>8.000000</td>\n",
              "      <td>26.000000</td>\n",
              "      <td>4.468085</td>\n",
              "      <td>5.204007</td>\n",
              "    </tr>\n",
              "  </tbody>\n",
              "</table>\n",
              "</div>\n",
              "      <button class=\"colab-df-convert\" onclick=\"convertToInteractive('df-af6c9729-a7c0-460f-bdf7-aa24e548706e')\"\n",
              "              title=\"Convert this dataframe to an interactive table.\"\n",
              "              style=\"display:none;\">\n",
              "        \n",
              "  <svg xmlns=\"http://www.w3.org/2000/svg\" height=\"24px\"viewBox=\"0 0 24 24\"\n",
              "       width=\"24px\">\n",
              "    <path d=\"M0 0h24v24H0V0z\" fill=\"none\"/>\n",
              "    <path d=\"M18.56 5.44l.94 2.06.94-2.06 2.06-.94-2.06-.94-.94-2.06-.94 2.06-2.06.94zm-11 1L8.5 8.5l.94-2.06 2.06-.94-2.06-.94L8.5 2.5l-.94 2.06-2.06.94zm10 10l.94 2.06.94-2.06 2.06-.94-2.06-.94-.94-2.06-.94 2.06-2.06.94z\"/><path d=\"M17.41 7.96l-1.37-1.37c-.4-.4-.92-.59-1.43-.59-.52 0-1.04.2-1.43.59L10.3 9.45l-7.72 7.72c-.78.78-.78 2.05 0 2.83L4 21.41c.39.39.9.59 1.41.59.51 0 1.02-.2 1.41-.59l7.78-7.78 2.81-2.81c.8-.78.8-2.07 0-2.86zM5.41 20L4 18.59l7.72-7.72 1.47 1.35L5.41 20z\"/>\n",
              "  </svg>\n",
              "      </button>\n",
              "      \n",
              "  <style>\n",
              "    .colab-df-container {\n",
              "      display:flex;\n",
              "      flex-wrap:wrap;\n",
              "      gap: 12px;\n",
              "    }\n",
              "\n",
              "    .colab-df-convert {\n",
              "      background-color: #E8F0FE;\n",
              "      border: none;\n",
              "      border-radius: 50%;\n",
              "      cursor: pointer;\n",
              "      display: none;\n",
              "      fill: #1967D2;\n",
              "      height: 32px;\n",
              "      padding: 0 0 0 0;\n",
              "      width: 32px;\n",
              "    }\n",
              "\n",
              "    .colab-df-convert:hover {\n",
              "      background-color: #E2EBFA;\n",
              "      box-shadow: 0px 1px 2px rgba(60, 64, 67, 0.3), 0px 1px 3px 1px rgba(60, 64, 67, 0.15);\n",
              "      fill: #174EA6;\n",
              "    }\n",
              "\n",
              "    [theme=dark] .colab-df-convert {\n",
              "      background-color: #3B4455;\n",
              "      fill: #D2E3FC;\n",
              "    }\n",
              "\n",
              "    [theme=dark] .colab-df-convert:hover {\n",
              "      background-color: #434B5C;\n",
              "      box-shadow: 0px 1px 3px 1px rgba(0, 0, 0, 0.15);\n",
              "      filter: drop-shadow(0px 1px 2px rgba(0, 0, 0, 0.3));\n",
              "      fill: #FFFFFF;\n",
              "    }\n",
              "  </style>\n",
              "\n",
              "      <script>\n",
              "        const buttonEl =\n",
              "          document.querySelector('#df-af6c9729-a7c0-460f-bdf7-aa24e548706e button.colab-df-convert');\n",
              "        buttonEl.style.display =\n",
              "          google.colab.kernel.accessAllowed ? 'block' : 'none';\n",
              "\n",
              "        async function convertToInteractive(key) {\n",
              "          const element = document.querySelector('#df-af6c9729-a7c0-460f-bdf7-aa24e548706e');\n",
              "          const dataTable =\n",
              "            await google.colab.kernel.invokeFunction('convertToInteractive',\n",
              "                                                     [key], {});\n",
              "          if (!dataTable) return;\n",
              "\n",
              "          const docLinkHtml = 'Like what you see? Visit the ' +\n",
              "            '<a target=\"_blank\" href=https://colab.research.google.com/notebooks/data_table.ipynb>data table notebook</a>'\n",
              "            + ' to learn more about interactive tables.';\n",
              "          element.innerHTML = '';\n",
              "          dataTable['output_type'] = 'display_data';\n",
              "          await google.colab.output.renderOutput(dataTable, element);\n",
              "          const docLink = document.createElement('div');\n",
              "          docLink.innerHTML = docLinkHtml;\n",
              "          element.appendChild(docLink);\n",
              "        }\n",
              "      </script>\n",
              "    </div>\n",
              "  </div>\n",
              "  "
            ]
          },
          "metadata": {},
          "execution_count": 17
        }
      ],
      "source": [
        "cols = ['goals_conceded','influence', 'minutes','team_a_score','team_h_score','total_points', 'ppm', 'threat']\n",
        "df['threat'] = df['threat'].transform(lambda x: np.log(x+1))\n",
        "df[cols].describe()"
      ]
    },
    {
      "cell_type": "code",
      "execution_count": null,
      "metadata": {
        "colab": {
          "base_uri": "https://localhost:8080/"
        },
        "id": "YJtl-KLPYKPW",
        "outputId": "3eede2c4-f1a3-470a-81c0-6934939b158f"
      },
      "outputs": [
        {
          "output_type": "execute_result",
          "data": {
            "text/plain": [
              "goals_conceded    2.392690\n",
              "influence         2.536058\n",
              "minutes           0.534550\n",
              "team_a_score      1.504778\n",
              "team_h_score      0.936209\n",
              "total_points      2.757586\n",
              "ppm               2.636021\n",
              "threat            1.444424\n",
              "dtype: float64"
            ]
          },
          "metadata": {},
          "execution_count": 18
        }
      ],
      "source": [
        "df[cols].skew()"
      ]
    },
    {
      "cell_type": "code",
      "execution_count": null,
      "metadata": {
        "colab": {
          "base_uri": "https://localhost:8080/"
        },
        "id": "mbqm16Wl6Eko",
        "outputId": "ca8f73c6-0fd3-4294-bebf-4373e193f266"
      },
      "outputs": [
        {
          "output_type": "execute_result",
          "data": {
            "text/plain": [
              "goals_conceded    7.561119\n",
              "influence         8.751411\n",
              "minutes          -1.610718\n",
              "team_a_score      4.872359\n",
              "team_h_score      1.435998\n",
              "total_points      9.349458\n",
              "ppm               8.308073\n",
              "threat            0.652287\n",
              "dtype: float64"
            ]
          },
          "metadata": {},
          "execution_count": 19
        }
      ],
      "source": [
        "df[cols].kurtosis()"
      ]
    },
    {
      "cell_type": "code",
      "execution_count": null,
      "metadata": {
        "colab": {
          "base_uri": "https://localhost:8080/",
          "height": 346
        },
        "id": "gup2vtGYroNs",
        "outputId": "b3e4c82f-d8a0-49c6-e749-ae2bb5402d5d"
      },
      "outputs": [
        {
          "output_type": "display_data",
          "data": {
            "text/plain": [
              "<Figure size 1500x400 with 8 Axes>"
            ],
            "image/png": "[encoded data removed]"
          },
          "metadata": {}
        }
      ],
      "source": [
        "import matplotlib.pyplot as plt\n",
        "import seaborn as sns\n",
        "\n",
        "fig, axes = plt.subplots(1, 8, figsize=(15, 4))\n",
        "\n",
        "sns.histplot(ax=axes[0], data=df, x=\"goals_conceded\", kde=True, bins=20);\n",
        "sns.histplot(ax=axes[1], data=df, x=\"influence\", kde=True, bins=20);\n",
        "sns.histplot(ax=axes[2], data=df, x=\"minutes\", kde=True, bins=20)\n",
        "sns.histplot(ax=axes[3], data=df, x=\"team_a_score\", kde=True, bins=20)\n",
        "sns.histplot(ax=axes[4], data=df, x=\"team_h_score\", kde=True, bins=20)\n",
        "sns.histplot(ax=axes[5], data=df, x=\"total_points\", kde=True, bins=20)\n",
        "sns.histplot(ax=axes[6], data=df, x=\"ppm\", kde=True, bins=20)\n",
        "sns.histplot(ax=axes[7], data=df, x=\"threat\", kde=True, bins=20)\n",
        "plt.show()"
      ]
    },
    {
      "cell_type": "code",
      "execution_count": null,
      "metadata": {
        "colab": {
          "base_uri": "https://localhost:8080/",
          "height": 385
        },
        "id": "OrF3jBp1u7TZ",
        "outputId": "6f29873b-5e14-4679-c2a7-2b7a4ba01b4b"
      },
      "outputs": [
        {
          "output_type": "execute_result",
          "data": {
            "text/plain": [
              "<Axes: xlabel='threat'>"
            ]
          },
          "metadata": {},
          "execution_count": 21
        },
        {
          "output_type": "display_data",
          "data": {
            "text/plain": [
              "<Figure size 1500x400 with 8 Axes>"
            ],
            "image/png": "[encoded data removed]"
          },
          "metadata": {}
        }
      ],
      "source": [
        "sns.set_style('whitegrid')\n",
        "\n",
        "fig, axes = plt.subplots(1, 8, figsize=(15, 4))\n",
        "\n",
        "sns.boxplot(ax=axes[0], x = 'goals_conceded', data = df)\n",
        "sns.boxplot(ax=axes[1], x = 'influence', data = df)\n",
        "sns.boxplot(ax=axes[2], x = 'minutes', data = df)\n",
        "sns.boxplot(ax=axes[3], x = 'team_a_score', data = df)\n",
        "sns.boxplot(ax=axes[4], x = 'team_h_score', data = df)\n",
        "sns.boxplot(ax=axes[5], x = 'total_points', data = df)\n",
        "sns.boxplot(ax=axes[6], x = 'ppm', data = df)\n",
        "sns.boxplot(ax=axes[7], x = 'threat', data = df)\n",
        "#minutes 뺴고 이상값이 있음"
      ]
    },
    {
      "cell_type": "code",
      "execution_count": null,
      "metadata": {
        "colab": {
          "base_uri": "https://localhost:8080/"
        },
        "id": "1kOnEAI2vhZi",
        "outputId": "43b975e9-ec8d-486b-9c5d-92b2e745ab40"
      },
      "outputs": [
        {
          "output_type": "stream",
          "name": "stdout",
          "text": [
            "goals_conceded     1.000000\n",
            "influence         11.200000\n",
            "minutes           90.000000\n",
            "team_a_score       2.000000\n",
            "team_h_score       1.000000\n",
            "total_points       2.000000\n",
            "ppm                0.333333\n",
            "threat             1.098612\n",
            "dtype: float64\n"
          ]
        }
      ],
      "source": [
        "Q1 = df[['goals_conceded','influence', 'minutes','team_a_score','team_h_score','total_points', 'ppm', 'threat']].quantile(0.25)\n",
        "Q3 = df[['goals_conceded','influence', 'minutes','team_a_score','team_h_score','total_points', 'ppm', 'threat']].quantile(0.75)\n",
        "IQR = Q3 - Q1\n",
        "print(IQR)"
      ]
    },
    {
      "cell_type": "code",
      "execution_count": null,
      "metadata": {
        "colab": {
          "base_uri": "https://localhost:8080/"
        },
        "id": "mKr050gn5cyl",
        "outputId": "0d324298-c201-4dff-b4a0-97154eb34b9f"
      },
      "outputs": [
        {
          "output_type": "stream",
          "name": "stdout",
          "text": [
            "goals_conceded     -3.000000\n",
            "influence         -33.600000\n",
            "minutes          -270.000000\n",
            "team_a_score       -6.000000\n",
            "team_h_score       -2.000000\n",
            "total_points       -6.000000\n",
            "ppm                -1.000000\n",
            "threat             -3.295837\n",
            "dtype: float64\n"
          ]
        }
      ],
      "source": [
        "Lower = Q1 - 3.0*IQR\n",
        "Upper = Q3 + 3.0*IQR\n",
        "print(Lower)"
      ]
    },
    {
      "cell_type": "code",
      "execution_count": null,
      "metadata": {
        "colab": {
          "base_uri": "https://localhost:8080/"
        },
        "id": "0OZLhgjR5iB-",
        "outputId": "3af9b618-719e-41c2-d0c1-21f3bc004331"
      },
      "outputs": [
        {
          "output_type": "stream",
          "name": "stdout",
          "text": [
            "goals_conceded      4.000000\n",
            "influence          44.800000\n",
            "minutes           360.000000\n",
            "team_a_score        8.000000\n",
            "team_h_score        5.000000\n",
            "total_points        8.000000\n",
            "ppm                 1.333333\n",
            "threat              4.394449\n",
            "dtype: float64\n"
          ]
        }
      ],
      "source": [
        "print(Upper)"
      ]
    },
    {
      "cell_type": "code",
      "execution_count": null,
      "metadata": {
        "colab": {
          "base_uri": "https://localhost:8080/"
        },
        "id": "mryyV-nt5pqC",
        "outputId": "3dee877d-542c-4faf-e4f3-30cbc3fcc152"
      },
      "outputs": [
        {
          "output_type": "execute_result",
          "data": {
            "text/plain": [
              "(19097, 36)"
            ]
          },
          "metadata": {},
          "execution_count": 25
        }
      ],
      "source": [
        "c1 = df['goals_conceded'] <= 4.0\n",
        "c2 = df['influence'] <= 44.80\n",
        "c3 = df['team_a_score']<=8.00\n",
        "c4 = df['team_h_score'] <= 5.00\n",
        "c5 = df['total_points'] <= 8.00\n",
        "c6 = df['total_points'] >= -6.00\n",
        "c7 = df['ppm'] <= 1.33\n",
        "c8 = df['ppm'] >= -1.00\n",
        "c9 = df['threat'] <= 2.97\n",
        "\n",
        "df1 = df[c1 & c2 & c3 & c4 & c5 & c6 & c7 & c8 & c9]\n",
        "df1.shape"
      ]
    },
    {
      "cell_type": "code",
      "execution_count": null,
      "metadata": {
        "colab": {
          "base_uri": "https://localhost:8080/"
        },
        "id": "-obVhZSlfzyP",
        "outputId": "4bac537c-017f-4413-98c5-f972cbc1a28f"
      },
      "outputs": [
        {
          "output_type": "execute_result",
          "data": {
            "text/plain": [
              "Index(['id', 'assists', 'bonus', 'bps', 'clean_sheets', 'creativity',\n",
              "       'element', 'fixture', 'goals_conceded', 'goals_scored', 'ict_index',\n",
              "       'influence', 'kickoff_time', 'minutes', 'opponent_team', 'own_goals',\n",
              "       'penalties_missed', 'penalties_saved', 'red_cards', 'round', 'saves',\n",
              "       'selected', 'team_a_score', 'team_h_score', 'threat', 'total_points',\n",
              "       'transfers_balance', 'transfers_in', 'transfers_out', 'value',\n",
              "       'was_home', 'yellow_cards', 'full', 'team', 'ppm', 'creativity_B'],\n",
              "      dtype='object')"
            ]
          },
          "metadata": {},
          "execution_count": 26
        }
      ],
      "source": [
        "df1.columns"
      ]
    },
    {
      "cell_type": "code",
      "execution_count": null,
      "metadata": {
        "colab": {
          "base_uri": "https://localhost:8080/",
          "height": 300
        },
        "id": "eQORXTCB6hRs",
        "outputId": "3ff4e773-c456-471d-a609-9391e11425cf"
      },
      "outputs": [
        {
          "output_type": "execute_result",
          "data": {
            "text/plain": [
              "                goals_conceded  influence  minutes  team_a_score  \\\n",
              "goals_conceded            1.00       0.58     0.71          0.12   \n",
              "influence                 0.58       1.00     0.81          0.03   \n",
              "minutes                   0.71       0.81     1.00          0.00   \n",
              "team_a_score              0.12       0.03     0.00          1.00   \n",
              "team_h_score              0.14       0.01    -0.00         -0.23   \n",
              "total_points              0.28       0.68     0.73         -0.04   \n",
              "ppm                       0.29       0.69     0.74         -0.04   \n",
              "threat                    0.39       0.42     0.57         -0.01   \n",
              "\n",
              "                team_h_score  total_points   ppm  threat  \n",
              "goals_conceded          0.14          0.28  0.29    0.39  \n",
              "influence               0.01          0.68  0.69    0.42  \n",
              "minutes                -0.00          0.73  0.74    0.57  \n",
              "team_a_score           -0.23         -0.04 -0.04   -0.01  \n",
              "team_h_score            1.00         -0.03 -0.04   -0.02  \n",
              "total_points           -0.03          1.00  0.99    0.47  \n",
              "ppm                    -0.04          0.99  1.00    0.45  \n",
              "threat                 -0.02          0.47  0.45    1.00  "
            ],
            "text/html": [
              "\n",
              "  <div id=\"df-a6a8da26-65c3-4e10-8da6-3fe8533df3ed\">\n",
              "    <div class=\"colab-df-container\">\n",
              "      <div>\n",
              "<style scoped>\n",
              "    .dataframe tbody tr th:only-of-type {\n",
              "        vertical-align: middle;\n",
              "    }\n",
              "\n",
              "    .dataframe tbody tr th {\n",
              "        vertical-align: top;\n",
              "    }\n",
              "\n",
              "    .dataframe thead th {\n",
              "        text-align: right;\n",
              "    }\n",
              "</style>\n",
              "<table border=\"1\" class=\"dataframe\">\n",
              "  <thead>\n",
              "    <tr style=\"text-align: right;\">\n",
              "      <th></th>\n",
              "      <th>goals_conceded</th>\n",
              "      <th>influence</th>\n",
              "      <th>minutes</th>\n",
              "      <th>team_a_score</th>\n",
              "      <th>team_h_score</th>\n",
              "      <th>total_points</th>\n",
              "      <th>ppm</th>\n",
              "      <th>threat</th>\n",
              "    </tr>\n",
              "  </thead>\n",
              "  <tbody>\n",
              "    <tr>\n",
              "      <th>goals_conceded</th>\n",
              "      <td>1.00</td>\n",
              "      <td>0.58</td>\n",
              "      <td>0.71</td>\n",
              "      <td>0.12</td>\n",
              "      <td>0.14</td>\n",
              "      <td>0.28</td>\n",
              "      <td>0.29</td>\n",
              "      <td>0.39</td>\n",
              "    </tr>\n",
              "    <tr>\n",
              "      <th>influence</th>\n",
              "      <td>0.58</td>\n",
              "      <td>1.00</td>\n",
              "      <td>0.81</td>\n",
              "      <td>0.03</td>\n",
              "      <td>0.01</td>\n",
              "      <td>0.68</td>\n",
              "      <td>0.69</td>\n",
              "      <td>0.42</td>\n",
              "    </tr>\n",
              "    <tr>\n",
              "      <th>minutes</th>\n",
              "      <td>0.71</td>\n",
              "      <td>0.81</td>\n",
              "      <td>1.00</td>\n",
              "      <td>0.00</td>\n",
              "      <td>-0.00</td>\n",
              "      <td>0.73</td>\n",
              "      <td>0.74</td>\n",
              "      <td>0.57</td>\n",
              "    </tr>\n",
              "    <tr>\n",
              "      <th>team_a_score</th>\n",
              "      <td>0.12</td>\n",
              "      <td>0.03</td>\n",
              "      <td>0.00</td>\n",
              "      <td>1.00</td>\n",
              "      <td>-0.23</td>\n",
              "      <td>-0.04</td>\n",
              "      <td>-0.04</td>\n",
              "      <td>-0.01</td>\n",
              "    </tr>\n",
              "    <tr>\n",
              "      <th>team_h_score</th>\n",
              "      <td>0.14</td>\n",
              "      <td>0.01</td>\n",
              "      <td>-0.00</td>\n",
              "      <td>-0.23</td>\n",
              "      <td>1.00</td>\n",
              "      <td>-0.03</td>\n",
              "      <td>-0.04</td>\n",
              "      <td>-0.02</td>\n",
              "    </tr>\n",
              "    <tr>\n",
              "      <th>total_points</th>\n",
              "      <td>0.28</td>\n",
              "      <td>0.68</td>\n",
              "      <td>0.73</td>\n",
              "      <td>-0.04</td>\n",
              "      <td>-0.03</td>\n",
              "      <td>1.00</td>\n",
              "      <td>0.99</td>\n",
              "      <td>0.47</td>\n",
              "    </tr>\n",
              "    <tr>\n",
              "      <th>ppm</th>\n",
              "      <td>0.29</td>\n",
              "      <td>0.69</td>\n",
              "      <td>0.74</td>\n",
              "      <td>-0.04</td>\n",
              "      <td>-0.04</td>\n",
              "      <td>0.99</td>\n",
              "      <td>1.00</td>\n",
              "      <td>0.45</td>\n",
              "    </tr>\n",
              "    <tr>\n",
              "      <th>threat</th>\n",
              "      <td>0.39</td>\n",
              "      <td>0.42</td>\n",
              "      <td>0.57</td>\n",
              "      <td>-0.01</td>\n",
              "      <td>-0.02</td>\n",
              "      <td>0.47</td>\n",
              "      <td>0.45</td>\n",
              "      <td>1.00</td>\n",
              "    </tr>\n",
              "  </tbody>\n",
              "</table>\n",
              "</div>\n",
              "      <button class=\"colab-df-convert\" onclick=\"convertToInteractive('df-a6a8da26-65c3-4e10-8da6-3fe8533df3ed')\"\n",
              "              title=\"Convert this dataframe to an interactive table.\"\n",
              "              style=\"display:none;\">\n",
              "        \n",
              "  <svg xmlns=\"http://www.w3.org/2000/svg\" height=\"24px\"viewBox=\"0 0 24 24\"\n",
              "       width=\"24px\">\n",
              "    <path d=\"M0 0h24v24H0V0z\" fill=\"none\"/>\n",
              "    <path d=\"M18.56 5.44l.94 2.06.94-2.06 2.06-.94-2.06-.94-.94-2.06-.94 2.06-2.06.94zm-11 1L8.5 8.5l.94-2.06 2.06-.94-2.06-.94L8.5 2.5l-.94 2.06-2.06.94zm10 10l.94 2.06.94-2.06 2.06-.94-2.06-.94-.94-2.06-.94 2.06-2.06.94z\"/><path d=\"M17.41 7.96l-1.37-1.37c-.4-.4-.92-.59-1.43-.59-.52 0-1.04.2-1.43.59L10.3 9.45l-7.72 7.72c-.78.78-.78 2.05 0 2.83L4 21.41c.39.39.9.59 1.41.59.51 0 1.02-.2 1.41-.59l7.78-7.78 2.81-2.81c.8-.78.8-2.07 0-2.86zM5.41 20L4 18.59l7.72-7.72 1.47 1.35L5.41 20z\"/>\n",
              "  </svg>\n",
              "      </button>\n",
              "      \n",
              "  <style>\n",
              "    .colab-df-container {\n",
              "      display:flex;\n",
              "      flex-wrap:wrap;\n",
              "      gap: 12px;\n",
              "    }\n",
              "\n",
              "    .colab-df-convert {\n",
              "      background-color: #E8F0FE;\n",
              "      border: none;\n",
              "      border-radius: 50%;\n",
              "      cursor: pointer;\n",
              "      display: none;\n",
              "      fill: #1967D2;\n",
              "      height: 32px;\n",
              "      padding: 0 0 0 0;\n",
              "      width: 32px;\n",
              "    }\n",
              "\n",
              "    .colab-df-convert:hover {\n",
              "      background-color: #E2EBFA;\n",
              "      box-shadow: 0px 1px 2px rgba(60, 64, 67, 0.3), 0px 1px 3px 1px rgba(60, 64, 67, 0.15);\n",
              "      fill: #174EA6;\n",
              "    }\n",
              "\n",
              "    [theme=dark] .colab-df-convert {\n",
              "      background-color: #3B4455;\n",
              "      fill: #D2E3FC;\n",
              "    }\n",
              "\n",
              "    [theme=dark] .colab-df-convert:hover {\n",
              "      background-color: #434B5C;\n",
              "      box-shadow: 0px 1px 3px 1px rgba(0, 0, 0, 0.15);\n",
              "      filter: drop-shadow(0px 1px 2px rgba(0, 0, 0, 0.3));\n",
              "      fill: #FFFFFF;\n",
              "    }\n",
              "  </style>\n",
              "\n",
              "      <script>\n",
              "        const buttonEl =\n",
              "          document.querySelector('#df-a6a8da26-65c3-4e10-8da6-3fe8533df3ed button.colab-df-convert');\n",
              "        buttonEl.style.display =\n",
              "          google.colab.kernel.accessAllowed ? 'block' : 'none';\n",
              "\n",
              "        async function convertToInteractive(key) {\n",
              "          const element = document.querySelector('#df-a6a8da26-65c3-4e10-8da6-3fe8533df3ed');\n",
              "          const dataTable =\n",
              "            await google.colab.kernel.invokeFunction('convertToInteractive',\n",
              "                                                     [key], {});\n",
              "          if (!dataTable) return;\n",
              "\n",
              "          const docLinkHtml = 'Like what you see? Visit the ' +\n",
              "            '<a target=\"_blank\" href=https://colab.research.google.com/notebooks/data_table.ipynb>data table notebook</a>'\n",
              "            + ' to learn more about interactive tables.';\n",
              "          element.innerHTML = '';\n",
              "          dataTable['output_type'] = 'display_data';\n",
              "          await google.colab.output.renderOutput(dataTable, element);\n",
              "          const docLink = document.createElement('div');\n",
              "          docLink.innerHTML = docLinkHtml;\n",
              "          element.appendChild(docLink);\n",
              "        }\n",
              "      </script>\n",
              "    </div>\n",
              "  </div>\n",
              "  "
            ]
          },
          "metadata": {},
          "execution_count": 27
        }
      ],
      "source": [
        "# 상관계수 검토\n",
        "cols = ['goals_conceded','influence', 'minutes','team_a_score','team_h_score','total_points', 'ppm', 'threat']\n",
        "round(df1[cols].corr(), 2)"
      ]
    },
    {
      "cell_type": "code",
      "execution_count": null,
      "metadata": {
        "colab": {
          "base_uri": "https://localhost:8080/",
          "height": 237
        },
        "id": "krQ7Rh2B66Dh",
        "outputId": "2e0cc0b1-5e3b-4cb0-d58a-59d35d75bcea"
      },
      "outputs": [
        {
          "output_type": "execute_result",
          "data": {
            "text/plain": [
              "                goals_conceded  influence  team_a_score  team_h_score   ppm  \\\n",
              "goals_conceded            1.00       0.58          0.12          0.14  0.29   \n",
              "influence                 0.58       1.00          0.03          0.01  0.69   \n",
              "team_a_score              0.12       0.03          1.00         -0.23 -0.04   \n",
              "team_h_score              0.14       0.01         -0.23          1.00 -0.04   \n",
              "ppm                       0.29       0.69         -0.04         -0.04  1.00   \n",
              "threat                    0.39       0.42         -0.01         -0.02  0.45   \n",
              "\n",
              "                threat  \n",
              "goals_conceded    0.39  \n",
              "influence         0.42  \n",
              "team_a_score     -0.01  \n",
              "team_h_score     -0.02  \n",
              "ppm               0.45  \n",
              "threat            1.00  "
            ],
            "text/html": [
              "\n",
              "  <div id=\"df-82048798-6077-485b-879e-eec2e4c51fcf\">\n",
              "    <div class=\"colab-df-container\">\n",
              "      <div>\n",
              "<style scoped>\n",
              "    .dataframe tbody tr th:only-of-type {\n",
              "        vertical-align: middle;\n",
              "    }\n",
              "\n",
              "    .dataframe tbody tr th {\n",
              "        vertical-align: top;\n",
              "    }\n",
              "\n",
              "    .dataframe thead th {\n",
              "        text-align: right;\n",
              "    }\n",
              "</style>\n",
              "<table border=\"1\" class=\"dataframe\">\n",
              "  <thead>\n",
              "    <tr style=\"text-align: right;\">\n",
              "      <th></th>\n",
              "      <th>goals_conceded</th>\n",
              "      <th>influence</th>\n",
              "      <th>team_a_score</th>\n",
              "      <th>team_h_score</th>\n",
              "      <th>ppm</th>\n",
              "      <th>threat</th>\n",
              "    </tr>\n",
              "  </thead>\n",
              "  <tbody>\n",
              "    <tr>\n",
              "      <th>goals_conceded</th>\n",
              "      <td>1.00</td>\n",
              "      <td>0.58</td>\n",
              "      <td>0.12</td>\n",
              "      <td>0.14</td>\n",
              "      <td>0.29</td>\n",
              "      <td>0.39</td>\n",
              "    </tr>\n",
              "    <tr>\n",
              "      <th>influence</th>\n",
              "      <td>0.58</td>\n",
              "      <td>1.00</td>\n",
              "      <td>0.03</td>\n",
              "      <td>0.01</td>\n",
              "      <td>0.69</td>\n",
              "      <td>0.42</td>\n",
              "    </tr>\n",
              "    <tr>\n",
              "      <th>team_a_score</th>\n",
              "      <td>0.12</td>\n",
              "      <td>0.03</td>\n",
              "      <td>1.00</td>\n",
              "      <td>-0.23</td>\n",
              "      <td>-0.04</td>\n",
              "      <td>-0.01</td>\n",
              "    </tr>\n",
              "    <tr>\n",
              "      <th>team_h_score</th>\n",
              "      <td>0.14</td>\n",
              "      <td>0.01</td>\n",
              "      <td>-0.23</td>\n",
              "      <td>1.00</td>\n",
              "      <td>-0.04</td>\n",
              "      <td>-0.02</td>\n",
              "    </tr>\n",
              "    <tr>\n",
              "      <th>ppm</th>\n",
              "      <td>0.29</td>\n",
              "      <td>0.69</td>\n",
              "      <td>-0.04</td>\n",
              "      <td>-0.04</td>\n",
              "      <td>1.00</td>\n",
              "      <td>0.45</td>\n",
              "    </tr>\n",
              "    <tr>\n",
              "      <th>threat</th>\n",
              "      <td>0.39</td>\n",
              "      <td>0.42</td>\n",
              "      <td>-0.01</td>\n",
              "      <td>-0.02</td>\n",
              "      <td>0.45</td>\n",
              "      <td>1.00</td>\n",
              "    </tr>\n",
              "  </tbody>\n",
              "</table>\n",
              "</div>\n",
              "      <button class=\"colab-df-convert\" onclick=\"convertToInteractive('df-82048798-6077-485b-879e-eec2e4c51fcf')\"\n",
              "              title=\"Convert this dataframe to an interactive table.\"\n",
              "              style=\"display:none;\">\n",
              "        \n",
              "  <svg xmlns=\"http://www.w3.org/2000/svg\" height=\"24px\"viewBox=\"0 0 24 24\"\n",
              "       width=\"24px\">\n",
              "    <path d=\"M0 0h24v24H0V0z\" fill=\"none\"/>\n",
              "    <path d=\"M18.56 5.44l.94 2.06.94-2.06 2.06-.94-2.06-.94-.94-2.06-.94 2.06-2.06.94zm-11 1L8.5 8.5l.94-2.06 2.06-.94-2.06-.94L8.5 2.5l-.94 2.06-2.06.94zm10 10l.94 2.06.94-2.06 2.06-.94-2.06-.94-.94-2.06-.94 2.06-2.06.94z\"/><path d=\"M17.41 7.96l-1.37-1.37c-.4-.4-.92-.59-1.43-.59-.52 0-1.04.2-1.43.59L10.3 9.45l-7.72 7.72c-.78.78-.78 2.05 0 2.83L4 21.41c.39.39.9.59 1.41.59.51 0 1.02-.2 1.41-.59l7.78-7.78 2.81-2.81c.8-.78.8-2.07 0-2.86zM5.41 20L4 18.59l7.72-7.72 1.47 1.35L5.41 20z\"/>\n",
              "  </svg>\n",
              "      </button>\n",
              "      \n",
              "  <style>\n",
              "    .colab-df-container {\n",
              "      display:flex;\n",
              "      flex-wrap:wrap;\n",
              "      gap: 12px;\n",
              "    }\n",
              "\n",
              "    .colab-df-convert {\n",
              "      background-color: #E8F0FE;\n",
              "      border: none;\n",
              "      border-radius: 50%;\n",
              "      cursor: pointer;\n",
              "      display: none;\n",
              "      fill: #1967D2;\n",
              "      height: 32px;\n",
              "      padding: 0 0 0 0;\n",
              "      width: 32px;\n",
              "    }\n",
              "\n",
              "    .colab-df-convert:hover {\n",
              "      background-color: #E2EBFA;\n",
              "      box-shadow: 0px 1px 2px rgba(60, 64, 67, 0.3), 0px 1px 3px 1px rgba(60, 64, 67, 0.15);\n",
              "      fill: #174EA6;\n",
              "    }\n",
              "\n",
              "    [theme=dark] .colab-df-convert {\n",
              "      background-color: #3B4455;\n",
              "      fill: #D2E3FC;\n",
              "    }\n",
              "\n",
              "    [theme=dark] .colab-df-convert:hover {\n",
              "      background-color: #434B5C;\n",
              "      box-shadow: 0px 1px 3px 1px rgba(0, 0, 0, 0.15);\n",
              "      filter: drop-shadow(0px 1px 2px rgba(0, 0, 0, 0.3));\n",
              "      fill: #FFFFFF;\n",
              "    }\n",
              "  </style>\n",
              "\n",
              "      <script>\n",
              "        const buttonEl =\n",
              "          document.querySelector('#df-82048798-6077-485b-879e-eec2e4c51fcf button.colab-df-convert');\n",
              "        buttonEl.style.display =\n",
              "          google.colab.kernel.accessAllowed ? 'block' : 'none';\n",
              "\n",
              "        async function convertToInteractive(key) {\n",
              "          const element = document.querySelector('#df-82048798-6077-485b-879e-eec2e4c51fcf');\n",
              "          const dataTable =\n",
              "            await google.colab.kernel.invokeFunction('convertToInteractive',\n",
              "                                                     [key], {});\n",
              "          if (!dataTable) return;\n",
              "\n",
              "          const docLinkHtml = 'Like what you see? Visit the ' +\n",
              "            '<a target=\"_blank\" href=https://colab.research.google.com/notebooks/data_table.ipynb>data table notebook</a>'\n",
              "            + ' to learn more about interactive tables.';\n",
              "          element.innerHTML = '';\n",
              "          dataTable['output_type'] = 'display_data';\n",
              "          await google.colab.output.renderOutput(dataTable, element);\n",
              "          const docLink = document.createElement('div');\n",
              "          docLink.innerHTML = docLinkHtml;\n",
              "          element.appendChild(docLink);\n",
              "        }\n",
              "      </script>\n",
              "    </div>\n",
              "  </div>\n",
              "  "
            ]
          },
          "metadata": {},
          "execution_count": 28
        }
      ],
      "source": [
        "cols = ['goals_conceded','influence','team_a_score','team_h_score', 'ppm', 'threat']\n",
        "round(df1[cols].corr(), 2)"
      ]
    },
    {
      "cell_type": "code",
      "execution_count": null,
      "metadata": {
        "colab": {
          "base_uri": "https://localhost:8080/"
        },
        "id": "ZvItwQLy7Sh_",
        "outputId": "b0954dcd-f51e-44f9-e7ac-f222cffd040f"
      },
      "outputs": [
        {
          "output_type": "execute_result",
          "data": {
            "text/plain": [
              "Ttest_indResult(statistic=82.85090848714425, pvalue=0.0)"
            ]
          },
          "metadata": {},
          "execution_count": 29
        }
      ],
      "source": [
        "from scipy import stats\n",
        "\n",
        "data_1 = df1[df1['creativity_B'] == 1]['goals_conceded']\n",
        "data_0 = df1[df1['creativity_B'] == 0]['goals_conceded']\n",
        "\n",
        "stats.ttest_ind(data_1, data_0)   # 결과는 pvalue < 0.05"
      ]
    },
    {
      "cell_type": "code",
      "execution_count": null,
      "metadata": {
        "colab": {
          "base_uri": "https://localhost:8080/"
        },
        "id": "lSKrtpjS7rn8",
        "outputId": "97b743bf-51f3-4c70-cc16-4261eb956659"
      },
      "outputs": [
        {
          "output_type": "execute_result",
          "data": {
            "text/plain": [
              "Ttest_indResult(statistic=90.16317909950439, pvalue=0.0)"
            ]
          },
          "metadata": {},
          "execution_count": 30
        }
      ],
      "source": [
        "data_1 = df1[df1['creativity_B'] == 1]['influence']\n",
        "data_0 = df1[df1['creativity_B'] == 0]['influence']\n",
        "\n",
        "stats.ttest_ind(data_1, data_0)   # 결과는 pvalue < 0.05"
      ]
    },
    {
      "cell_type": "code",
      "execution_count": null,
      "metadata": {
        "colab": {
          "base_uri": "https://localhost:8080/"
        },
        "id": "02o7kIrH70Qv",
        "outputId": "fbb63aee-3de6-4a06-f42d-41f8a5067172"
      },
      "outputs": [
        {
          "output_type": "execute_result",
          "data": {
            "text/plain": [
              "Ttest_indResult(statistic=-0.7401351911176779, pvalue=0.459227067091209)"
            ]
          },
          "metadata": {},
          "execution_count": 31
        }
      ],
      "source": [
        "data_1 = df1[df1['creativity_B'] == 1]['team_a_score']\n",
        "data_0 = df1[df1['creativity_B'] == 0]['team_a_score']\n",
        "\n",
        "stats.ttest_ind(data_1, data_0)   # 결과는 pvalue > 0.05"
      ]
    },
    {
      "cell_type": "code",
      "execution_count": null,
      "metadata": {
        "colab": {
          "base_uri": "https://localhost:8080/"
        },
        "id": "TWa-QR4xjr5a",
        "outputId": "48e00c65-34fd-475d-fc55-645a91c0214a"
      },
      "outputs": [
        {
          "output_type": "execute_result",
          "data": {
            "text/plain": [
              "Ttest_indResult(statistic=-0.9690765366095355, pvalue=0.33251927762632316)"
            ]
          },
          "metadata": {},
          "execution_count": 32
        }
      ],
      "source": [
        "data_1 = df1[df1['creativity_B'] == 1]['team_h_score']\n",
        "data_0 = df1[df1['creativity_B'] == 0]['team_h_score']\n",
        "\n",
        "stats.ttest_ind(data_1, data_0)   # 결과는 pvalue > 0.05"
      ]
    },
    {
      "cell_type": "code",
      "execution_count": null,
      "metadata": {
        "colab": {
          "base_uri": "https://localhost:8080/"
        },
        "id": "GKFOejC2jsGd",
        "outputId": "44739026-78b1-4d87-d491-532660cb5560"
      },
      "outputs": [
        {
          "output_type": "execute_result",
          "data": {
            "text/plain": [
              "Ttest_indResult(statistic=96.78077429581462, pvalue=0.0)"
            ]
          },
          "metadata": {},
          "execution_count": 33
        }
      ],
      "source": [
        "data_1 = df1[df1['creativity_B'] == 1]['ppm']\n",
        "data_0 = df1[df1['creativity_B'] == 0]['ppm']\n",
        "\n",
        "stats.ttest_ind(data_1, data_0)   # 결과는 pvalue < 0.05"
      ]
    },
    {
      "cell_type": "code",
      "execution_count": null,
      "metadata": {
        "colab": {
          "base_uri": "https://localhost:8080/"
        },
        "id": "ceYQCn0lj3s8",
        "outputId": "b739b4c7-458b-4f40-b103-3c11271c2d30"
      },
      "outputs": [
        {
          "output_type": "execute_result",
          "data": {
            "text/plain": [
              "Ttest_indResult(statistic=114.7653668874975, pvalue=0.0)"
            ]
          },
          "metadata": {},
          "execution_count": 34
        }
      ],
      "source": [
        "data_1 = df1[df1['creativity_B'] == 1]['threat']\n",
        "data_0 = df1[df1['creativity_B'] == 0]['threat']\n",
        "\n",
        "stats.ttest_ind(data_1, data_0)   # 결과는 pvalue < 0.05"
      ]
    },
    {
      "cell_type": "code",
      "execution_count": null,
      "metadata": {
        "colab": {
          "base_uri": "https://localhost:8080/"
        },
        "id": "Qu8phpi7CPcH",
        "outputId": "fdca158d-fa07-4b3c-fefc-446d316cf335"
      },
      "outputs": [
        {
          "output_type": "stream",
          "name": "stdout",
          "text": [
            "\n",
            "---- opponent_team ---\n",
            "Liverpool           0.050618\n",
            "Sheffield United    0.050440\n",
            "Brighton            0.050440\n",
            "Wolves              0.050351\n",
            "Man City            0.050173\n",
            "Norwich             0.050084\n",
            "Burnley             0.050040\n",
            "Watford             0.050040\n",
            "Tottenham           0.050040\n",
            "Chelsea             0.050040\n",
            "Everton             0.050040\n",
            "Crystal Palace      0.049862\n",
            "Bournemouth         0.049862\n",
            "Southampton         0.049862\n",
            "Leicester           0.049818\n",
            "Aston Villa         0.049818\n",
            "Arsenal             0.049773\n",
            "Newcastle United    0.049640\n",
            "West Ham            0.049551\n",
            "Man Utd             0.049507\n",
            "Name: opponent_team, dtype: float64\n",
            "\n",
            "---- was_home ---\n",
            "False    0.500356\n",
            "True     0.499644\n",
            "Name: was_home, dtype: float64\n",
            "\n",
            "---- team ---\n",
            "Southampton         0.055951\n",
            "West Ham            0.055462\n",
            "Newcastle United    0.055462\n",
            "Man Utd             0.055106\n",
            "Arsenal             0.054751\n",
            "Tottenham           0.054662\n",
            "Bournemouth         0.052173\n",
            "Brighton            0.051195\n",
            "Watford             0.050040\n",
            "Aston Villa         0.049196\n",
            "Everton             0.048973\n",
            "Norwich             0.048662\n",
            "Chelsea             0.048129\n",
            "Liverpool           0.047640\n",
            "Sheffield United    0.046840\n",
            "Crystal Palace      0.046263\n",
            "Wolves              0.046085\n",
            "Leicester           0.045729\n",
            "Burnley             0.045107\n",
            "Man City            0.042574\n",
            "Name: team, dtype: float64\n"
          ]
        }
      ],
      "source": [
        "# 범주형 변수를 cols1에 저장\n",
        "cols1 = ['opponent_team', 'was_home', 'team']\n",
        "df1 = df[cols1]   # 범주형 변수만 모은 cols1로 구성된 데이터프레임 df1을 생성\n",
        "\n",
        "# 데이터프레임 df1안의 컬럼명을 순차적으로 value_counts() 구문에 넣어서 결과 출력\n",
        "for col in df1.columns:\n",
        "    print (\"\")\n",
        "    print (\"---- %s ---\" % col)\n",
        "    print (df[col].value_counts(dropna=False, normalize=True))"
      ]
    },
    {
      "cell_type": "code",
      "execution_count": null,
      "metadata": {
        "colab": {
          "base_uri": "https://localhost:8080/"
        },
        "id": "KSByKvENGXS2",
        "outputId": "3e572cfa-601b-4e4b-b25d-17d98450a76d"
      },
      "outputs": [
        {
          "output_type": "execute_result",
          "data": {
            "text/plain": [
              "was_home  was_home_encoded\n",
              "False     0.0                 11259\n",
              "True      1.0                 11243\n",
              "dtype: int64"
            ]
          },
          "metadata": {},
          "execution_count": 36
        }
      ],
      "source": [
        "from sklearn.preprocessing import OrdinalEncoder   # OrdinalEncoder를 import\n",
        "df['was_home_encoded'] = OrdinalEncoder().fit_transform(df['was_home'].values.reshape(-1,1))\n",
        "df.groupby(['was_home', 'was_home_encoded']).size()   # 변경전후 변수값 비교표 디스플레이"
      ]
    },
    {
      "cell_type": "code",
      "execution_count": null,
      "metadata": {
        "colab": {
          "base_uri": "https://localhost:8080/"
        },
        "id": "b0fk--EQIHb4",
        "outputId": "c1db48c6-d46c-4ab1-d4ac-02a6e6a3efd2"
      },
      "outputs": [
        {
          "output_type": "execute_result",
          "data": {
            "text/plain": [
              "opponent_team     opponent_team_encoded\n",
              "Arsenal           0.0                      1120\n",
              "Aston Villa       1.0                      1121\n",
              "Bournemouth       2.0                      1122\n",
              "Brighton          3.0                      1135\n",
              "Burnley           4.0                      1126\n",
              "Chelsea           5.0                      1126\n",
              "Crystal Palace    6.0                      1122\n",
              "Everton           7.0                      1126\n",
              "Leicester         8.0                      1121\n",
              "Liverpool         9.0                      1139\n",
              "Man City          10.0                     1129\n",
              "Man Utd           11.0                     1114\n",
              "Newcastle United  12.0                     1117\n",
              "Norwich           13.0                     1127\n",
              "Sheffield United  14.0                     1135\n",
              "Southampton       15.0                     1122\n",
              "Tottenham         16.0                     1126\n",
              "Watford           17.0                     1126\n",
              "West Ham          18.0                     1115\n",
              "Wolves            19.0                     1133\n",
              "dtype: int64"
            ]
          },
          "metadata": {},
          "execution_count": 37
        }
      ],
      "source": [
        "from sklearn.preprocessing import OrdinalEncoder   # OrdinalEncoder를 import\n",
        "df['opponent_team_encoded'] = OrdinalEncoder().fit_transform(df['opponent_team'].values.reshape(-1,1))\n",
        "df.groupby(['opponent_team', 'opponent_team_encoded']).size()   # 변경전후 변수값 비교표 디스플레이"
      ]
    },
    {
      "cell_type": "code",
      "execution_count": null,
      "metadata": {
        "colab": {
          "base_uri": "https://localhost:8080/"
        },
        "id": "dUCh1pZRIP2K",
        "outputId": "cd115ee0-1589-44fc-bdb2-f89aa82173c3"
      },
      "outputs": [
        {
          "output_type": "execute_result",
          "data": {
            "text/plain": [
              "team              team_encoded\n",
              "Arsenal           0.0             1232\n",
              "Aston Villa       1.0             1107\n",
              "Bournemouth       2.0             1174\n",
              "Brighton          3.0             1152\n",
              "Burnley           4.0             1015\n",
              "Chelsea           5.0             1083\n",
              "Crystal Palace    6.0             1041\n",
              "Everton           7.0             1102\n",
              "Leicester         8.0             1029\n",
              "Liverpool         9.0             1072\n",
              "Man City          10.0             958\n",
              "Man Utd           11.0            1240\n",
              "Newcastle United  12.0            1248\n",
              "Norwich           13.0            1095\n",
              "Sheffield United  14.0            1054\n",
              "Southampton       15.0            1259\n",
              "Tottenham         16.0            1230\n",
              "Watford           17.0            1126\n",
              "West Ham          18.0            1248\n",
              "Wolves            19.0            1037\n",
              "dtype: int64"
            ]
          },
          "metadata": {},
          "execution_count": 38
        }
      ],
      "source": [
        "from sklearn.preprocessing import OrdinalEncoder   # OrdinalEncoder를 import\n",
        "df['team_encoded'] = OrdinalEncoder().fit_transform(df['team'].values.reshape(-1,1))\n",
        "df.groupby(['team', 'team_encoded']).size()   # 변경전후 변수값 비교표 디스플레이"
      ]
    },
    {
      "cell_type": "code",
      "execution_count": null,
      "metadata": {
        "colab": {
          "base_uri": "https://localhost:8080/"
        },
        "id": "qMA3kzzSI1Ht",
        "outputId": "f467d7c0-8ed3-423c-9bcf-47caeaa8cd18"
      },
      "outputs": [
        {
          "output_type": "execute_result",
          "data": {
            "text/plain": [
              "Index(['id', 'assists', 'bonus', 'bps', 'clean_sheets', 'creativity',\n",
              "       'element', 'fixture', 'goals_conceded', 'goals_scored', 'ict_index',\n",
              "       'influence', 'kickoff_time', 'minutes', 'opponent_team', 'own_goals',\n",
              "       'penalties_missed', 'penalties_saved', 'red_cards', 'round', 'saves',\n",
              "       'selected', 'team_a_score', 'team_h_score', 'threat', 'total_points',\n",
              "       'transfers_balance', 'transfers_in', 'transfers_out', 'value',\n",
              "       'was_home', 'yellow_cards', 'full', 'team', 'ppm', 'creativity_B',\n",
              "       'was_home_encoded', 'opponent_team_encoded', 'team_encoded'],\n",
              "      dtype='object')"
            ]
          },
          "metadata": {},
          "execution_count": 41
        }
      ],
      "source": [
        "df.columns"
      ]
    },
    {
      "cell_type": "code",
      "execution_count": null,
      "metadata": {
        "id": "vTbY1DhvI2Ka"
      },
      "outputs": [],
      "source": [
        "# 범주형 변수 제거\n",
        "df.drop(['opponent_team','team','was_home'],\n",
        "        axis=1, inplace=True)\n",
        "# 구간 변수 제거\n",
        "df.drop(['assists','bonus','goals_scored','penalties_saved','saves',],\n",
        "        axis=1, inplace=True)\n",
        "# 분석에서 제외할 변수 제거\n",
        "df.drop(['bps','element','fixture','ict_index','round','selected','transfers_balance',\n",
        "         'transfers_in', 'transfers_out','value', 'kickoff_time'],\n",
        "        axis=1, inplace=True)\n",
        "df.drop(['id','full'], axis=1, inplace=True)"
      ]
    },
    {
      "cell_type": "code",
      "source": [
        "df.to_csv('/content/drive/MyDrive/Colab Notebooks/project/players_1920_fin_DataCleaning.csv')"
      ],
      "metadata": {
        "id": "Pl4sfBRMSkDj"
      },
      "execution_count": null,
      "outputs": []
    },
    {
      "cell_type": "code",
      "execution_count": null,
      "metadata": {
        "id": "iZxL7TBxeRSa",
        "colab": {
          "base_uri": "https://localhost:8080/"
        },
        "outputId": "41fa5ee5-104f-4a1f-c799-5fcb610e8183"
      },
      "outputs": [
        {
          "output_type": "execute_result",
          "data": {
            "text/plain": [
              "Index(['clean_sheets', 'goals_conceded', 'influence', 'minutes', 'own_goals',\n",
              "       'penalties_missed', 'red_cards', 'team_a_score', 'team_h_score',\n",
              "       'threat', 'total_points', 'yellow_cards', 'ppm', 'creativity_B',\n",
              "       'was_home_encoded', 'opponent_team_encoded', 'team_encoded'],\n",
              "      dtype='object')"
            ]
          },
          "metadata": {},
          "execution_count": 380
        }
      ],
      "source": [
        "df.drop(['creativity'], axis=1, inplace=True) # 기존 연속형 타겟 변수 제거(이진값 타겟 변수로 분석하기 때문)\n",
        "df.columns"
      ]
    },
    {
      "cell_type": "code",
      "execution_count": null,
      "metadata": {
        "id": "Ma-2-r6NJWU3",
        "colab": {
          "base_uri": "https://localhost:8080/"
        },
        "outputId": "f67834db-e4e4-4576-a4d9-b68e8ee24e45"
      },
      "outputs": [
        {
          "output_type": "stream",
          "name": "stdout",
          "text": [
            "<class 'pandas.core.frame.DataFrame'>\n",
            "RangeIndex: 22502 entries, 0 to 22501\n",
            "Data columns (total 18 columns):\n",
            " #   Column                 Non-Null Count  Dtype  \n",
            "---  ------                 --------------  -----  \n",
            " 0   clean_sheets           22502 non-null  int64  \n",
            " 1   creativity             22502 non-null  float64\n",
            " 2   goals_conceded         22502 non-null  int64  \n",
            " 3   influence              22502 non-null  float64\n",
            " 4   minutes                22502 non-null  int64  \n",
            " 5   own_goals              22502 non-null  int64  \n",
            " 6   penalties_missed       22502 non-null  int64  \n",
            " 7   red_cards              22502 non-null  int64  \n",
            " 8   team_a_score           22502 non-null  int64  \n",
            " 9   team_h_score           22502 non-null  int64  \n",
            " 10  threat                 22502 non-null  float64\n",
            " 11  total_points           22502 non-null  int64  \n",
            " 12  yellow_cards           22502 non-null  int64  \n",
            " 13  ppm                    22502 non-null  float64\n",
            " 14  creativity_B           22502 non-null  float64\n",
            " 15  was_home_encoded       22502 non-null  float64\n",
            " 16  opponent_team_encoded  22502 non-null  float64\n",
            " 17  team_encoded           22502 non-null  float64\n",
            "dtypes: float64(8), int64(10)\n",
            "memory usage: 3.1 MB\n"
          ]
        }
      ],
      "source": [
        "df.info()"
      ]
    },
    {
      "cell_type": "code",
      "execution_count": null,
      "metadata": {
        "id": "Q9VgSY1H1tJJ",
        "colab": {
          "base_uri": "https://localhost:8080/",
          "height": 300
        },
        "outputId": "23ca985d-a795-420b-e516-5ac34f5d2cbe"
      },
      "outputs": [
        {
          "output_type": "execute_result",
          "data": {
            "text/plain": [
              "       clean_sheets  opponent_team_encoded     own_goals  penalties_missed  \\\n",
              "count  22502.000000           22502.000000  22502.000000      22502.000000   \n",
              "mean       0.104302               9.501867      0.001467          0.000889   \n",
              "std        0.305658               5.764952      0.038268          0.029800   \n",
              "min        0.000000               0.000000      0.000000          0.000000   \n",
              "25%        0.000000               5.000000      0.000000          0.000000   \n",
              "50%        0.000000               9.000000      0.000000          0.000000   \n",
              "75%        0.000000              14.000000      0.000000          0.000000   \n",
              "max        1.000000              19.000000      1.000000          1.000000   \n",
              "\n",
              "          red_cards  was_home_encoded  yellow_cards  team_encoded  \n",
              "count  22502.000000      22502.000000  22502.000000  22502.000000  \n",
              "mean       0.002000          0.499644      0.056839      9.567461  \n",
              "std        0.044676          0.500011      0.231541      5.824596  \n",
              "min        0.000000          0.000000      0.000000      0.000000  \n",
              "25%        0.000000          0.000000      0.000000      4.000000  \n",
              "50%        0.000000          0.000000      0.000000     10.000000  \n",
              "75%        0.000000          1.000000      0.000000     15.000000  \n",
              "max        1.000000          1.000000      1.000000     19.000000  "
            ],
            "text/html": [
              "\n",
              "  <div id=\"df-e0bd85d6-cbfc-4bc7-b62c-f86c24644f1a\">\n",
              "    <div class=\"colab-df-container\">\n",
              "      <div>\n",
              "<style scoped>\n",
              "    .dataframe tbody tr th:only-of-type {\n",
              "        vertical-align: middle;\n",
              "    }\n",
              "\n",
              "    .dataframe tbody tr th {\n",
              "        vertical-align: top;\n",
              "    }\n",
              "\n",
              "    .dataframe thead th {\n",
              "        text-align: right;\n",
              "    }\n",
              "</style>\n",
              "<table border=\"1\" class=\"dataframe\">\n",
              "  <thead>\n",
              "    <tr style=\"text-align: right;\">\n",
              "      <th></th>\n",
              "      <th>clean_sheets</th>\n",
              "      <th>opponent_team_encoded</th>\n",
              "      <th>own_goals</th>\n",
              "      <th>penalties_missed</th>\n",
              "      <th>red_cards</th>\n",
              "      <th>was_home_encoded</th>\n",
              "      <th>yellow_cards</th>\n",
              "      <th>team_encoded</th>\n",
              "    </tr>\n",
              "  </thead>\n",
              "  <tbody>\n",
              "    <tr>\n",
              "      <th>count</th>\n",
              "      <td>22502.000000</td>\n",
              "      <td>22502.000000</td>\n",
              "      <td>22502.000000</td>\n",
              "      <td>22502.000000</td>\n",
              "      <td>22502.000000</td>\n",
              "      <td>22502.000000</td>\n",
              "      <td>22502.000000</td>\n",
              "      <td>22502.000000</td>\n",
              "    </tr>\n",
              "    <tr>\n",
              "      <th>mean</th>\n",
              "      <td>0.104302</td>\n",
              "      <td>9.501867</td>\n",
              "      <td>0.001467</td>\n",
              "      <td>0.000889</td>\n",
              "      <td>0.002000</td>\n",
              "      <td>0.499644</td>\n",
              "      <td>0.056839</td>\n",
              "      <td>9.567461</td>\n",
              "    </tr>\n",
              "    <tr>\n",
              "      <th>std</th>\n",
              "      <td>0.305658</td>\n",
              "      <td>5.764952</td>\n",
              "      <td>0.038268</td>\n",
              "      <td>0.029800</td>\n",
              "      <td>0.044676</td>\n",
              "      <td>0.500011</td>\n",
              "      <td>0.231541</td>\n",
              "      <td>5.824596</td>\n",
              "    </tr>\n",
              "    <tr>\n",
              "      <th>min</th>\n",
              "      <td>0.000000</td>\n",
              "      <td>0.000000</td>\n",
              "      <td>0.000000</td>\n",
              "      <td>0.000000</td>\n",
              "      <td>0.000000</td>\n",
              "      <td>0.000000</td>\n",
              "      <td>0.000000</td>\n",
              "      <td>0.000000</td>\n",
              "    </tr>\n",
              "    <tr>\n",
              "      <th>25%</th>\n",
              "      <td>0.000000</td>\n",
              "      <td>5.000000</td>\n",
              "      <td>0.000000</td>\n",
              "      <td>0.000000</td>\n",
              "      <td>0.000000</td>\n",
              "      <td>0.000000</td>\n",
              "      <td>0.000000</td>\n",
              "      <td>4.000000</td>\n",
              "    </tr>\n",
              "    <tr>\n",
              "      <th>50%</th>\n",
              "      <td>0.000000</td>\n",
              "      <td>9.000000</td>\n",
              "      <td>0.000000</td>\n",
              "      <td>0.000000</td>\n",
              "      <td>0.000000</td>\n",
              "      <td>0.000000</td>\n",
              "      <td>0.000000</td>\n",
              "      <td>10.000000</td>\n",
              "    </tr>\n",
              "    <tr>\n",
              "      <th>75%</th>\n",
              "      <td>0.000000</td>\n",
              "      <td>14.000000</td>\n",
              "      <td>0.000000</td>\n",
              "      <td>0.000000</td>\n",
              "      <td>0.000000</td>\n",
              "      <td>1.000000</td>\n",
              "      <td>0.000000</td>\n",
              "      <td>15.000000</td>\n",
              "    </tr>\n",
              "    <tr>\n",
              "      <th>max</th>\n",
              "      <td>1.000000</td>\n",
              "      <td>19.000000</td>\n",
              "      <td>1.000000</td>\n",
              "      <td>1.000000</td>\n",
              "      <td>1.000000</td>\n",
              "      <td>1.000000</td>\n",
              "      <td>1.000000</td>\n",
              "      <td>19.000000</td>\n",
              "    </tr>\n",
              "  </tbody>\n",
              "</table>\n",
              "</div>\n",
              "      <button class=\"colab-df-convert\" onclick=\"convertToInteractive('df-e0bd85d6-cbfc-4bc7-b62c-f86c24644f1a')\"\n",
              "              title=\"Convert this dataframe to an interactive table.\"\n",
              "              style=\"display:none;\">\n",
              "        \n",
              "  <svg xmlns=\"http://www.w3.org/2000/svg\" height=\"24px\"viewBox=\"0 0 24 24\"\n",
              "       width=\"24px\">\n",
              "    <path d=\"M0 0h24v24H0V0z\" fill=\"none\"/>\n",
              "    <path d=\"M18.56 5.44l.94 2.06.94-2.06 2.06-.94-2.06-.94-.94-2.06-.94 2.06-2.06.94zm-11 1L8.5 8.5l.94-2.06 2.06-.94-2.06-.94L8.5 2.5l-.94 2.06-2.06.94zm10 10l.94 2.06.94-2.06 2.06-.94-2.06-.94-.94-2.06-.94 2.06-2.06.94z\"/><path d=\"M17.41 7.96l-1.37-1.37c-.4-.4-.92-.59-1.43-.59-.52 0-1.04.2-1.43.59L10.3 9.45l-7.72 7.72c-.78.78-.78 2.05 0 2.83L4 21.41c.39.39.9.59 1.41.59.51 0 1.02-.2 1.41-.59l7.78-7.78 2.81-2.81c.8-.78.8-2.07 0-2.86zM5.41 20L4 18.59l7.72-7.72 1.47 1.35L5.41 20z\"/>\n",
              "  </svg>\n",
              "      </button>\n",
              "      \n",
              "  <style>\n",
              "    .colab-df-container {\n",
              "      display:flex;\n",
              "      flex-wrap:wrap;\n",
              "      gap: 12px;\n",
              "    }\n",
              "\n",
              "    .colab-df-convert {\n",
              "      background-color: #E8F0FE;\n",
              "      border: none;\n",
              "      border-radius: 50%;\n",
              "      cursor: pointer;\n",
              "      display: none;\n",
              "      fill: #1967D2;\n",
              "      height: 32px;\n",
              "      padding: 0 0 0 0;\n",
              "      width: 32px;\n",
              "    }\n",
              "\n",
              "    .colab-df-convert:hover {\n",
              "      background-color: #E2EBFA;\n",
              "      box-shadow: 0px 1px 2px rgba(60, 64, 67, 0.3), 0px 1px 3px 1px rgba(60, 64, 67, 0.15);\n",
              "      fill: #174EA6;\n",
              "    }\n",
              "\n",
              "    [theme=dark] .colab-df-convert {\n",
              "      background-color: #3B4455;\n",
              "      fill: #D2E3FC;\n",
              "    }\n",
              "\n",
              "    [theme=dark] .colab-df-convert:hover {\n",
              "      background-color: #434B5C;\n",
              "      box-shadow: 0px 1px 3px 1px rgba(0, 0, 0, 0.15);\n",
              "      filter: drop-shadow(0px 1px 2px rgba(0, 0, 0, 0.3));\n",
              "      fill: #FFFFFF;\n",
              "    }\n",
              "  </style>\n",
              "\n",
              "      <script>\n",
              "        const buttonEl =\n",
              "          document.querySelector('#df-e0bd85d6-cbfc-4bc7-b62c-f86c24644f1a button.colab-df-convert');\n",
              "        buttonEl.style.display =\n",
              "          google.colab.kernel.accessAllowed ? 'block' : 'none';\n",
              "\n",
              "        async function convertToInteractive(key) {\n",
              "          const element = document.querySelector('#df-e0bd85d6-cbfc-4bc7-b62c-f86c24644f1a');\n",
              "          const dataTable =\n",
              "            await google.colab.kernel.invokeFunction('convertToInteractive',\n",
              "                                                     [key], {});\n",
              "          if (!dataTable) return;\n",
              "\n",
              "          const docLinkHtml = 'Like what you see? Visit the ' +\n",
              "            '<a target=\"_blank\" href=https://colab.research.google.com/notebooks/data_table.ipynb>data table notebook</a>'\n",
              "            + ' to learn more about interactive tables.';\n",
              "          element.innerHTML = '';\n",
              "          dataTable['output_type'] = 'display_data';\n",
              "          await google.colab.output.renderOutput(dataTable, element);\n",
              "          const docLink = document.createElement('div');\n",
              "          docLink.innerHTML = docLinkHtml;\n",
              "          element.appendChild(docLink);\n",
              "        }\n",
              "      </script>\n",
              "    </div>\n",
              "  </div>\n",
              "  "
            ]
          },
          "metadata": {},
          "execution_count": 45
        }
      ],
      "source": [
        "cols1 = ['clean_sheets','opponent_team_encoded', 'own_goals', 'penalties_missed','red_cards','was_home_encoded', 'yellow_cards', 'team_encoded']\n",
        "df[cols1].describe()"
      ]
    },
    {
      "cell_type": "code",
      "execution_count": null,
      "metadata": {
        "id": "jxp5KQSxdHjV",
        "colab": {
          "base_uri": "https://localhost:8080/",
          "height": 268
        },
        "outputId": "505fe7c1-9846-45e5-c40e-79c70895a285"
      },
      "outputs": [
        {
          "output_type": "display_data",
          "data": {
            "text/plain": [
              "<Figure size 2000x400 with 6 Axes>"
            ],
            "image/png": "[encoded data removed]"
          },
          "metadata": {}
        }
      ],
      "source": [
        "# 참조 코딩\n",
        "fig, axes = plt.subplots(1, 6, figsize=(20, 4))\n",
        "\n",
        "sns.countplot(ax=axes[0], x='clean_sheets', hue='creativity_B', data=df);\n",
        "sns.countplot(ax=axes[1], x='own_goals', hue='creativity_B', data=df);\n",
        "sns.countplot(ax=axes[2], x='penalties_missed', hue='creativity_B', data=df);\n",
        "sns.countplot(ax=axes[3], x='red_cards', hue='creativity_B', data=df);\n",
        "sns.countplot(ax=axes[4], x='was_home_encoded', hue='creativity_B', data=df);\n",
        "sns.countplot(ax=axes[5], x='yellow_cards', hue='creativity_B', data=df);"
      ]
    },
    {
      "cell_type": "code",
      "execution_count": null,
      "metadata": {
        "id": "7GfIRQEgfb9m",
        "colab": {
          "base_uri": "https://localhost:8080/",
          "height": 271
        },
        "outputId": "57d3b23c-3610-4d92-ada4-c00700dfb55c"
      },
      "outputs": [
        {
          "output_type": "display_data",
          "data": {
            "text/plain": [
              "<Figure size 2000x400 with 2 Axes>"
            ],
            "image/png": "[encoded data removed]"
          },
          "metadata": {}
        }
      ],
      "source": [
        "fig, axes = plt.subplots(1, 2, figsize=(20, 4))\n",
        "sns.countplot(ax=axes[0], x='opponent_team_encoded', hue='creativity_B', data=df);\n",
        "sns.countplot(ax=axes[1], x='team_encoded', hue='creativity_B', data=df);"
      ]
    },
    {
      "cell_type": "code",
      "execution_count": null,
      "metadata": {
        "id": "adeGLXKZ0h9E",
        "colab": {
          "base_uri": "https://localhost:8080/"
        },
        "outputId": "5f8fa792-d7fb-4771-c730-3b2875142912"
      },
      "outputs": [
        {
          "output_type": "execute_result",
          "data": {
            "text/plain": [
              "0.0    0.633677\n",
              "1.0    0.366323\n",
              "Name: creativity_B, dtype: float64"
            ]
          },
          "metadata": {},
          "execution_count": 48
        }
      ],
      "source": [
        "#----- 중간 보고서 이후\n",
        "df['creativity_B'].value_counts(dropna=False, normalize = True)"
      ]
    },
    {
      "cell_type": "code",
      "execution_count": null,
      "metadata": {
        "colab": {
          "base_uri": "https://localhost:8080/"
        },
        "id": "pqRykhjqL7-3",
        "outputId": "82979b0d-9726-4199-dd0f-8c1b3d4b94ec"
      },
      "outputs": [
        {
          "output_type": "stream",
          "name": "stdout",
          "text": [
            "Looking in indexes: https://pypi.org/simple, https://us-python.pkg.dev/colab-wheels/public/simple/\n",
            "Requirement already satisfied: graphviz in /usr/local/lib/python3.10/dist-packages (0.20.1)\n"
          ]
        }
      ],
      "source": [
        "!pip install graphviz"
      ]
    },
    {
      "cell_type": "code",
      "execution_count": null,
      "metadata": {
        "id": "5VkrZI3kL8cB"
      },
      "outputs": [],
      "source": [
        "import graphviz"
      ]
    },
    {
      "cell_type": "code",
      "execution_count": null,
      "metadata": {
        "colab": {
          "base_uri": "https://localhost:8080/"
        },
        "id": "sUt1VjPfL-u6",
        "outputId": "baf4ecb8-4df0-4a6e-885b-2cb3ce70188b"
      },
      "outputs": [
        {
          "output_type": "execute_result",
          "data": {
            "text/plain": [
              "(22502, 17)"
            ]
          },
          "metadata": {},
          "execution_count": 51
        }
      ],
      "source": [
        "# target과 data로 분리하여 저장\n",
        "data = df.drop(['creativity_B'], axis=1)   # 타겟변수를 제외한 변수만 data에 저장\n",
        "target = df['creativity_B']                # 타겟변수만 target에 저장\n",
        "data.shape"
      ]
    },
    {
      "cell_type": "code",
      "execution_count": null,
      "metadata": {
        "colab": {
          "base_uri": "https://localhost:8080/"
        },
        "id": "PBnKzftZMIXp",
        "outputId": "a6ecd106-1c44-4f8a-e9d5-e759343033cb"
      },
      "outputs": [
        {
          "output_type": "execute_result",
          "data": {
            "text/plain": [
              "(22502,)"
            ]
          },
          "metadata": {},
          "execution_count": 52
        }
      ],
      "source": [
        "target.shape"
      ]
    },
    {
      "cell_type": "code",
      "execution_count": null,
      "metadata": {
        "colab": {
          "base_uri": "https://localhost:8080/"
        },
        "id": "uLyFT0lrMeUx",
        "outputId": "1f6332a7-33f5-4c56-8e02-6f2f8a157148"
      },
      "outputs": [
        {
          "output_type": "stream",
          "name": "stdout",
          "text": [
            "X_train shape: (11251, 17)\n",
            "X_test shape: (11251, 17)\n"
          ]
        }
      ],
      "source": [
        "# 데이터 분할\n",
        "from sklearn.model_selection import train_test_split\n",
        "X_train, X_test, y_train, y_test = train_test_split(\n",
        "    data, target, test_size=0.5, random_state=42, stratify = target)\n",
        "\n",
        "print(\"X_train shape:\", X_train.shape)\n",
        "print(\"X_test shape:\", X_test.shape)"
      ]
    },
    {
      "cell_type": "code",
      "execution_count": null,
      "metadata": {
        "colab": {
          "base_uri": "https://localhost:8080/"
        },
        "id": "AeY7jUDWMryo",
        "outputId": "967e7082-2c78-4597-8468-6e20a4a034c3"
      },
      "outputs": [
        {
          "output_type": "stream",
          "name": "stdout",
          "text": [
            "y_train shape: (11251,)\n",
            "y_test shape: (11251,)\n"
          ]
        }
      ],
      "source": [
        "print(\"y_train shape:\", y_train.shape)\n",
        "print(\"y_test shape:\", y_test.shape)"
      ]
    },
    {
      "cell_type": "code",
      "execution_count": null,
      "metadata": {
        "colab": {
          "base_uri": "https://localhost:8080/"
        },
        "id": "vKex_79RMut9",
        "outputId": "7822b844-ebd2-421d-8efd-01980d954de3"
      },
      "outputs": [
        {
          "output_type": "execute_result",
          "data": {
            "text/plain": [
              "0.0    0.633633\n",
              "1.0    0.366367\n",
              "Name: creativity_B, dtype: float64"
            ]
          },
          "metadata": {},
          "execution_count": 55
        }
      ],
      "source": [
        "y_train.value_counts(normalize=True)"
      ]
    },
    {
      "cell_type": "code",
      "execution_count": null,
      "metadata": {
        "colab": {
          "base_uri": "https://localhost:8080/"
        },
        "id": "IVe6lk3TMxPG",
        "outputId": "cf48cace-d6e7-49f4-e4dc-e94149420d43"
      },
      "outputs": [
        {
          "output_type": "stream",
          "name": "stdout",
          "text": [
            "Accuracy(GINI) on training set:1.00000\n",
            "Accuracy(GINI) on test set:1.00000\n"
          ]
        }
      ],
      "source": [
        "# 결정 트리 분류 모델\n",
        "# Decision Tree 모델 (Default인 GINI기준이자 Maximal depth 조건)\n",
        "from sklearn.tree import DecisionTreeClassifier\n",
        "from sklearn.metrics import accuracy_score\n",
        "tree = DecisionTreeClassifier(random_state=0)   # Classifier로 DecisionTreeClassifer 지정\n",
        "model = tree.fit(X_train, y_train)   # Clssifier를 트레이닝 데이터셋에서 학습시킴\n",
        "pred = model.predict(X_test)  # 학습된 Classifier로 테스트 데이터셋 자료이용해서 타겟변수 예측값 생성\n",
        "\n",
        "print(\"Accuracy(GINI) on training set:{:.5f}\".format(model.score(X_train, y_train)))\n",
        "print(\"Accuracy(GINI) on test set:{:.5f}\".format(accuracy_score(y_test, pred)))"
      ]
    },
    {
      "cell_type": "code",
      "execution_count": null,
      "metadata": {
        "colab": {
          "base_uri": "https://localhost:8080/"
        },
        "id": "u25QHRivM-qr",
        "outputId": "92ed981b-09ad-4b7d-e0e6-567a9177a418"
      },
      "outputs": [
        {
          "output_type": "stream",
          "name": "stdout",
          "text": [
            "Fitting 5 folds for each of 40 candidates, totalling 200 fits\n",
            "GridSearchCV max accuracy:1.00000\n",
            "GridSearchCV best parameter: {'criterion': 'gini', 'max_depth': 1}\n"
          ]
        }
      ],
      "source": [
        "# Decision Tree 모델 (Gini 기준)\n",
        "from sklearn.tree import DecisionTreeClassifier\n",
        "from sklearn.metrics import accuracy_score\n",
        "from sklearn.model_selection import GridSearchCV\n",
        "\n",
        "tree = DecisionTreeClassifier(criterion=\"gini\", random_state=0, max_depth=5)\n",
        "\n",
        "params = {'criterion':['gini','entropy'],'max_depth': range(1,21)}\n",
        "\n",
        "grid_tree = GridSearchCV(tree, param_grid=params, scoring='accuracy', cv=5, n_jobs=-1,\n",
        "                     verbose=1)\n",
        "grid_tree.fit(X_train, y_train)\n",
        "\n",
        "print(\"GridSearchCV max accuracy:{:.5f}\".format(grid_tree.best_score_))\n",
        "print(\"GridSearchCV best parameter:\", (grid_tree.best_params_))"
      ]
    },
    {
      "cell_type": "code",
      "execution_count": null,
      "metadata": {
        "colab": {
          "base_uri": "https://localhost:8080/"
        },
        "id": "BKAY0UlUNGDg",
        "outputId": "5217375f-5a5a-4175-bf40-0b364042671d"
      },
      "outputs": [
        {
          "output_type": "stream",
          "name": "stdout",
          "text": [
            "Accuracy on test set:1.00000\n"
          ]
        }
      ],
      "source": [
        "best_clf = grid_tree.best_estimator_\n",
        "pred = best_clf.predict(X_test)\n",
        "print(\"Accuracy on test set:{:.5f}\".format(accuracy_score(y_test, pred)))"
      ]
    },
    {
      "cell_type": "code",
      "execution_count": null,
      "metadata": {
        "colab": {
          "base_uri": "https://localhost:8080/",
          "height": 237
        },
        "id": "RSdtJpukNT7R",
        "outputId": "bcb3a7a3-10ba-4531-c7bd-d901c51507d9"
      },
      "outputs": [
        {
          "output_type": "execute_result",
          "data": {
            "text/plain": [
              "   clean_sheets  creativity  goals_conceded  influence  minutes  own_goals  \\\n",
              "0             0         0.1               1        0.2       24          0   \n",
              "1             0         0.3               1        1.0        6          0   \n",
              "2             0         4.8               0        2.0       20          0   \n",
              "\n",
              "   penalties_missed  red_cards  team_a_score  team_h_score  ...  \\\n",
              "0                 0          0             0             4  ...   \n",
              "1                 0          0             1             1  ...   \n",
              "2                 0          0             0             0  ...   \n",
              "\n",
              "   team_encoded_10.0  team_encoded_11.0  team_encoded_12.0  team_encoded_13.0  \\\n",
              "0                  0                  0                  0                  0   \n",
              "1                  0                  0                  0                  0   \n",
              "2                  0                  0                  0                  0   \n",
              "\n",
              "   team_encoded_14.0  team_encoded_15.0  team_encoded_16.0  team_encoded_17.0  \\\n",
              "0                  0                  0                  0                  0   \n",
              "1                  0                  0                  0                  0   \n",
              "2                  0                  0                  0                  0   \n",
              "\n",
              "   team_encoded_18.0  team_encoded_19.0  \n",
              "0                  0                  0  \n",
              "1                  0                  0  \n",
              "2                  0                  0  \n",
              "\n",
              "[3 rows x 56 columns]"
            ],
            "text/html": [
              "\n",
              "  <div id=\"df-b1d624f6-5a3a-420f-934f-d511e7f29a29\">\n",
              "    <div class=\"colab-df-container\">\n",
              "      <div>\n",
              "<style scoped>\n",
              "    .dataframe tbody tr th:only-of-type {\n",
              "        vertical-align: middle;\n",
              "    }\n",
              "\n",
              "    .dataframe tbody tr th {\n",
              "        vertical-align: top;\n",
              "    }\n",
              "\n",
              "    .dataframe thead th {\n",
              "        text-align: right;\n",
              "    }\n",
              "</style>\n",
              "<table border=\"1\" class=\"dataframe\">\n",
              "  <thead>\n",
              "    <tr style=\"text-align: right;\">\n",
              "      <th></th>\n",
              "      <th>clean_sheets</th>\n",
              "      <th>creativity</th>\n",
              "      <th>goals_conceded</th>\n",
              "      <th>influence</th>\n",
              "      <th>minutes</th>\n",
              "      <th>own_goals</th>\n",
              "      <th>penalties_missed</th>\n",
              "      <th>red_cards</th>\n",
              "      <th>team_a_score</th>\n",
              "      <th>team_h_score</th>\n",
              "      <th>...</th>\n",
              "      <th>team_encoded_10.0</th>\n",
              "      <th>team_encoded_11.0</th>\n",
              "      <th>team_encoded_12.0</th>\n",
              "      <th>team_encoded_13.0</th>\n",
              "      <th>team_encoded_14.0</th>\n",
              "      <th>team_encoded_15.0</th>\n",
              "      <th>team_encoded_16.0</th>\n",
              "      <th>team_encoded_17.0</th>\n",
              "      <th>team_encoded_18.0</th>\n",
              "      <th>team_encoded_19.0</th>\n",
              "    </tr>\n",
              "  </thead>\n",
              "  <tbody>\n",
              "    <tr>\n",
              "      <th>0</th>\n",
              "      <td>0</td>\n",
              "      <td>0.1</td>\n",
              "      <td>1</td>\n",
              "      <td>0.2</td>\n",
              "      <td>24</td>\n",
              "      <td>0</td>\n",
              "      <td>0</td>\n",
              "      <td>0</td>\n",
              "      <td>0</td>\n",
              "      <td>4</td>\n",
              "      <td>...</td>\n",
              "      <td>0</td>\n",
              "      <td>0</td>\n",
              "      <td>0</td>\n",
              "      <td>0</td>\n",
              "      <td>0</td>\n",
              "      <td>0</td>\n",
              "      <td>0</td>\n",
              "      <td>0</td>\n",
              "      <td>0</td>\n",
              "      <td>0</td>\n",
              "    </tr>\n",
              "    <tr>\n",
              "      <th>1</th>\n",
              "      <td>0</td>\n",
              "      <td>0.3</td>\n",
              "      <td>1</td>\n",
              "      <td>1.0</td>\n",
              "      <td>6</td>\n",
              "      <td>0</td>\n",
              "      <td>0</td>\n",
              "      <td>0</td>\n",
              "      <td>1</td>\n",
              "      <td>1</td>\n",
              "      <td>...</td>\n",
              "      <td>0</td>\n",
              "      <td>0</td>\n",
              "      <td>0</td>\n",
              "      <td>0</td>\n",
              "      <td>0</td>\n",
              "      <td>0</td>\n",
              "      <td>0</td>\n",
              "      <td>0</td>\n",
              "      <td>0</td>\n",
              "      <td>0</td>\n",
              "    </tr>\n",
              "    <tr>\n",
              "      <th>2</th>\n",
              "      <td>0</td>\n",
              "      <td>4.8</td>\n",
              "      <td>0</td>\n",
              "      <td>2.0</td>\n",
              "      <td>20</td>\n",
              "      <td>0</td>\n",
              "      <td>0</td>\n",
              "      <td>0</td>\n",
              "      <td>0</td>\n",
              "      <td>0</td>\n",
              "      <td>...</td>\n",
              "      <td>0</td>\n",
              "      <td>0</td>\n",
              "      <td>0</td>\n",
              "      <td>0</td>\n",
              "      <td>0</td>\n",
              "      <td>0</td>\n",
              "      <td>0</td>\n",
              "      <td>0</td>\n",
              "      <td>0</td>\n",
              "      <td>0</td>\n",
              "    </tr>\n",
              "  </tbody>\n",
              "</table>\n",
              "<p>3 rows × 56 columns</p>\n",
              "</div>\n",
              "      <button class=\"colab-df-convert\" onclick=\"convertToInteractive('df-b1d624f6-5a3a-420f-934f-d511e7f29a29')\"\n",
              "              title=\"Convert this dataframe to an interactive table.\"\n",
              "              style=\"display:none;\">\n",
              "        \n",
              "  <svg xmlns=\"http://www.w3.org/2000/svg\" height=\"24px\"viewBox=\"0 0 24 24\"\n",
              "       width=\"24px\">\n",
              "    <path d=\"M0 0h24v24H0V0z\" fill=\"none\"/>\n",
              "    <path d=\"M18.56 5.44l.94 2.06.94-2.06 2.06-.94-2.06-.94-.94-2.06-.94 2.06-2.06.94zm-11 1L8.5 8.5l.94-2.06 2.06-.94-2.06-.94L8.5 2.5l-.94 2.06-2.06.94zm10 10l.94 2.06.94-2.06 2.06-.94-2.06-.94-.94-2.06-.94 2.06-2.06.94z\"/><path d=\"M17.41 7.96l-1.37-1.37c-.4-.4-.92-.59-1.43-.59-.52 0-1.04.2-1.43.59L10.3 9.45l-7.72 7.72c-.78.78-.78 2.05 0 2.83L4 21.41c.39.39.9.59 1.41.59.51 0 1.02-.2 1.41-.59l7.78-7.78 2.81-2.81c.8-.78.8-2.07 0-2.86zM5.41 20L4 18.59l7.72-7.72 1.47 1.35L5.41 20z\"/>\n",
              "  </svg>\n",
              "      </button>\n",
              "      \n",
              "  <style>\n",
              "    .colab-df-container {\n",
              "      display:flex;\n",
              "      flex-wrap:wrap;\n",
              "      gap: 12px;\n",
              "    }\n",
              "\n",
              "    .colab-df-convert {\n",
              "      background-color: #E8F0FE;\n",
              "      border: none;\n",
              "      border-radius: 50%;\n",
              "      cursor: pointer;\n",
              "      display: none;\n",
              "      fill: #1967D2;\n",
              "      height: 32px;\n",
              "      padding: 0 0 0 0;\n",
              "      width: 32px;\n",
              "    }\n",
              "\n",
              "    .colab-df-convert:hover {\n",
              "      background-color: #E2EBFA;\n",
              "      box-shadow: 0px 1px 2px rgba(60, 64, 67, 0.3), 0px 1px 3px 1px rgba(60, 64, 67, 0.15);\n",
              "      fill: #174EA6;\n",
              "    }\n",
              "\n",
              "    [theme=dark] .colab-df-convert {\n",
              "      background-color: #3B4455;\n",
              "      fill: #D2E3FC;\n",
              "    }\n",
              "\n",
              "    [theme=dark] .colab-df-convert:hover {\n",
              "      background-color: #434B5C;\n",
              "      box-shadow: 0px 1px 3px 1px rgba(0, 0, 0, 0.15);\n",
              "      filter: drop-shadow(0px 1px 2px rgba(0, 0, 0, 0.3));\n",
              "      fill: #FFFFFF;\n",
              "    }\n",
              "  </style>\n",
              "\n",
              "      <script>\n",
              "        const buttonEl =\n",
              "          document.querySelector('#df-b1d624f6-5a3a-420f-934f-d511e7f29a29 button.colab-df-convert');\n",
              "        buttonEl.style.display =\n",
              "          google.colab.kernel.accessAllowed ? 'block' : 'none';\n",
              "\n",
              "        async function convertToInteractive(key) {\n",
              "          const element = document.querySelector('#df-b1d624f6-5a3a-420f-934f-d511e7f29a29');\n",
              "          const dataTable =\n",
              "            await google.colab.kernel.invokeFunction('convertToInteractive',\n",
              "                                                     [key], {});\n",
              "          if (!dataTable) return;\n",
              "\n",
              "          const docLinkHtml = 'Like what you see? Visit the ' +\n",
              "            '<a target=\"_blank\" href=https://colab.research.google.com/notebooks/data_table.ipynb>data table notebook</a>'\n",
              "            + ' to learn more about interactive tables.';\n",
              "          element.innerHTML = '';\n",
              "          dataTable['output_type'] = 'display_data';\n",
              "          await google.colab.output.renderOutput(dataTable, element);\n",
              "          const docLink = document.createElement('div');\n",
              "          docLink.innerHTML = docLinkHtml;\n",
              "          element.appendChild(docLink);\n",
              "        }\n",
              "      </script>\n",
              "    </div>\n",
              "  </div>\n",
              "  "
            ]
          },
          "metadata": {},
          "execution_count": 59
        }
      ],
      "source": [
        "# 더미 변수 생성\n",
        "cols2 = ['opponent_team_encoded', 'team_encoded']\n",
        "df2 = pd.get_dummies(df, columns=cols2)\n",
        "df2.head(3)"
      ]
    },
    {
      "cell_type": "code",
      "execution_count": null,
      "metadata": {
        "colab": {
          "base_uri": "https://localhost:8080/"
        },
        "id": "7EvI65SBYRwE",
        "outputId": "2b9f0453-1477-4e9d-8c99-8163139b6411"
      },
      "outputs": [
        {
          "output_type": "execute_result",
          "data": {
            "text/plain": [
              "(22502, 56)"
            ]
          },
          "metadata": {},
          "execution_count": 60
        }
      ],
      "source": [
        "df2.shape"
      ]
    },
    {
      "cell_type": "code",
      "execution_count": null,
      "metadata": {
        "colab": {
          "base_uri": "https://localhost:8080/"
        },
        "id": "Ds0PT7hmYjRk",
        "outputId": "275ca47d-c48c-4f71-b42c-9ed0fa8260cf"
      },
      "outputs": [
        {
          "output_type": "execute_result",
          "data": {
            "text/plain": [
              "(22502, 54)"
            ]
          },
          "metadata": {},
          "execution_count": 61
        }
      ],
      "source": [
        "# 기준 더미 변수 제거\n",
        "# 꼴지 팀인 Sheffield United(#14) 제거\n",
        "cols3 = ['opponent_team_encoded_14.0','team_encoded_14.0']\n",
        "\n",
        "df2.drop(cols3, axis=1, inplace=True)   # cols2에 저장된 15개 더미 변수명을 데이터프레임에서 제거\n",
        "df2.shape"
      ]
    },
    {
      "cell_type": "code",
      "execution_count": null,
      "metadata": {
        "colab": {
          "base_uri": "https://localhost:8080/"
        },
        "id": "D2qRWMQlZsDu",
        "outputId": "cabb9743-a923-4cb2-d0a8-01d2ea5ac5be"
      },
      "outputs": [
        {
          "output_type": "execute_result",
          "data": {
            "text/plain": [
              "clean_sheets                    int64\n",
              "creativity                    float64\n",
              "goals_conceded                  int64\n",
              "influence                     float64\n",
              "minutes                         int64\n",
              "own_goals                       int64\n",
              "penalties_missed                int64\n",
              "red_cards                       int64\n",
              "team_a_score                    int64\n",
              "team_h_score                    int64\n",
              "threat                        float64\n",
              "total_points                    int64\n",
              "yellow_cards                    int64\n",
              "ppm                           float64\n",
              "creativity_B                  float64\n",
              "was_home_encoded              float64\n",
              "opponent_team_encoded_0.0       uint8\n",
              "opponent_team_encoded_1.0       uint8\n",
              "opponent_team_encoded_2.0       uint8\n",
              "opponent_team_encoded_3.0       uint8\n",
              "opponent_team_encoded_4.0       uint8\n",
              "opponent_team_encoded_5.0       uint8\n",
              "opponent_team_encoded_6.0       uint8\n",
              "opponent_team_encoded_7.0       uint8\n",
              "opponent_team_encoded_8.0       uint8\n",
              "opponent_team_encoded_9.0       uint8\n",
              "opponent_team_encoded_10.0      uint8\n",
              "opponent_team_encoded_11.0      uint8\n",
              "opponent_team_encoded_12.0      uint8\n",
              "opponent_team_encoded_13.0      uint8\n",
              "opponent_team_encoded_15.0      uint8\n",
              "opponent_team_encoded_16.0      uint8\n",
              "opponent_team_encoded_17.0      uint8\n",
              "opponent_team_encoded_18.0      uint8\n",
              "opponent_team_encoded_19.0      uint8\n",
              "team_encoded_0.0                uint8\n",
              "team_encoded_1.0                uint8\n",
              "team_encoded_2.0                uint8\n",
              "team_encoded_3.0                uint8\n",
              "team_encoded_4.0                uint8\n",
              "team_encoded_5.0                uint8\n",
              "team_encoded_6.0                uint8\n",
              "team_encoded_7.0                uint8\n",
              "team_encoded_8.0                uint8\n",
              "team_encoded_9.0                uint8\n",
              "team_encoded_10.0               uint8\n",
              "team_encoded_11.0               uint8\n",
              "team_encoded_12.0               uint8\n",
              "team_encoded_13.0               uint8\n",
              "team_encoded_15.0               uint8\n",
              "team_encoded_16.0               uint8\n",
              "team_encoded_17.0               uint8\n",
              "team_encoded_18.0               uint8\n",
              "team_encoded_19.0               uint8\n",
              "dtype: object"
            ]
          },
          "metadata": {},
          "execution_count": 62
        }
      ],
      "source": [
        "df2.dtypes"
      ]
    },
    {
      "cell_type": "code",
      "execution_count": null,
      "metadata": {
        "colab": {
          "base_uri": "https://localhost:8080/"
        },
        "id": "2DYXFmPhaLam",
        "outputId": "df273d99-3539-4272-d0dd-7d6ec5be4f2d"
      },
      "outputs": [
        {
          "output_type": "stream",
          "name": "stdout",
          "text": [
            "X_train shape: (11251, 52)\n",
            "X_test shape: (11251, 52)\n"
          ]
        }
      ],
      "source": [
        "# 더미변수로 생성된 데이터로 로지스틱 회귀 분석\n",
        "data = df2\n",
        "data = df2.drop(['creativity_B'], axis=1)\n",
        "\n",
        "# 50:50 데이터 분할\n",
        "from sklearn.model_selection import train_test_split\n",
        "X_train, X_test, y_train, y_test = train_test_split(\n",
        "    data, target, test_size=0.5, random_state=42, stratify=target)\n",
        "\n",
        "print(\"X_train shape:\", X_train.shape)\n",
        "print(\"X_test shape:\", X_test.shape)\n"
      ]
    },
    {
      "cell_type": "code",
      "execution_count": null,
      "metadata": {
        "colab": {
          "base_uri": "https://localhost:8080/"
        },
        "id": "51LE2d2VafbG",
        "outputId": "6372da8d-f8e1-4258-e83f-633bf62230f2"
      },
      "outputs": [
        {
          "output_type": "stream",
          "name": "stderr",
          "text": [
            "/usr/local/lib/python3.10/dist-packages/sklearn/linear_model/_logistic.py:1173: FutureWarning: `penalty='none'`has been deprecated in 1.2 and will be removed in 1.4. To keep the past behaviour, set `penalty=None`.\n",
            "  warnings.warn(\n"
          ]
        },
        {
          "output_type": "stream",
          "name": "stdout",
          "text": [
            "Logreg Training set score:0.88668\n",
            "Logreg Test set score:0.88943\n"
          ]
        }
      ],
      "source": [
        "# Logistic Regression 모형 (Default 모델)\n",
        "from sklearn.linear_model import LogisticRegression\n",
        "from sklearn.metrics import accuracy_score\n",
        "lr = LogisticRegression(solver='lbfgs',penalty='none',random_state=0,n_jobs=-1)\n",
        "model = lr.fit(X_train, y_train)\n",
        "pred = model.predict(X_test)\n",
        "\n",
        "print (\"Logreg Training set score:{:.5f}\".format(model.score(X_train, y_train)))\n",
        "print (\"Logreg Test set score:{:.5f}\".format(accuracy_score(y_test, pred)))"
      ]
    },
    {
      "cell_type": "code",
      "execution_count": null,
      "metadata": {
        "colab": {
          "base_uri": "https://localhost:8080/"
        },
        "id": "bYq9YwmRaiH7",
        "outputId": "10738b84-ac84-42ff-cbe8-e783f4d51311"
      },
      "outputs": [
        {
          "output_type": "stream",
          "name": "stderr",
          "text": [
            "/usr/local/lib/python3.10/dist-packages/sklearn/linear_model/_logistic.py:1173: FutureWarning: `penalty='none'`has been deprecated in 1.2 and will be removed in 1.4. To keep the past behaviour, set `penalty=None`.\n",
            "  warnings.warn(\n"
          ]
        },
        {
          "output_type": "stream",
          "name": "stdout",
          "text": [
            "GridSearchCV max accuracy:0.88632\n",
            "GridSearchCV best parameter: {'penalty': 'none', 'solver': 'saga'}\n"
          ]
        },
        {
          "output_type": "stream",
          "name": "stderr",
          "text": [
            "/usr/local/lib/python3.10/dist-packages/sklearn/linear_model/_sag.py:350: ConvergenceWarning: The max_iter was reached which means the coef_ did not converge\n",
            "  warnings.warn(\n"
          ]
        }
      ],
      "source": [
        "# Logistic Regression 모형 (Default 모델)\n",
        "lr = LogisticRegression(solver='lbfgs',penalty='none',random_state=0,n_jobs=-1)\n",
        "\n",
        "# 그리드 서치\n",
        "from sklearn.model_selection import GridSearchCV\n",
        "params = {'solver':['lbfgs', 'saga'], 'penalty':['none']}\n",
        "\n",
        "grid_lr = GridSearchCV(lr, param_grid=params, scoring='accuracy', cv=5, n_jobs=-1,)\n",
        "grid_lr.fit(X_train, y_train)\n",
        "\n",
        "print(\"GridSearchCV max accuracy:{:.5f}\".format(grid_lr.best_score_))\n",
        "print(\"GridSearchCV best parameter:\", (grid_lr.best_params_))"
      ]
    },
    {
      "cell_type": "code",
      "execution_count": null,
      "metadata": {
        "colab": {
          "base_uri": "https://localhost:8080/"
        },
        "id": "Lp1QppTibh7P",
        "outputId": "b456a899-94ce-447f-d09f-24b546c850bc"
      },
      "outputs": [
        {
          "output_type": "stream",
          "name": "stdout",
          "text": [
            "Accuracy on test set:0.88952\n"
          ]
        }
      ],
      "source": [
        "best_clf = grid_lr.best_estimator_\n",
        "pred = best_clf.predict(X_test)\n",
        "print(\"Accuracy on test set:{:.5f}\".format(accuracy_score(y_test, pred)))"
      ]
    },
    {
      "cell_type": "code",
      "execution_count": null,
      "metadata": {
        "colab": {
          "base_uri": "https://localhost:8080/",
          "height": 206
        },
        "id": "JLKFrBL8bkru",
        "outputId": "3f21a682-cda8-4443-ef24-889b1de26cb1"
      },
      "outputs": [
        {
          "output_type": "execute_result",
          "data": {
            "text/plain": [
              "   goals_conceded  influence  team_a_score  team_h_score       ppm    threat\n",
              "0        0.517554  -0.558548     -1.007884      1.996286 -0.061632 -0.587593\n",
              "1        0.517554  -0.496453     -0.167564     -0.412574 -0.061632  1.850444\n",
              "2       -0.528995  -0.418835     -1.007884     -1.215528 -0.061632  1.734811\n",
              "3        0.517554  -0.558548     -1.007884      0.390379 -0.061632 -0.587593\n",
              "4       -0.528995   4.874707     -1.007884      1.193333  5.918926  3.105403"
            ],
            "text/html": [
              "\n",
              "  <div id=\"df-1c01ed54-46a9-4a30-9306-9e536ffd4538\">\n",
              "    <div class=\"colab-df-container\">\n",
              "      <div>\n",
              "<style scoped>\n",
              "    .dataframe tbody tr th:only-of-type {\n",
              "        vertical-align: middle;\n",
              "    }\n",
              "\n",
              "    .dataframe tbody tr th {\n",
              "        vertical-align: top;\n",
              "    }\n",
              "\n",
              "    .dataframe thead th {\n",
              "        text-align: right;\n",
              "    }\n",
              "</style>\n",
              "<table border=\"1\" class=\"dataframe\">\n",
              "  <thead>\n",
              "    <tr style=\"text-align: right;\">\n",
              "      <th></th>\n",
              "      <th>goals_conceded</th>\n",
              "      <th>influence</th>\n",
              "      <th>team_a_score</th>\n",
              "      <th>team_h_score</th>\n",
              "      <th>ppm</th>\n",
              "      <th>threat</th>\n",
              "    </tr>\n",
              "  </thead>\n",
              "  <tbody>\n",
              "    <tr>\n",
              "      <th>0</th>\n",
              "      <td>0.517554</td>\n",
              "      <td>-0.558548</td>\n",
              "      <td>-1.007884</td>\n",
              "      <td>1.996286</td>\n",
              "      <td>-0.061632</td>\n",
              "      <td>-0.587593</td>\n",
              "    </tr>\n",
              "    <tr>\n",
              "      <th>1</th>\n",
              "      <td>0.517554</td>\n",
              "      <td>-0.496453</td>\n",
              "      <td>-0.167564</td>\n",
              "      <td>-0.412574</td>\n",
              "      <td>-0.061632</td>\n",
              "      <td>1.850444</td>\n",
              "    </tr>\n",
              "    <tr>\n",
              "      <th>2</th>\n",
              "      <td>-0.528995</td>\n",
              "      <td>-0.418835</td>\n",
              "      <td>-1.007884</td>\n",
              "      <td>-1.215528</td>\n",
              "      <td>-0.061632</td>\n",
              "      <td>1.734811</td>\n",
              "    </tr>\n",
              "    <tr>\n",
              "      <th>3</th>\n",
              "      <td>0.517554</td>\n",
              "      <td>-0.558548</td>\n",
              "      <td>-1.007884</td>\n",
              "      <td>0.390379</td>\n",
              "      <td>-0.061632</td>\n",
              "      <td>-0.587593</td>\n",
              "    </tr>\n",
              "    <tr>\n",
              "      <th>4</th>\n",
              "      <td>-0.528995</td>\n",
              "      <td>4.874707</td>\n",
              "      <td>-1.007884</td>\n",
              "      <td>1.193333</td>\n",
              "      <td>5.918926</td>\n",
              "      <td>3.105403</td>\n",
              "    </tr>\n",
              "  </tbody>\n",
              "</table>\n",
              "</div>\n",
              "      <button class=\"colab-df-convert\" onclick=\"convertToInteractive('df-1c01ed54-46a9-4a30-9306-9e536ffd4538')\"\n",
              "              title=\"Convert this dataframe to an interactive table.\"\n",
              "              style=\"display:none;\">\n",
              "        \n",
              "  <svg xmlns=\"http://www.w3.org/2000/svg\" height=\"24px\"viewBox=\"0 0 24 24\"\n",
              "       width=\"24px\">\n",
              "    <path d=\"M0 0h24v24H0V0z\" fill=\"none\"/>\n",
              "    <path d=\"M18.56 5.44l.94 2.06.94-2.06 2.06-.94-2.06-.94-.94-2.06-.94 2.06-2.06.94zm-11 1L8.5 8.5l.94-2.06 2.06-.94-2.06-.94L8.5 2.5l-.94 2.06-2.06.94zm10 10l.94 2.06.94-2.06 2.06-.94-2.06-.94-.94-2.06-.94 2.06-2.06.94z\"/><path d=\"M17.41 7.96l-1.37-1.37c-.4-.4-.92-.59-1.43-.59-.52 0-1.04.2-1.43.59L10.3 9.45l-7.72 7.72c-.78.78-.78 2.05 0 2.83L4 21.41c.39.39.9.59 1.41.59.51 0 1.02-.2 1.41-.59l7.78-7.78 2.81-2.81c.8-.78.8-2.07 0-2.86zM5.41 20L4 18.59l7.72-7.72 1.47 1.35L5.41 20z\"/>\n",
              "  </svg>\n",
              "      </button>\n",
              "      \n",
              "  <style>\n",
              "    .colab-df-container {\n",
              "      display:flex;\n",
              "      flex-wrap:wrap;\n",
              "      gap: 12px;\n",
              "    }\n",
              "\n",
              "    .colab-df-convert {\n",
              "      background-color: #E8F0FE;\n",
              "      border: none;\n",
              "      border-radius: 50%;\n",
              "      cursor: pointer;\n",
              "      display: none;\n",
              "      fill: #1967D2;\n",
              "      height: 32px;\n",
              "      padding: 0 0 0 0;\n",
              "      width: 32px;\n",
              "    }\n",
              "\n",
              "    .colab-df-convert:hover {\n",
              "      background-color: #E2EBFA;\n",
              "      box-shadow: 0px 1px 2px rgba(60, 64, 67, 0.3), 0px 1px 3px 1px rgba(60, 64, 67, 0.15);\n",
              "      fill: #174EA6;\n",
              "    }\n",
              "\n",
              "    [theme=dark] .colab-df-convert {\n",
              "      background-color: #3B4455;\n",
              "      fill: #D2E3FC;\n",
              "    }\n",
              "\n",
              "    [theme=dark] .colab-df-convert:hover {\n",
              "      background-color: #434B5C;\n",
              "      box-shadow: 0px 1px 3px 1px rgba(0, 0, 0, 0.15);\n",
              "      filter: drop-shadow(0px 1px 2px rgba(0, 0, 0, 0.3));\n",
              "      fill: #FFFFFF;\n",
              "    }\n",
              "  </style>\n",
              "\n",
              "      <script>\n",
              "        const buttonEl =\n",
              "          document.querySelector('#df-1c01ed54-46a9-4a30-9306-9e536ffd4538 button.colab-df-convert');\n",
              "        buttonEl.style.display =\n",
              "          google.colab.kernel.accessAllowed ? 'block' : 'none';\n",
              "\n",
              "        async function convertToInteractive(key) {\n",
              "          const element = document.querySelector('#df-1c01ed54-46a9-4a30-9306-9e536ffd4538');\n",
              "          const dataTable =\n",
              "            await google.colab.kernel.invokeFunction('convertToInteractive',\n",
              "                                                     [key], {});\n",
              "          if (!dataTable) return;\n",
              "\n",
              "          const docLinkHtml = 'Like what you see? Visit the ' +\n",
              "            '<a target=\"_blank\" href=https://colab.research.google.com/notebooks/data_table.ipynb>data table notebook</a>'\n",
              "            + ' to learn more about interactive tables.';\n",
              "          element.innerHTML = '';\n",
              "          dataTable['output_type'] = 'display_data';\n",
              "          await google.colab.output.renderOutput(dataTable, element);\n",
              "          const docLink = document.createElement('div');\n",
              "          docLink.innerHTML = docLinkHtml;\n",
              "          element.appendChild(docLink);\n",
              "        }\n",
              "      </script>\n",
              "    </div>\n",
              "  </div>\n",
              "  "
            ]
          },
          "metadata": {},
          "execution_count": 331
        }
      ],
      "source": [
        "# 구간 변수들만 별도로 모아 데이터프레임 df_num을 만든다.\n",
        "numeric_cols = ['goals_conceded','influence','team_a_score','team_h_score', 'ppm', 'threat']\n",
        "df_num = df[numeric_cols]\n",
        "\n",
        "# StandardScaler( )로 데이터 스케일 표준화를 실행하고 결과를 데이터프레임으로 만든다.\n",
        "from sklearn.preprocessing import StandardScaler\n",
        "scaler = StandardScaler()\n",
        "df_num_standard = pd.DataFrame(scaler.fit_transform(df_num))\n",
        "\n",
        "# StandardScaler( )는 변수명을 지우므로, 새로 만든 데이터프레임에 다시 변수명을 넣는다.\n",
        "df_num_standard.columns = df_num.columns\n",
        "df_num_standard.head()"
      ]
    },
    {
      "cell_type": "code",
      "execution_count": null,
      "metadata": {
        "id": "lhbBvPo2oEL4"
      },
      "outputs": [],
      "source": [
        "df_cat = df2.drop(numeric_cols, axis=1) # 원래 데이터프레임 df에서 구간변수들을 제거하여 df_cat에 저장"
      ]
    },
    {
      "cell_type": "code",
      "execution_count": null,
      "metadata": {
        "colab": {
          "base_uri": "https://localhost:8080/"
        },
        "id": "_ZVNad_AoFHG",
        "outputId": "036c383e-1dac-49f8-a217-eb174b4f91b0"
      },
      "outputs": [
        {
          "output_type": "execute_result",
          "data": {
            "text/plain": [
              "Index(['goals_conceded', 'influence', 'team_a_score', 'team_h_score', 'ppm',\n",
              "       'threat', 'clean_sheets', 'minutes', 'own_goals', 'penalties_missed',\n",
              "       'red_cards', 'total_points', 'yellow_cards', 'creativity_B',\n",
              "       'was_home_encoded', 'opponent_team_encoded_0.0',\n",
              "       'opponent_team_encoded_1.0', 'opponent_team_encoded_2.0',\n",
              "       'opponent_team_encoded_3.0', 'opponent_team_encoded_4.0',\n",
              "       'opponent_team_encoded_5.0', 'opponent_team_encoded_6.0',\n",
              "       'opponent_team_encoded_7.0', 'opponent_team_encoded_8.0',\n",
              "       'opponent_team_encoded_9.0', 'opponent_team_encoded_10.0',\n",
              "       'opponent_team_encoded_11.0', 'opponent_team_encoded_12.0',\n",
              "       'opponent_team_encoded_13.0', 'opponent_team_encoded_15.0',\n",
              "       'opponent_team_encoded_16.0', 'opponent_team_encoded_17.0',\n",
              "       'opponent_team_encoded_18.0', 'opponent_team_encoded_19.0',\n",
              "       'team_encoded_0.0', 'team_encoded_1.0', 'team_encoded_2.0',\n",
              "       'team_encoded_3.0', 'team_encoded_4.0', 'team_encoded_5.0',\n",
              "       'team_encoded_6.0', 'team_encoded_7.0', 'team_encoded_8.0',\n",
              "       'team_encoded_9.0', 'team_encoded_10.0', 'team_encoded_11.0',\n",
              "       'team_encoded_12.0', 'team_encoded_13.0', 'team_encoded_15.0',\n",
              "       'team_encoded_16.0', 'team_encoded_17.0', 'team_encoded_18.0',\n",
              "       'team_encoded_19.0'],\n",
              "      dtype='object')"
            ]
          },
          "metadata": {},
          "execution_count": 333
        }
      ],
      "source": [
        "# 구간변수 스케일을 표준화한 df_num_standard와 범주형 변수만 담은 df_cat을 병합\n",
        "dfu_standard = pd.concat([df_num_standard, df_cat], axis=1)\n",
        "dfu_standard.columns   # dfu의 변수명을 나열"
      ]
    },
    {
      "cell_type": "code",
      "execution_count": null,
      "metadata": {
        "colab": {
          "base_uri": "https://localhost:8080/"
        },
        "id": "ioEFLrohoHCX",
        "outputId": "7f0894ea-6b6d-4c9e-f266-acaa6deb7e98"
      },
      "outputs": [
        {
          "output_type": "stream",
          "name": "stdout",
          "text": [
            "X_train shape: (11251, 52)\n",
            "X_test shape: (11251, 52)\n"
          ]
        }
      ],
      "source": [
        "data = dfu_standard.drop(['creativity_B'], axis=1)   # 타겟변수를 제외한 변수만 data에 저장\n",
        "target = dfu_standard['creativity_B']                # 타겟변수만 target에 저장\n",
        "\n",
        "# 50:50 데이터 분할\n",
        "from sklearn.model_selection import train_test_split\n",
        "X_train, X_test, y_train, y_test = train_test_split(\n",
        "    data, target, test_size=0.5, random_state=42, stratify=target)\n",
        "\n",
        "print(\"X_train shape:\", X_train.shape)\n",
        "print(\"X_test shape:\", X_test.shape)"
      ]
    },
    {
      "cell_type": "code",
      "execution_count": null,
      "metadata": {
        "colab": {
          "base_uri": "https://localhost:8080/"
        },
        "id": "I04dkw5kohnX",
        "outputId": "53aacb42-b44f-4ed6-ec4e-1a5865968412"
      },
      "outputs": [
        {
          "name": "stderr",
          "output_type": "stream",
          "text": [
            "/usr/local/lib/python3.10/dist-packages/sklearn/linear_model/_logistic.py:1173: FutureWarning: `penalty='none'`has been deprecated in 1.2 and will be removed in 1.4. To keep the past behaviour, set `penalty=None`.\n",
            "  warnings.warn(\n"
          ]
        },
        {
          "name": "stdout",
          "output_type": "stream",
          "text": [
            "GridSearchCV max accuracy:0.88348\n",
            "GridSearchCV best parameter: {'penalty': 'none', 'solver': 'lbfgs'}\n"
          ]
        }
      ],
      "source": [
        "# Logistic Regression 모형 (Default 모델)\n",
        "lr = LogisticRegression(solver='lbfgs',penalty='none',random_state=0,n_jobs=-1)\n",
        "\n",
        "# 그리드 서치 실행\n",
        "from sklearn.model_selection import GridSearchCV\n",
        "params = {'solver':['lbfgs', 'saga'], 'penalty':['none']}\n",
        "\n",
        "grid_lr = GridSearchCV(lr, param_grid=params, scoring='accuracy', cv=5, n_jobs=-1,)\n",
        "grid_lr.fit(X_train, y_train)\n",
        "\n",
        "print(\"GridSearchCV max accuracy:{:.5f}\".format(grid_lr.best_score_))\n",
        "print(\"GridSearchCV best parameter:\", (grid_lr.best_params_))"
      ]
    },
    {
      "cell_type": "code",
      "execution_count": null,
      "metadata": {
        "colab": {
          "base_uri": "https://localhost:8080/"
        },
        "id": "H_Ac-1DHojQc",
        "outputId": "d92eb6c8-c3f4-41a8-f4e3-f568e6c34a48"
      },
      "outputs": [
        {
          "name": "stdout",
          "output_type": "stream",
          "text": [
            "Accuracy on test set:0.88792\n"
          ]
        }
      ],
      "source": [
        "best_clf = grid_lr.best_estimator_\n",
        "pred = best_clf.predict(X_test)\n",
        "print(\"Accuracy on test set:{:.5f}\".format(accuracy_score(y_test, pred)))"
      ]
    },
    {
      "cell_type": "code",
      "execution_count": null,
      "metadata": {
        "colab": {
          "base_uri": "https://localhost:8080/",
          "height": 1000
        },
        "id": "tj9OtUVYoljT",
        "outputId": "951f6581-42c4-47d6-8596-4730c45b58e0"
      },
      "outputs": [
        {
          "data": {
            "text/html": [
              "\n",
              "  <div id=\"df-d48b7dfd-2efe-4e9f-9684-1ce6957de234\">\n",
              "    <div class=\"colab-df-container\">\n",
              "      <div>\n",
              "<style scoped>\n",
              "    .dataframe tbody tr th:only-of-type {\n",
              "        vertical-align: middle;\n",
              "    }\n",
              "\n",
              "    .dataframe tbody tr th {\n",
              "        vertical-align: top;\n",
              "    }\n",
              "\n",
              "    .dataframe thead th {\n",
              "        text-align: right;\n",
              "    }\n",
              "</style>\n",
              "<table border=\"1\" class=\"dataframe\">\n",
              "  <thead>\n",
              "    <tr style=\"text-align: right;\">\n",
              "      <th></th>\n",
              "      <th>coef</th>\n",
              "    </tr>\n",
              "  </thead>\n",
              "  <tbody>\n",
              "    <tr>\n",
              "      <th>clean_sheets</th>\n",
              "      <td>-0.800</td>\n",
              "    </tr>\n",
              "    <tr>\n",
              "      <th>influence</th>\n",
              "      <td>-0.769</td>\n",
              "    </tr>\n",
              "    <tr>\n",
              "      <th>team_encoded_17.0</th>\n",
              "      <td>-0.677</td>\n",
              "    </tr>\n",
              "    <tr>\n",
              "      <th>team_encoded_19.0</th>\n",
              "      <td>-0.519</td>\n",
              "    </tr>\n",
              "    <tr>\n",
              "      <th>team_encoded_4.0</th>\n",
              "      <td>-0.518</td>\n",
              "    </tr>\n",
              "    <tr>\n",
              "      <th>opponent_team_encoded_10.0</th>\n",
              "      <td>-0.482</td>\n",
              "    </tr>\n",
              "    <tr>\n",
              "      <th>ppm</th>\n",
              "      <td>-0.476</td>\n",
              "    </tr>\n",
              "    <tr>\n",
              "      <th>opponent_team_encoded_11.0</th>\n",
              "      <td>-0.335</td>\n",
              "    </tr>\n",
              "    <tr>\n",
              "      <th>team_encoded_18.0</th>\n",
              "      <td>-0.331</td>\n",
              "    </tr>\n",
              "    <tr>\n",
              "      <th>opponent_team_encoded_15.0</th>\n",
              "      <td>-0.327</td>\n",
              "    </tr>\n",
              "    <tr>\n",
              "      <th>opponent_team_encoded_8.0</th>\n",
              "      <td>-0.312</td>\n",
              "    </tr>\n",
              "    <tr>\n",
              "      <th>team_encoded_2.0</th>\n",
              "      <td>-0.262</td>\n",
              "    </tr>\n",
              "    <tr>\n",
              "      <th>opponent_team_encoded_0.0</th>\n",
              "      <td>-0.256</td>\n",
              "    </tr>\n",
              "    <tr>\n",
              "      <th>opponent_team_encoded_9.0</th>\n",
              "      <td>-0.251</td>\n",
              "    </tr>\n",
              "    <tr>\n",
              "      <th>team_encoded_13.0</th>\n",
              "      <td>-0.244</td>\n",
              "    </tr>\n",
              "    <tr>\n",
              "      <th>team_encoded_12.0</th>\n",
              "      <td>-0.236</td>\n",
              "    </tr>\n",
              "    <tr>\n",
              "      <th>opponent_team_encoded_19.0</th>\n",
              "      <td>-0.213</td>\n",
              "    </tr>\n",
              "    <tr>\n",
              "      <th>team_encoded_15.0</th>\n",
              "      <td>-0.195</td>\n",
              "    </tr>\n",
              "    <tr>\n",
              "      <th>opponent_team_encoded_2.0</th>\n",
              "      <td>-0.158</td>\n",
              "    </tr>\n",
              "    <tr>\n",
              "      <th>team_encoded_5.0</th>\n",
              "      <td>-0.152</td>\n",
              "    </tr>\n",
              "    <tr>\n",
              "      <th>was_home_encoded</th>\n",
              "      <td>-0.143</td>\n",
              "    </tr>\n",
              "    <tr>\n",
              "      <th>opponent_team_encoded_16.0</th>\n",
              "      <td>-0.139</td>\n",
              "    </tr>\n",
              "    <tr>\n",
              "      <th>team_encoded_6.0</th>\n",
              "      <td>-0.122</td>\n",
              "    </tr>\n",
              "    <tr>\n",
              "      <th>opponent_team_encoded_4.0</th>\n",
              "      <td>-0.091</td>\n",
              "    </tr>\n",
              "    <tr>\n",
              "      <th>opponent_team_encoded_5.0</th>\n",
              "      <td>-0.088</td>\n",
              "    </tr>\n",
              "    <tr>\n",
              "      <th>opponent_team_encoded_3.0</th>\n",
              "      <td>-0.078</td>\n",
              "    </tr>\n",
              "    <tr>\n",
              "      <th>own_goals</th>\n",
              "      <td>-0.076</td>\n",
              "    </tr>\n",
              "    <tr>\n",
              "      <th>team_encoded_1.0</th>\n",
              "      <td>-0.071</td>\n",
              "    </tr>\n",
              "    <tr>\n",
              "      <th>opponent_team_encoded_1.0</th>\n",
              "      <td>-0.054</td>\n",
              "    </tr>\n",
              "    <tr>\n",
              "      <th>team_a_score</th>\n",
              "      <td>-0.024</td>\n",
              "    </tr>\n",
              "    <tr>\n",
              "      <th>opponent_team_encoded_7.0</th>\n",
              "      <td>-0.007</td>\n",
              "    </tr>\n",
              "    <tr>\n",
              "      <th>opponent_team_encoded_6.0</th>\n",
              "      <td>0.001</td>\n",
              "    </tr>\n",
              "    <tr>\n",
              "      <th>penalties_missed</th>\n",
              "      <td>0.014</td>\n",
              "    </tr>\n",
              "    <tr>\n",
              "      <th>opponent_team_encoded_13.0</th>\n",
              "      <td>0.024</td>\n",
              "    </tr>\n",
              "    <tr>\n",
              "      <th>team_encoded_3.0</th>\n",
              "      <td>0.032</td>\n",
              "    </tr>\n",
              "    <tr>\n",
              "      <th>team_encoded_7.0</th>\n",
              "      <td>0.032</td>\n",
              "    </tr>\n",
              "    <tr>\n",
              "      <th>team_encoded_16.0</th>\n",
              "      <td>0.039</td>\n",
              "    </tr>\n",
              "    <tr>\n",
              "      <th>minutes</th>\n",
              "      <td>0.041</td>\n",
              "    </tr>\n",
              "    <tr>\n",
              "      <th>team_encoded_8.0</th>\n",
              "      <td>0.047</td>\n",
              "    </tr>\n",
              "    <tr>\n",
              "      <th>opponent_team_encoded_17.0</th>\n",
              "      <td>0.055</td>\n",
              "    </tr>\n",
              "    <tr>\n",
              "      <th>team_h_score</th>\n",
              "      <td>0.099</td>\n",
              "    </tr>\n",
              "    <tr>\n",
              "      <th>team_encoded_11.0</th>\n",
              "      <td>0.103</td>\n",
              "    </tr>\n",
              "    <tr>\n",
              "      <th>opponent_team_encoded_18.0</th>\n",
              "      <td>0.114</td>\n",
              "    </tr>\n",
              "    <tr>\n",
              "      <th>opponent_team_encoded_12.0</th>\n",
              "      <td>0.116</td>\n",
              "    </tr>\n",
              "    <tr>\n",
              "      <th>goals_conceded</th>\n",
              "      <td>0.142</td>\n",
              "    </tr>\n",
              "    <tr>\n",
              "      <th>team_encoded_0.0</th>\n",
              "      <td>0.149</td>\n",
              "    </tr>\n",
              "    <tr>\n",
              "      <th>red_cards</th>\n",
              "      <td>0.174</td>\n",
              "    </tr>\n",
              "    <tr>\n",
              "      <th>team_encoded_10.0</th>\n",
              "      <td>0.254</td>\n",
              "    </tr>\n",
              "    <tr>\n",
              "      <th>team_encoded_9.0</th>\n",
              "      <td>0.355</td>\n",
              "    </tr>\n",
              "    <tr>\n",
              "      <th>total_points</th>\n",
              "      <td>0.481</td>\n",
              "    </tr>\n",
              "    <tr>\n",
              "      <th>yellow_cards</th>\n",
              "      <td>1.532</td>\n",
              "    </tr>\n",
              "    <tr>\n",
              "      <th>threat</th>\n",
              "      <td>1.558</td>\n",
              "    </tr>\n",
              "  </tbody>\n",
              "</table>\n",
              "</div>\n",
              "      <button class=\"colab-df-convert\" onclick=\"convertToInteractive('df-d48b7dfd-2efe-4e9f-9684-1ce6957de234')\"\n",
              "              title=\"Convert this dataframe to an interactive table.\"\n",
              "              style=\"display:none;\">\n",
              "        \n",
              "  <svg xmlns=\"http://www.w3.org/2000/svg\" height=\"24px\"viewBox=\"0 0 24 24\"\n",
              "       width=\"24px\">\n",
              "    <path d=\"M0 0h24v24H0V0z\" fill=\"none\"/>\n",
              "    <path d=\"M18.56 5.44l.94 2.06.94-2.06 2.06-.94-2.06-.94-.94-2.06-.94 2.06-2.06.94zm-11 1L8.5 8.5l.94-2.06 2.06-.94-2.06-.94L8.5 2.5l-.94 2.06-2.06.94zm10 10l.94 2.06.94-2.06 2.06-.94-2.06-.94-.94-2.06-.94 2.06-2.06.94z\"/><path d=\"M17.41 7.96l-1.37-1.37c-.4-.4-.92-.59-1.43-.59-.52 0-1.04.2-1.43.59L10.3 9.45l-7.72 7.72c-.78.78-.78 2.05 0 2.83L4 21.41c.39.39.9.59 1.41.59.51 0 1.02-.2 1.41-.59l7.78-7.78 2.81-2.81c.8-.78.8-2.07 0-2.86zM5.41 20L4 18.59l7.72-7.72 1.47 1.35L5.41 20z\"/>\n",
              "  </svg>\n",
              "      </button>\n",
              "      \n",
              "  <style>\n",
              "    .colab-df-container {\n",
              "      display:flex;\n",
              "      flex-wrap:wrap;\n",
              "      gap: 12px;\n",
              "    }\n",
              "\n",
              "    .colab-df-convert {\n",
              "      background-color: #E8F0FE;\n",
              "      border: none;\n",
              "      border-radius: 50%;\n",
              "      cursor: pointer;\n",
              "      display: none;\n",
              "      fill: #1967D2;\n",
              "      height: 32px;\n",
              "      padding: 0 0 0 0;\n",
              "      width: 32px;\n",
              "    }\n",
              "\n",
              "    .colab-df-convert:hover {\n",
              "      background-color: #E2EBFA;\n",
              "      box-shadow: 0px 1px 2px rgba(60, 64, 67, 0.3), 0px 1px 3px 1px rgba(60, 64, 67, 0.15);\n",
              "      fill: #174EA6;\n",
              "    }\n",
              "\n",
              "    [theme=dark] .colab-df-convert {\n",
              "      background-color: #3B4455;\n",
              "      fill: #D2E3FC;\n",
              "    }\n",
              "\n",
              "    [theme=dark] .colab-df-convert:hover {\n",
              "      background-color: #434B5C;\n",
              "      box-shadow: 0px 1px 3px 1px rgba(0, 0, 0, 0.15);\n",
              "      filter: drop-shadow(0px 1px 2px rgba(0, 0, 0, 0.3));\n",
              "      fill: #FFFFFF;\n",
              "    }\n",
              "  </style>\n",
              "\n",
              "      <script>\n",
              "        const buttonEl =\n",
              "          document.querySelector('#df-d48b7dfd-2efe-4e9f-9684-1ce6957de234 button.colab-df-convert');\n",
              "        buttonEl.style.display =\n",
              "          google.colab.kernel.accessAllowed ? 'block' : 'none';\n",
              "\n",
              "        async function convertToInteractive(key) {\n",
              "          const element = document.querySelector('#df-d48b7dfd-2efe-4e9f-9684-1ce6957de234');\n",
              "          const dataTable =\n",
              "            await google.colab.kernel.invokeFunction('convertToInteractive',\n",
              "                                                     [key], {});\n",
              "          if (!dataTable) return;\n",
              "\n",
              "          const docLinkHtml = 'Like what you see? Visit the ' +\n",
              "            '<a target=\"_blank\" href=https://colab.research.google.com/notebooks/data_table.ipynb>data table notebook</a>'\n",
              "            + ' to learn more about interactive tables.';\n",
              "          element.innerHTML = '';\n",
              "          dataTable['output_type'] = 'display_data';\n",
              "          await google.colab.output.renderOutput(dataTable, element);\n",
              "          const docLink = document.createElement('div');\n",
              "          docLink.innerHTML = docLinkHtml;\n",
              "          element.appendChild(docLink);\n",
              "        }\n",
              "      </script>\n",
              "    </div>\n",
              "  </div>\n",
              "  "
            ],
            "text/plain": [
              "                             coef\n",
              "clean_sheets               -0.800\n",
              "influence                  -0.769\n",
              "team_encoded_17.0          -0.677\n",
              "team_encoded_19.0          -0.519\n",
              "team_encoded_4.0           -0.518\n",
              "opponent_team_encoded_10.0 -0.482\n",
              "ppm                        -0.476\n",
              "opponent_team_encoded_11.0 -0.335\n",
              "team_encoded_18.0          -0.331\n",
              "opponent_team_encoded_15.0 -0.327\n",
              "opponent_team_encoded_8.0  -0.312\n",
              "team_encoded_2.0           -0.262\n",
              "opponent_team_encoded_0.0  -0.256\n",
              "opponent_team_encoded_9.0  -0.251\n",
              "team_encoded_13.0          -0.244\n",
              "team_encoded_12.0          -0.236\n",
              "opponent_team_encoded_19.0 -0.213\n",
              "team_encoded_15.0          -0.195\n",
              "opponent_team_encoded_2.0  -0.158\n",
              "team_encoded_5.0           -0.152\n",
              "was_home_encoded           -0.143\n",
              "opponent_team_encoded_16.0 -0.139\n",
              "team_encoded_6.0           -0.122\n",
              "opponent_team_encoded_4.0  -0.091\n",
              "opponent_team_encoded_5.0  -0.088\n",
              "opponent_team_encoded_3.0  -0.078\n",
              "own_goals                  -0.076\n",
              "team_encoded_1.0           -0.071\n",
              "opponent_team_encoded_1.0  -0.054\n",
              "team_a_score               -0.024\n",
              "opponent_team_encoded_7.0  -0.007\n",
              "opponent_team_encoded_6.0   0.001\n",
              "penalties_missed            0.014\n",
              "opponent_team_encoded_13.0  0.024\n",
              "team_encoded_3.0            0.032\n",
              "team_encoded_7.0            0.032\n",
              "team_encoded_16.0           0.039\n",
              "minutes                     0.041\n",
              "team_encoded_8.0            0.047\n",
              "opponent_team_encoded_17.0  0.055\n",
              "team_h_score                0.099\n",
              "team_encoded_11.0           0.103\n",
              "opponent_team_encoded_18.0  0.114\n",
              "opponent_team_encoded_12.0  0.116\n",
              "goals_conceded              0.142\n",
              "team_encoded_0.0            0.149\n",
              "red_cards                   0.174\n",
              "team_encoded_10.0           0.254\n",
              "team_encoded_9.0            0.355\n",
              "total_points                0.481\n",
              "yellow_cards                1.532\n",
              "threat                      1.558"
            ]
          },
          "execution_count": 409,
          "metadata": {},
          "output_type": "execute_result"
        }
      ],
      "source": [
        "# 오즈비 해석\n",
        "\n",
        "# 변수명을 Index로 만들고 coefficient값을 매칭한 데이터프레임 만들기\n",
        "\n",
        "feature_names = list(data.columns)   # 변수명(컬럼명)을 리스트 형태로 만들기\n",
        "dft = pd.DataFrame(np.round(best_clf.coef_, 3).transpose(), index=feature_names,\n",
        "                   columns=['coef'])\n",
        "dft1 = dft.sort_values(by='coef', ascending=True)   # 컬럼 coef의 값들을 오름차순으로 정리\n",
        "dft1"
      ]
    },
    {
      "cell_type": "code",
      "execution_count": null,
      "metadata": {
        "colab": {
          "base_uri": "https://localhost:8080/",
          "height": 1000
        },
        "id": "WicZOfO0prae",
        "outputId": "979636d3-6cfb-49e0-e873-32fc40c74bb1"
      },
      "outputs": [
        {
          "data": {
            "text/html": [
              "\n",
              "  <div id=\"df-ffdd9f78-6c24-45db-8541-29deeb1fd221\">\n",
              "    <div class=\"colab-df-container\">\n",
              "      <div>\n",
              "<style scoped>\n",
              "    .dataframe tbody tr th:only-of-type {\n",
              "        vertical-align: middle;\n",
              "    }\n",
              "\n",
              "    .dataframe tbody tr th {\n",
              "        vertical-align: top;\n",
              "    }\n",
              "\n",
              "    .dataframe thead th {\n",
              "        text-align: right;\n",
              "    }\n",
              "</style>\n",
              "<table border=\"1\" class=\"dataframe\">\n",
              "  <thead>\n",
              "    <tr style=\"text-align: right;\">\n",
              "      <th></th>\n",
              "      <th>Odds_ratio</th>\n",
              "    </tr>\n",
              "  </thead>\n",
              "  <tbody>\n",
              "    <tr>\n",
              "      <th>threat</th>\n",
              "      <td>4.749</td>\n",
              "    </tr>\n",
              "    <tr>\n",
              "      <th>yellow_cards</th>\n",
              "      <td>4.627</td>\n",
              "    </tr>\n",
              "    <tr>\n",
              "      <th>total_points</th>\n",
              "      <td>1.618</td>\n",
              "    </tr>\n",
              "    <tr>\n",
              "      <th>team_encoded_9.0</th>\n",
              "      <td>1.426</td>\n",
              "    </tr>\n",
              "    <tr>\n",
              "      <th>team_encoded_10.0</th>\n",
              "      <td>1.289</td>\n",
              "    </tr>\n",
              "    <tr>\n",
              "      <th>red_cards</th>\n",
              "      <td>1.190</td>\n",
              "    </tr>\n",
              "    <tr>\n",
              "      <th>team_encoded_0.0</th>\n",
              "      <td>1.160</td>\n",
              "    </tr>\n",
              "    <tr>\n",
              "      <th>goals_conceded</th>\n",
              "      <td>1.152</td>\n",
              "    </tr>\n",
              "    <tr>\n",
              "      <th>opponent_team_encoded_12.0</th>\n",
              "      <td>1.123</td>\n",
              "    </tr>\n",
              "    <tr>\n",
              "      <th>opponent_team_encoded_18.0</th>\n",
              "      <td>1.121</td>\n",
              "    </tr>\n",
              "    <tr>\n",
              "      <th>team_encoded_11.0</th>\n",
              "      <td>1.108</td>\n",
              "    </tr>\n",
              "    <tr>\n",
              "      <th>team_h_score</th>\n",
              "      <td>1.104</td>\n",
              "    </tr>\n",
              "    <tr>\n",
              "      <th>opponent_team_encoded_17.0</th>\n",
              "      <td>1.056</td>\n",
              "    </tr>\n",
              "    <tr>\n",
              "      <th>team_encoded_8.0</th>\n",
              "      <td>1.048</td>\n",
              "    </tr>\n",
              "    <tr>\n",
              "      <th>minutes</th>\n",
              "      <td>1.042</td>\n",
              "    </tr>\n",
              "    <tr>\n",
              "      <th>team_encoded_16.0</th>\n",
              "      <td>1.040</td>\n",
              "    </tr>\n",
              "    <tr>\n",
              "      <th>team_encoded_7.0</th>\n",
              "      <td>1.033</td>\n",
              "    </tr>\n",
              "    <tr>\n",
              "      <th>team_encoded_3.0</th>\n",
              "      <td>1.033</td>\n",
              "    </tr>\n",
              "    <tr>\n",
              "      <th>opponent_team_encoded_13.0</th>\n",
              "      <td>1.024</td>\n",
              "    </tr>\n",
              "    <tr>\n",
              "      <th>penalties_missed</th>\n",
              "      <td>1.014</td>\n",
              "    </tr>\n",
              "    <tr>\n",
              "      <th>opponent_team_encoded_6.0</th>\n",
              "      <td>1.001</td>\n",
              "    </tr>\n",
              "    <tr>\n",
              "      <th>opponent_team_encoded_7.0</th>\n",
              "      <td>0.993</td>\n",
              "    </tr>\n",
              "    <tr>\n",
              "      <th>team_a_score</th>\n",
              "      <td>0.976</td>\n",
              "    </tr>\n",
              "    <tr>\n",
              "      <th>opponent_team_encoded_1.0</th>\n",
              "      <td>0.948</td>\n",
              "    </tr>\n",
              "    <tr>\n",
              "      <th>team_encoded_1.0</th>\n",
              "      <td>0.932</td>\n",
              "    </tr>\n",
              "    <tr>\n",
              "      <th>own_goals</th>\n",
              "      <td>0.927</td>\n",
              "    </tr>\n",
              "    <tr>\n",
              "      <th>opponent_team_encoded_3.0</th>\n",
              "      <td>0.925</td>\n",
              "    </tr>\n",
              "    <tr>\n",
              "      <th>opponent_team_encoded_5.0</th>\n",
              "      <td>0.915</td>\n",
              "    </tr>\n",
              "    <tr>\n",
              "      <th>opponent_team_encoded_4.0</th>\n",
              "      <td>0.913</td>\n",
              "    </tr>\n",
              "    <tr>\n",
              "      <th>team_encoded_6.0</th>\n",
              "      <td>0.885</td>\n",
              "    </tr>\n",
              "    <tr>\n",
              "      <th>opponent_team_encoded_16.0</th>\n",
              "      <td>0.871</td>\n",
              "    </tr>\n",
              "    <tr>\n",
              "      <th>was_home_encoded</th>\n",
              "      <td>0.867</td>\n",
              "    </tr>\n",
              "    <tr>\n",
              "      <th>team_encoded_5.0</th>\n",
              "      <td>0.859</td>\n",
              "    </tr>\n",
              "    <tr>\n",
              "      <th>opponent_team_encoded_2.0</th>\n",
              "      <td>0.854</td>\n",
              "    </tr>\n",
              "    <tr>\n",
              "      <th>team_encoded_15.0</th>\n",
              "      <td>0.822</td>\n",
              "    </tr>\n",
              "    <tr>\n",
              "      <th>opponent_team_encoded_19.0</th>\n",
              "      <td>0.808</td>\n",
              "    </tr>\n",
              "    <tr>\n",
              "      <th>team_encoded_12.0</th>\n",
              "      <td>0.790</td>\n",
              "    </tr>\n",
              "    <tr>\n",
              "      <th>team_encoded_13.0</th>\n",
              "      <td>0.783</td>\n",
              "    </tr>\n",
              "    <tr>\n",
              "      <th>opponent_team_encoded_9.0</th>\n",
              "      <td>0.778</td>\n",
              "    </tr>\n",
              "    <tr>\n",
              "      <th>opponent_team_encoded_0.0</th>\n",
              "      <td>0.774</td>\n",
              "    </tr>\n",
              "    <tr>\n",
              "      <th>team_encoded_2.0</th>\n",
              "      <td>0.770</td>\n",
              "    </tr>\n",
              "    <tr>\n",
              "      <th>opponent_team_encoded_8.0</th>\n",
              "      <td>0.732</td>\n",
              "    </tr>\n",
              "    <tr>\n",
              "      <th>opponent_team_encoded_15.0</th>\n",
              "      <td>0.721</td>\n",
              "    </tr>\n",
              "    <tr>\n",
              "      <th>team_encoded_18.0</th>\n",
              "      <td>0.718</td>\n",
              "    </tr>\n",
              "    <tr>\n",
              "      <th>opponent_team_encoded_11.0</th>\n",
              "      <td>0.716</td>\n",
              "    </tr>\n",
              "    <tr>\n",
              "      <th>ppm</th>\n",
              "      <td>0.621</td>\n",
              "    </tr>\n",
              "    <tr>\n",
              "      <th>opponent_team_encoded_10.0</th>\n",
              "      <td>0.617</td>\n",
              "    </tr>\n",
              "    <tr>\n",
              "      <th>team_encoded_4.0</th>\n",
              "      <td>0.596</td>\n",
              "    </tr>\n",
              "    <tr>\n",
              "      <th>team_encoded_19.0</th>\n",
              "      <td>0.595</td>\n",
              "    </tr>\n",
              "    <tr>\n",
              "      <th>team_encoded_17.0</th>\n",
              "      <td>0.508</td>\n",
              "    </tr>\n",
              "    <tr>\n",
              "      <th>influence</th>\n",
              "      <td>0.463</td>\n",
              "    </tr>\n",
              "    <tr>\n",
              "      <th>clean_sheets</th>\n",
              "      <td>0.449</td>\n",
              "    </tr>\n",
              "  </tbody>\n",
              "</table>\n",
              "</div>\n",
              "      <button class=\"colab-df-convert\" onclick=\"convertToInteractive('df-ffdd9f78-6c24-45db-8541-29deeb1fd221')\"\n",
              "              title=\"Convert this dataframe to an interactive table.\"\n",
              "              style=\"display:none;\">\n",
              "        \n",
              "  <svg xmlns=\"http://www.w3.org/2000/svg\" height=\"24px\"viewBox=\"0 0 24 24\"\n",
              "       width=\"24px\">\n",
              "    <path d=\"M0 0h24v24H0V0z\" fill=\"none\"/>\n",
              "    <path d=\"M18.56 5.44l.94 2.06.94-2.06 2.06-.94-2.06-.94-.94-2.06-.94 2.06-2.06.94zm-11 1L8.5 8.5l.94-2.06 2.06-.94-2.06-.94L8.5 2.5l-.94 2.06-2.06.94zm10 10l.94 2.06.94-2.06 2.06-.94-2.06-.94-.94-2.06-.94 2.06-2.06.94z\"/><path d=\"M17.41 7.96l-1.37-1.37c-.4-.4-.92-.59-1.43-.59-.52 0-1.04.2-1.43.59L10.3 9.45l-7.72 7.72c-.78.78-.78 2.05 0 2.83L4 21.41c.39.39.9.59 1.41.59.51 0 1.02-.2 1.41-.59l7.78-7.78 2.81-2.81c.8-.78.8-2.07 0-2.86zM5.41 20L4 18.59l7.72-7.72 1.47 1.35L5.41 20z\"/>\n",
              "  </svg>\n",
              "      </button>\n",
              "      \n",
              "  <style>\n",
              "    .colab-df-container {\n",
              "      display:flex;\n",
              "      flex-wrap:wrap;\n",
              "      gap: 12px;\n",
              "    }\n",
              "\n",
              "    .colab-df-convert {\n",
              "      background-color: #E8F0FE;\n",
              "      border: none;\n",
              "      border-radius: 50%;\n",
              "      cursor: pointer;\n",
              "      display: none;\n",
              "      fill: #1967D2;\n",
              "      height: 32px;\n",
              "      padding: 0 0 0 0;\n",
              "      width: 32px;\n",
              "    }\n",
              "\n",
              "    .colab-df-convert:hover {\n",
              "      background-color: #E2EBFA;\n",
              "      box-shadow: 0px 1px 2px rgba(60, 64, 67, 0.3), 0px 1px 3px 1px rgba(60, 64, 67, 0.15);\n",
              "      fill: #174EA6;\n",
              "    }\n",
              "\n",
              "    [theme=dark] .colab-df-convert {\n",
              "      background-color: #3B4455;\n",
              "      fill: #D2E3FC;\n",
              "    }\n",
              "\n",
              "    [theme=dark] .colab-df-convert:hover {\n",
              "      background-color: #434B5C;\n",
              "      box-shadow: 0px 1px 3px 1px rgba(0, 0, 0, 0.15);\n",
              "      filter: drop-shadow(0px 1px 2px rgba(0, 0, 0, 0.3));\n",
              "      fill: #FFFFFF;\n",
              "    }\n",
              "  </style>\n",
              "\n",
              "      <script>\n",
              "        const buttonEl =\n",
              "          document.querySelector('#df-ffdd9f78-6c24-45db-8541-29deeb1fd221 button.colab-df-convert');\n",
              "        buttonEl.style.display =\n",
              "          google.colab.kernel.accessAllowed ? 'block' : 'none';\n",
              "\n",
              "        async function convertToInteractive(key) {\n",
              "          const element = document.querySelector('#df-ffdd9f78-6c24-45db-8541-29deeb1fd221');\n",
              "          const dataTable =\n",
              "            await google.colab.kernel.invokeFunction('convertToInteractive',\n",
              "                                                     [key], {});\n",
              "          if (!dataTable) return;\n",
              "\n",
              "          const docLinkHtml = 'Like what you see? Visit the ' +\n",
              "            '<a target=\"_blank\" href=https://colab.research.google.com/notebooks/data_table.ipynb>data table notebook</a>'\n",
              "            + ' to learn more about interactive tables.';\n",
              "          element.innerHTML = '';\n",
              "          dataTable['output_type'] = 'display_data';\n",
              "          await google.colab.output.renderOutput(dataTable, element);\n",
              "          const docLink = document.createElement('div');\n",
              "          docLink.innerHTML = docLinkHtml;\n",
              "          element.appendChild(docLink);\n",
              "        }\n",
              "      </script>\n",
              "    </div>\n",
              "  </div>\n",
              "  "
            ],
            "text/plain": [
              "                            Odds_ratio\n",
              "threat                           4.749\n",
              "yellow_cards                     4.627\n",
              "total_points                     1.618\n",
              "team_encoded_9.0                 1.426\n",
              "team_encoded_10.0                1.289\n",
              "red_cards                        1.190\n",
              "team_encoded_0.0                 1.160\n",
              "goals_conceded                   1.152\n",
              "opponent_team_encoded_12.0       1.123\n",
              "opponent_team_encoded_18.0       1.121\n",
              "team_encoded_11.0                1.108\n",
              "team_h_score                     1.104\n",
              "opponent_team_encoded_17.0       1.056\n",
              "team_encoded_8.0                 1.048\n",
              "minutes                          1.042\n",
              "team_encoded_16.0                1.040\n",
              "team_encoded_7.0                 1.033\n",
              "team_encoded_3.0                 1.033\n",
              "opponent_team_encoded_13.0       1.024\n",
              "penalties_missed                 1.014\n",
              "opponent_team_encoded_6.0        1.001\n",
              "opponent_team_encoded_7.0        0.993\n",
              "team_a_score                     0.976\n",
              "opponent_team_encoded_1.0        0.948\n",
              "team_encoded_1.0                 0.932\n",
              "own_goals                        0.927\n",
              "opponent_team_encoded_3.0        0.925\n",
              "opponent_team_encoded_5.0        0.915\n",
              "opponent_team_encoded_4.0        0.913\n",
              "team_encoded_6.0                 0.885\n",
              "opponent_team_encoded_16.0       0.871\n",
              "was_home_encoded                 0.867\n",
              "team_encoded_5.0                 0.859\n",
              "opponent_team_encoded_2.0        0.854\n",
              "team_encoded_15.0                0.822\n",
              "opponent_team_encoded_19.0       0.808\n",
              "team_encoded_12.0                0.790\n",
              "team_encoded_13.0                0.783\n",
              "opponent_team_encoded_9.0        0.778\n",
              "opponent_team_encoded_0.0        0.774\n",
              "team_encoded_2.0                 0.770\n",
              "opponent_team_encoded_8.0        0.732\n",
              "opponent_team_encoded_15.0       0.721\n",
              "team_encoded_18.0                0.718\n",
              "opponent_team_encoded_11.0       0.716\n",
              "ppm                              0.621\n",
              "opponent_team_encoded_10.0       0.617\n",
              "team_encoded_4.0                 0.596\n",
              "team_encoded_19.0                0.595\n",
              "team_encoded_17.0                0.508\n",
              "influence                        0.463\n",
              "clean_sheets                     0.449"
            ]
          },
          "execution_count": 410,
          "metadata": {},
          "output_type": "execute_result"
        }
      ],
      "source": [
        "# 변수명을 Index로 만들고 coefficient값을 제곱한 Odds ratio값을 Index에 매칭한 데이터프레임 만들기\n",
        "\n",
        "feature_names = list(data.columns)   # 변수명(컬럼명)을 리스트 형태로 만들기\n",
        "dft = pd.DataFrame(np.round(np.exp(best_clf.coef_),3).transpose(), index=feature_names,\n",
        "                   columns=['Odds_ratio'])\n",
        "dft1 = dft.sort_values(by='Odds_ratio', ascending=False)   # 컬럼 coef의 값들을 내림차순으로 정리\n",
        "dft1"
      ]
    },
    {
      "cell_type": "code",
      "execution_count": null,
      "metadata": {
        "colab": {
          "base_uri": "https://localhost:8080/",
          "height": 856
        },
        "id": "moIF2DUlp0wq",
        "outputId": "a250001d-c0d2-4960-8c8d-6cc8578cfb26"
      },
      "outputs": [
        {
          "data": {
            "image/png": "[encoded data removed]",
            "text/plain": [
              "<Figure size 1000x1000 with 1 Axes>"
            ]
          },
          "metadata": {},
          "output_type": "display_data"
        }
      ],
      "source": [
        "# 데이터프레임 dft1의 막대그래프(barplot) 그리기\n",
        "import matplotlib.pyplot as plt\n",
        "import seaborn as sns\n",
        "%matplotlib inline\n",
        "plt.figure(figsize=(10, 10))  # 가로 크기 10, 세로 크기 6\n",
        "\n",
        "ax = sns.barplot(y=dft1.index, x=\"Odds_ratio\", data=dft1)\n",
        "\n",
        "for p in ax.patches:\n",
        "    ax.annotate(\"%.3f\" % p.get_width(), (p.get_x() + p.get_width(), p.get_y()+1.2),\n",
        "                xytext=(5, 10), textcoords='offset points')"
      ]
    },
    {
      "cell_type": "code",
      "execution_count": null,
      "metadata": {
        "colab": {
          "base_uri": "https://localhost:8080/"
        },
        "id": "Y_JOOAOBuY9i",
        "outputId": "e198a66a-bf01-4f43-bb69-af7424d0ee80"
      },
      "outputs": [
        {
          "data": {
            "text/plain": [
              "(11251, 52)"
            ]
          },
          "execution_count": 412,
          "metadata": {},
          "output_type": "execute_result"
        }
      ],
      "source": [
        "X_train.shape"
      ]
    },
    {
      "cell_type": "code",
      "execution_count": null,
      "metadata": {
        "colab": {
          "base_uri": "https://localhost:8080/"
        },
        "id": "to1o4dsMyn-2",
        "outputId": "7ce3fff3-bc05-4c63-9dd3-89776d5f4220"
      },
      "outputs": [
        {
          "name": "stdout",
          "output_type": "stream",
          "text": [
            "X_train shape: (6751, 52)\n",
            "X_test shape: (6751, 52)\n"
          ]
        }
      ],
      "source": [
        "# 제거할 비율 설정\n",
        "remove_ratio = 0.4  # 제거할 비율 (예: 20%)\n",
        "\n",
        "# 무작위로 샘플 선택하여 제거\n",
        "remove_indices = np.random.choice(df.index, size=int(len(df) * remove_ratio), replace=False)\n",
        "data= dfu_standard.drop(remove_indices)\n",
        "target = dfu_standard['creativity_B'].drop(remove_indices)\n",
        "\n",
        "data = data.drop(['creativity_B'], axis=1)\n",
        "\n",
        "# 50:50 데이터 분할\n",
        "from sklearn.model_selection import train_test_split\n",
        "X_train, X_test, y_train, y_test = train_test_split(\n",
        "    data, target, test_size=0.5, random_state=42, stratify=target)\n",
        "\n",
        "print(\"X_train shape:\", X_train.shape)\n",
        "print(\"X_test shape:\", X_test.shape)\n"
      ]
    },
    {
      "cell_type": "code",
      "execution_count": null,
      "metadata": {
        "colab": {
          "base_uri": "https://localhost:8080/",
          "height": 488
        },
        "id": "8-60UkGo_u-D",
        "outputId": "ccb6da3e-0499-4d18-c9a3-f924bbe3cdda"
      },
      "outputs": [
        {
          "data": {
            "text/html": [
              "\n",
              "  <div id=\"df-1e959b46-03d8-4921-a169-ac475cc67894\">\n",
              "    <div class=\"colab-df-container\">\n",
              "      <div>\n",
              "<style scoped>\n",
              "    .dataframe tbody tr th:only-of-type {\n",
              "        vertical-align: middle;\n",
              "    }\n",
              "\n",
              "    .dataframe tbody tr th {\n",
              "        vertical-align: top;\n",
              "    }\n",
              "\n",
              "    .dataframe thead th {\n",
              "        text-align: right;\n",
              "    }\n",
              "</style>\n",
              "<table border=\"1\" class=\"dataframe\">\n",
              "  <thead>\n",
              "    <tr style=\"text-align: right;\">\n",
              "      <th></th>\n",
              "      <th>goals_conceded</th>\n",
              "      <th>influence</th>\n",
              "      <th>team_a_score</th>\n",
              "      <th>team_h_score</th>\n",
              "      <th>ppm</th>\n",
              "      <th>threat</th>\n",
              "      <th>clean_sheets</th>\n",
              "      <th>minutes</th>\n",
              "      <th>own_goals</th>\n",
              "      <th>penalties_missed</th>\n",
              "      <th>...</th>\n",
              "      <th>team_encoded_9.0</th>\n",
              "      <th>team_encoded_10.0</th>\n",
              "      <th>team_encoded_11.0</th>\n",
              "      <th>team_encoded_12.0</th>\n",
              "      <th>team_encoded_13.0</th>\n",
              "      <th>team_encoded_15.0</th>\n",
              "      <th>team_encoded_16.0</th>\n",
              "      <th>team_encoded_17.0</th>\n",
              "      <th>team_encoded_18.0</th>\n",
              "      <th>team_encoded_19.0</th>\n",
              "    </tr>\n",
              "  </thead>\n",
              "  <tbody>\n",
              "    <tr>\n",
              "      <th>1</th>\n",
              "      <td>0.517554</td>\n",
              "      <td>-0.496453</td>\n",
              "      <td>-0.167564</td>\n",
              "      <td>-0.412574</td>\n",
              "      <td>-0.061632</td>\n",
              "      <td>1.850444</td>\n",
              "      <td>0</td>\n",
              "      <td>6</td>\n",
              "      <td>0</td>\n",
              "      <td>0</td>\n",
              "      <td>...</td>\n",
              "      <td>0</td>\n",
              "      <td>0</td>\n",
              "      <td>0</td>\n",
              "      <td>0</td>\n",
              "      <td>0</td>\n",
              "      <td>0</td>\n",
              "      <td>0</td>\n",
              "      <td>0</td>\n",
              "      <td>0</td>\n",
              "      <td>0</td>\n",
              "    </tr>\n",
              "    <tr>\n",
              "      <th>2</th>\n",
              "      <td>-0.528995</td>\n",
              "      <td>-0.418835</td>\n",
              "      <td>-1.007884</td>\n",
              "      <td>-1.215528</td>\n",
              "      <td>-0.061632</td>\n",
              "      <td>1.734811</td>\n",
              "      <td>0</td>\n",
              "      <td>20</td>\n",
              "      <td>0</td>\n",
              "      <td>0</td>\n",
              "      <td>...</td>\n",
              "      <td>0</td>\n",
              "      <td>0</td>\n",
              "      <td>0</td>\n",
              "      <td>0</td>\n",
              "      <td>0</td>\n",
              "      <td>0</td>\n",
              "      <td>0</td>\n",
              "      <td>0</td>\n",
              "      <td>0</td>\n",
              "      <td>0</td>\n",
              "    </tr>\n",
              "    <tr>\n",
              "      <th>3</th>\n",
              "      <td>0.517554</td>\n",
              "      <td>-0.558548</td>\n",
              "      <td>-1.007884</td>\n",
              "      <td>0.390379</td>\n",
              "      <td>-0.061632</td>\n",
              "      <td>-0.587593</td>\n",
              "      <td>0</td>\n",
              "      <td>25</td>\n",
              "      <td>0</td>\n",
              "      <td>0</td>\n",
              "      <td>...</td>\n",
              "      <td>0</td>\n",
              "      <td>0</td>\n",
              "      <td>0</td>\n",
              "      <td>0</td>\n",
              "      <td>0</td>\n",
              "      <td>0</td>\n",
              "      <td>0</td>\n",
              "      <td>0</td>\n",
              "      <td>0</td>\n",
              "      <td>0</td>\n",
              "    </tr>\n",
              "    <tr>\n",
              "      <th>11</th>\n",
              "      <td>0.517554</td>\n",
              "      <td>-0.092840</td>\n",
              "      <td>0.672757</td>\n",
              "      <td>-0.412574</td>\n",
              "      <td>0.394332</td>\n",
              "      <td>2.040659</td>\n",
              "      <td>0</td>\n",
              "      <td>75</td>\n",
              "      <td>0</td>\n",
              "      <td>0</td>\n",
              "      <td>...</td>\n",
              "      <td>0</td>\n",
              "      <td>0</td>\n",
              "      <td>0</td>\n",
              "      <td>0</td>\n",
              "      <td>0</td>\n",
              "      <td>0</td>\n",
              "      <td>0</td>\n",
              "      <td>0</td>\n",
              "      <td>0</td>\n",
              "      <td>0</td>\n",
              "    </tr>\n",
              "    <tr>\n",
              "      <th>12</th>\n",
              "      <td>-0.528995</td>\n",
              "      <td>-0.574071</td>\n",
              "      <td>0.672757</td>\n",
              "      <td>0.390379</td>\n",
              "      <td>-0.560012</td>\n",
              "      <td>-0.587593</td>\n",
              "      <td>0</td>\n",
              "      <td>0</td>\n",
              "      <td>0</td>\n",
              "      <td>0</td>\n",
              "      <td>...</td>\n",
              "      <td>0</td>\n",
              "      <td>0</td>\n",
              "      <td>0</td>\n",
              "      <td>0</td>\n",
              "      <td>0</td>\n",
              "      <td>0</td>\n",
              "      <td>0</td>\n",
              "      <td>0</td>\n",
              "      <td>0</td>\n",
              "      <td>0</td>\n",
              "    </tr>\n",
              "    <tr>\n",
              "      <th>...</th>\n",
              "      <td>...</td>\n",
              "      <td>...</td>\n",
              "      <td>...</td>\n",
              "      <td>...</td>\n",
              "      <td>...</td>\n",
              "      <td>...</td>\n",
              "      <td>...</td>\n",
              "      <td>...</td>\n",
              "      <td>...</td>\n",
              "      <td>...</td>\n",
              "      <td>...</td>\n",
              "      <td>...</td>\n",
              "      <td>...</td>\n",
              "      <td>...</td>\n",
              "      <td>...</td>\n",
              "      <td>...</td>\n",
              "      <td>...</td>\n",
              "      <td>...</td>\n",
              "      <td>...</td>\n",
              "      <td>...</td>\n",
              "      <td>...</td>\n",
              "    </tr>\n",
              "    <tr>\n",
              "      <th>22489</th>\n",
              "      <td>-0.528995</td>\n",
              "      <td>-0.574071</td>\n",
              "      <td>1.513077</td>\n",
              "      <td>0.390379</td>\n",
              "      <td>-0.560012</td>\n",
              "      <td>-0.587593</td>\n",
              "      <td>0</td>\n",
              "      <td>0</td>\n",
              "      <td>0</td>\n",
              "      <td>0</td>\n",
              "      <td>...</td>\n",
              "      <td>0</td>\n",
              "      <td>0</td>\n",
              "      <td>0</td>\n",
              "      <td>0</td>\n",
              "      <td>0</td>\n",
              "      <td>0</td>\n",
              "      <td>0</td>\n",
              "      <td>0</td>\n",
              "      <td>0</td>\n",
              "      <td>0</td>\n",
              "    </tr>\n",
              "    <tr>\n",
              "      <th>22493</th>\n",
              "      <td>1.564102</td>\n",
              "      <td>0.621245</td>\n",
              "      <td>0.672757</td>\n",
              "      <td>-0.412574</td>\n",
              "      <td>0.483108</td>\n",
              "      <td>-0.587593</td>\n",
              "      <td>0</td>\n",
              "      <td>90</td>\n",
              "      <td>0</td>\n",
              "      <td>0</td>\n",
              "      <td>...</td>\n",
              "      <td>0</td>\n",
              "      <td>0</td>\n",
              "      <td>0</td>\n",
              "      <td>0</td>\n",
              "      <td>0</td>\n",
              "      <td>0</td>\n",
              "      <td>0</td>\n",
              "      <td>0</td>\n",
              "      <td>0</td>\n",
              "      <td>0</td>\n",
              "    </tr>\n",
              "    <tr>\n",
              "      <th>22495</th>\n",
              "      <td>0.517554</td>\n",
              "      <td>-0.030746</td>\n",
              "      <td>-0.167564</td>\n",
              "      <td>-1.215528</td>\n",
              "      <td>0.483108</td>\n",
              "      <td>-0.587593</td>\n",
              "      <td>0</td>\n",
              "      <td>90</td>\n",
              "      <td>0</td>\n",
              "      <td>0</td>\n",
              "      <td>...</td>\n",
              "      <td>0</td>\n",
              "      <td>0</td>\n",
              "      <td>0</td>\n",
              "      <td>0</td>\n",
              "      <td>0</td>\n",
              "      <td>0</td>\n",
              "      <td>0</td>\n",
              "      <td>0</td>\n",
              "      <td>0</td>\n",
              "      <td>0</td>\n",
              "    </tr>\n",
              "    <tr>\n",
              "      <th>22496</th>\n",
              "      <td>-0.528995</td>\n",
              "      <td>-0.574071</td>\n",
              "      <td>-1.007884</td>\n",
              "      <td>0.390379</td>\n",
              "      <td>-0.560012</td>\n",
              "      <td>-0.587593</td>\n",
              "      <td>0</td>\n",
              "      <td>0</td>\n",
              "      <td>0</td>\n",
              "      <td>0</td>\n",
              "      <td>...</td>\n",
              "      <td>0</td>\n",
              "      <td>0</td>\n",
              "      <td>0</td>\n",
              "      <td>0</td>\n",
              "      <td>0</td>\n",
              "      <td>0</td>\n",
              "      <td>0</td>\n",
              "      <td>0</td>\n",
              "      <td>0</td>\n",
              "      <td>0</td>\n",
              "    </tr>\n",
              "    <tr>\n",
              "      <th>22498</th>\n",
              "      <td>-0.528995</td>\n",
              "      <td>-0.574071</td>\n",
              "      <td>-1.007884</td>\n",
              "      <td>0.390379</td>\n",
              "      <td>-0.560012</td>\n",
              "      <td>-0.587593</td>\n",
              "      <td>0</td>\n",
              "      <td>0</td>\n",
              "      <td>0</td>\n",
              "      <td>0</td>\n",
              "      <td>...</td>\n",
              "      <td>0</td>\n",
              "      <td>0</td>\n",
              "      <td>0</td>\n",
              "      <td>0</td>\n",
              "      <td>0</td>\n",
              "      <td>0</td>\n",
              "      <td>0</td>\n",
              "      <td>0</td>\n",
              "      <td>0</td>\n",
              "      <td>0</td>\n",
              "    </tr>\n",
              "  </tbody>\n",
              "</table>\n",
              "<p>13502 rows × 52 columns</p>\n",
              "</div>\n",
              "      <button class=\"colab-df-convert\" onclick=\"convertToInteractive('df-1e959b46-03d8-4921-a169-ac475cc67894')\"\n",
              "              title=\"Convert this dataframe to an interactive table.\"\n",
              "              style=\"display:none;\">\n",
              "        \n",
              "  <svg xmlns=\"http://www.w3.org/2000/svg\" height=\"24px\"viewBox=\"0 0 24 24\"\n",
              "       width=\"24px\">\n",
              "    <path d=\"M0 0h24v24H0V0z\" fill=\"none\"/>\n",
              "    <path d=\"M18.56 5.44l.94 2.06.94-2.06 2.06-.94-2.06-.94-.94-2.06-.94 2.06-2.06.94zm-11 1L8.5 8.5l.94-2.06 2.06-.94-2.06-.94L8.5 2.5l-.94 2.06-2.06.94zm10 10l.94 2.06.94-2.06 2.06-.94-2.06-.94-.94-2.06-.94 2.06-2.06.94z\"/><path d=\"M17.41 7.96l-1.37-1.37c-.4-.4-.92-.59-1.43-.59-.52 0-1.04.2-1.43.59L10.3 9.45l-7.72 7.72c-.78.78-.78 2.05 0 2.83L4 21.41c.39.39.9.59 1.41.59.51 0 1.02-.2 1.41-.59l7.78-7.78 2.81-2.81c.8-.78.8-2.07 0-2.86zM5.41 20L4 18.59l7.72-7.72 1.47 1.35L5.41 20z\"/>\n",
              "  </svg>\n",
              "      </button>\n",
              "      \n",
              "  <style>\n",
              "    .colab-df-container {\n",
              "      display:flex;\n",
              "      flex-wrap:wrap;\n",
              "      gap: 12px;\n",
              "    }\n",
              "\n",
              "    .colab-df-convert {\n",
              "      background-color: #E8F0FE;\n",
              "      border: none;\n",
              "      border-radius: 50%;\n",
              "      cursor: pointer;\n",
              "      display: none;\n",
              "      fill: #1967D2;\n",
              "      height: 32px;\n",
              "      padding: 0 0 0 0;\n",
              "      width: 32px;\n",
              "    }\n",
              "\n",
              "    .colab-df-convert:hover {\n",
              "      background-color: #E2EBFA;\n",
              "      box-shadow: 0px 1px 2px rgba(60, 64, 67, 0.3), 0px 1px 3px 1px rgba(60, 64, 67, 0.15);\n",
              "      fill: #174EA6;\n",
              "    }\n",
              "\n",
              "    [theme=dark] .colab-df-convert {\n",
              "      background-color: #3B4455;\n",
              "      fill: #D2E3FC;\n",
              "    }\n",
              "\n",
              "    [theme=dark] .colab-df-convert:hover {\n",
              "      background-color: #434B5C;\n",
              "      box-shadow: 0px 1px 3px 1px rgba(0, 0, 0, 0.15);\n",
              "      filter: drop-shadow(0px 1px 2px rgba(0, 0, 0, 0.3));\n",
              "      fill: #FFFFFF;\n",
              "    }\n",
              "  </style>\n",
              "\n",
              "      <script>\n",
              "        const buttonEl =\n",
              "          document.querySelector('#df-1e959b46-03d8-4921-a169-ac475cc67894 button.colab-df-convert');\n",
              "        buttonEl.style.display =\n",
              "          google.colab.kernel.accessAllowed ? 'block' : 'none';\n",
              "\n",
              "        async function convertToInteractive(key) {\n",
              "          const element = document.querySelector('#df-1e959b46-03d8-4921-a169-ac475cc67894');\n",
              "          const dataTable =\n",
              "            await google.colab.kernel.invokeFunction('convertToInteractive',\n",
              "                                                     [key], {});\n",
              "          if (!dataTable) return;\n",
              "\n",
              "          const docLinkHtml = 'Like what you see? Visit the ' +\n",
              "            '<a target=\"_blank\" href=https://colab.research.google.com/notebooks/data_table.ipynb>data table notebook</a>'\n",
              "            + ' to learn more about interactive tables.';\n",
              "          element.innerHTML = '';\n",
              "          dataTable['output_type'] = 'display_data';\n",
              "          await google.colab.output.renderOutput(dataTable, element);\n",
              "          const docLink = document.createElement('div');\n",
              "          docLink.innerHTML = docLinkHtml;\n",
              "          element.appendChild(docLink);\n",
              "        }\n",
              "      </script>\n",
              "    </div>\n",
              "  </div>\n",
              "  "
            ],
            "text/plain": [
              "       goals_conceded  influence  team_a_score  team_h_score       ppm  \\\n",
              "1            0.517554  -0.496453     -0.167564     -0.412574 -0.061632   \n",
              "2           -0.528995  -0.418835     -1.007884     -1.215528 -0.061632   \n",
              "3            0.517554  -0.558548     -1.007884      0.390379 -0.061632   \n",
              "11           0.517554  -0.092840      0.672757     -0.412574  0.394332   \n",
              "12          -0.528995  -0.574071      0.672757      0.390379 -0.560012   \n",
              "...               ...        ...           ...           ...       ...   \n",
              "22489       -0.528995  -0.574071      1.513077      0.390379 -0.560012   \n",
              "22493        1.564102   0.621245      0.672757     -0.412574  0.483108   \n",
              "22495        0.517554  -0.030746     -0.167564     -1.215528  0.483108   \n",
              "22496       -0.528995  -0.574071     -1.007884      0.390379 -0.560012   \n",
              "22498       -0.528995  -0.574071     -1.007884      0.390379 -0.560012   \n",
              "\n",
              "         threat  clean_sheets  minutes  own_goals  penalties_missed  ...  \\\n",
              "1      1.850444             0        6          0                 0  ...   \n",
              "2      1.734811             0       20          0                 0  ...   \n",
              "3     -0.587593             0       25          0                 0  ...   \n",
              "11     2.040659             0       75          0                 0  ...   \n",
              "12    -0.587593             0        0          0                 0  ...   \n",
              "...         ...           ...      ...        ...               ...  ...   \n",
              "22489 -0.587593             0        0          0                 0  ...   \n",
              "22493 -0.587593             0       90          0                 0  ...   \n",
              "22495 -0.587593             0       90          0                 0  ...   \n",
              "22496 -0.587593             0        0          0                 0  ...   \n",
              "22498 -0.587593             0        0          0                 0  ...   \n",
              "\n",
              "       team_encoded_9.0  team_encoded_10.0  team_encoded_11.0  \\\n",
              "1                     0                  0                  0   \n",
              "2                     0                  0                  0   \n",
              "3                     0                  0                  0   \n",
              "11                    0                  0                  0   \n",
              "12                    0                  0                  0   \n",
              "...                 ...                ...                ...   \n",
              "22489                 0                  0                  0   \n",
              "22493                 0                  0                  0   \n",
              "22495                 0                  0                  0   \n",
              "22496                 0                  0                  0   \n",
              "22498                 0                  0                  0   \n",
              "\n",
              "       team_encoded_12.0  team_encoded_13.0  team_encoded_15.0  \\\n",
              "1                      0                  0                  0   \n",
              "2                      0                  0                  0   \n",
              "3                      0                  0                  0   \n",
              "11                     0                  0                  0   \n",
              "12                     0                  0                  0   \n",
              "...                  ...                ...                ...   \n",
              "22489                  0                  0                  0   \n",
              "22493                  0                  0                  0   \n",
              "22495                  0                  0                  0   \n",
              "22496                  0                  0                  0   \n",
              "22498                  0                  0                  0   \n",
              "\n",
              "       team_encoded_16.0  team_encoded_17.0  team_encoded_18.0  \\\n",
              "1                      0                  0                  0   \n",
              "2                      0                  0                  0   \n",
              "3                      0                  0                  0   \n",
              "11                     0                  0                  0   \n",
              "12                     0                  0                  0   \n",
              "...                  ...                ...                ...   \n",
              "22489                  0                  0                  0   \n",
              "22493                  0                  0                  0   \n",
              "22495                  0                  0                  0   \n",
              "22496                  0                  0                  0   \n",
              "22498                  0                  0                  0   \n",
              "\n",
              "       team_encoded_19.0  \n",
              "1                      0  \n",
              "2                      0  \n",
              "3                      0  \n",
              "11                     0  \n",
              "12                     0  \n",
              "...                  ...  \n",
              "22489                  0  \n",
              "22493                  0  \n",
              "22495                  0  \n",
              "22496                  0  \n",
              "22498                  0  \n",
              "\n",
              "[13502 rows x 52 columns]"
            ]
          },
          "execution_count": 253,
          "metadata": {},
          "output_type": "execute_result"
        }
      ],
      "source": [
        "data.drop(['creativity_B'], axis=1)"
      ]
    },
    {
      "cell_type": "code",
      "execution_count": null,
      "metadata": {
        "colab": {
          "base_uri": "https://localhost:8080/"
        },
        "id": "fqc2DB8BCiMU",
        "outputId": "34919173-166f-41f6-d1d6-264aa0a43a6b"
      },
      "outputs": [
        {
          "data": {
            "text/plain": [
              "Index(['goals_conceded', 'influence', 'team_a_score', 'team_h_score', 'ppm',\n",
              "       'threat', 'clean_sheets', 'minutes', 'own_goals', 'penalties_missed',\n",
              "       'red_cards', 'total_points', 'yellow_cards', 'was_home_encoded',\n",
              "       'opponent_team_encoded_0.0', 'opponent_team_encoded_1.0',\n",
              "       'opponent_team_encoded_2.0', 'opponent_team_encoded_3.0',\n",
              "       'opponent_team_encoded_4.0', 'opponent_team_encoded_5.0',\n",
              "       'opponent_team_encoded_6.0', 'opponent_team_encoded_7.0',\n",
              "       'opponent_team_encoded_8.0', 'opponent_team_encoded_9.0',\n",
              "       'opponent_team_encoded_10.0', 'opponent_team_encoded_11.0',\n",
              "       'opponent_team_encoded_12.0', 'opponent_team_encoded_13.0',\n",
              "       'opponent_team_encoded_15.0', 'opponent_team_encoded_16.0',\n",
              "       'opponent_team_encoded_17.0', 'opponent_team_encoded_18.0',\n",
              "       'opponent_team_encoded_19.0', 'team_encoded_0.0', 'team_encoded_1.0',\n",
              "       'team_encoded_2.0', 'team_encoded_3.0', 'team_encoded_4.0',\n",
              "       'team_encoded_5.0', 'team_encoded_6.0', 'team_encoded_7.0',\n",
              "       'team_encoded_8.0', 'team_encoded_9.0', 'team_encoded_10.0',\n",
              "       'team_encoded_11.0', 'team_encoded_12.0', 'team_encoded_13.0',\n",
              "       'team_encoded_15.0', 'team_encoded_16.0', 'team_encoded_17.0',\n",
              "       'team_encoded_18.0', 'team_encoded_19.0'],\n",
              "      dtype='object')"
            ]
          },
          "execution_count": 414,
          "metadata": {},
          "output_type": "execute_result"
        }
      ],
      "source": [
        "data.columns"
      ]
    },
    {
      "cell_type": "code",
      "execution_count": null,
      "metadata": {
        "colab": {
          "base_uri": "https://localhost:8080/"
        },
        "id": "X0MWROXwp19o",
        "outputId": "5c199b1e-d3d5-4538-8a34-0ac394433289"
      },
      "outputs": [
        {
          "name": "stdout",
          "output_type": "stream",
          "text": [
            "Neural Network Training set score:0.94676\n",
            "Neural Network Test set score:0.90445\n"
          ]
        }
      ],
      "source": [
        "# 사이킷런 신경망 분류 모델\n",
        "from sklearn.neural_network import MLPClassifier\n",
        "from sklearn.metrics import accuracy_score\n",
        "clf_mlp = MLPClassifier(max_iter = 2000, random_state = 0)\n",
        "                       # convergence warinng을 회피하기 위해 max_iter = 2000으로 올려서 설정\n",
        "clf_mlp.fit(X_train, y_train)\n",
        "pred = clf_mlp.predict(X_test)  # 학습된 Classifier로 테스트 데이터셋 자료이용해서 타겟변수 예측값 생성\n",
        "accuracy = accuracy_score(y_test, pred)\n",
        "\n",
        "print (\"Neural Network Training set score:{:.5f}\".format(clf_mlp.score(X_train, y_train)))\n",
        "print (\"Neural Network Test set score:{:.5f}\".format(accuracy_score(y_test, pred)))"
      ]
    },
    {
      "cell_type": "code",
      "execution_count": null,
      "metadata": {
        "colab": {
          "base_uri": "https://localhost:8080/"
        },
        "id": "dB-ZqcVGy1rY",
        "outputId": "84bdb972-49f8-4ad4-c874-3f160f82681b"
      },
      "outputs": [
        {
          "name": "stdout",
          "output_type": "stream",
          "text": [
            "GridSearchCV max accuracy:0.90831\n",
            "GridSearchCV best parameter: {'activation': 'tanh', 'alpha': 0.01, 'solver': 'adam'}\n"
          ]
        }
      ],
      "source": [
        "# 신경망 기본 모델 (with adam solver)\n",
        "clf_mlp = MLPClassifier(max_iter = 2000, random_state = 0)\n",
        "\n",
        "# 그리드 서치 재실행\n",
        "from sklearn.model_selection import GridSearchCV\n",
        "params = {'solver':['sgd','adam'],\n",
        "          'alpha':[0.01, 1],\n",
        "          'activation':['tanh','relu']\n",
        "         }\n",
        "\n",
        "grid_mlp = GridSearchCV(clf_mlp, param_grid=params, scoring='accuracy', cv=5, n_jobs=-1)\n",
        "grid_mlp.fit(X_train, y_train)\n",
        "\n",
        "print(\"GridSearchCV max accuracy:{:.5f}\".format(grid_mlp.best_score_))\n",
        "print(\"GridSearchCV best parameter:\", (grid_mlp.best_params_))"
      ]
    },
    {
      "cell_type": "code",
      "execution_count": null,
      "metadata": {
        "colab": {
          "base_uri": "https://localhost:8080/"
        },
        "id": "s3pgfD55y_KA",
        "outputId": "3cab71d6-f6a7-4c07-82d0-0b26929b6c85"
      },
      "outputs": [
        {
          "data": {
            "text/plain": [
              "(22502, 16)"
            ]
          },
          "execution_count": 416,
          "metadata": {},
          "output_type": "execute_result"
        }
      ],
      "source": [
        "# target과 data로 분리하여 저장\n",
        "data = df.drop(['creativity_B'], axis=1)   # 타겟변수를 제외한 변수만 data에 저장\n",
        "target = df['creativity_B']                # 타겟변수만 target에 저장\n",
        "data.shape"
      ]
    },
    {
      "cell_type": "code",
      "execution_count": null,
      "metadata": {
        "id": "2x1hz8vhH5TP"
      },
      "outputs": [],
      "source": [
        "# 50:50 데이터 분할\n",
        "from sklearn.model_selection import train_test_split\n",
        "X_train, X_test, y_train, y_test = train_test_split(\n",
        "    data, target, test_size=0.5, random_state=42)   # test_size=0.5임에 주의"
      ]
    },
    {
      "cell_type": "code",
      "execution_count": null,
      "metadata": {
        "colab": {
          "base_uri": "https://localhost:8080/"
        },
        "id": "zhlwaNLGIRn7",
        "outputId": "ce943812-e93d-4ec4-bfe6-f295fec27111"
      },
      "outputs": [
        {
          "name": "stdout",
          "output_type": "stream",
          "text": [
            "Random Forest Accuracy on training set:1.00000\n",
            "Random Forest Accuracy on test set:0.91654\n"
          ]
        }
      ],
      "source": [
        "# Random Forest 모델 (Default 모델, tree depth 제한 없음)\n",
        "from sklearn.ensemble import RandomForestClassifier\n",
        "from sklearn.metrics import accuracy_score\n",
        "rf = RandomForestClassifier(n_estimators = 100, random_state=0)\n",
        "model = rf.fit(X_train, y_train)\n",
        "pred = model.predict(X_test)  # 학습된 Classifier로 테스트 데이터셋 자료이용해서 타겟변수 예측값 생성\n",
        "#accuracy = accuracy_score(y_test, pred)\n",
        "\n",
        "print (\"Random Forest Accuracy on training set:{:.5f}\".format(model.score(X_train, y_train)))\n",
        "print (\"Random Forest Accuracy on test set:{:.5f}\".format(accuracy_score(y_test, pred)))"
      ]
    },
    {
      "cell_type": "code",
      "execution_count": null,
      "metadata": {
        "colab": {
          "background_save": true,
          "base_uri": "https://localhost:8080/"
        },
        "id": "lQWD1ei3ITU5",
        "outputId": "fb36cd17-9e56-4098-9d64-7c8fa74c6484"
      },
      "outputs": [
        {
          "name": "stdout",
          "output_type": "stream",
          "text": [
            "Fitting 5 folds for each of 62 candidates, totalling 310 fits\n",
            "GridSearchCV max accuracy:0.91921\n",
            "GridSearchCV best parameter: {'max_depth': 12, 'n_estimators': 200}\n"
          ]
        }
      ],
      "source": [
        "# Random Forest 모델 (Default 모델, tree depth 제한 없음)\n",
        "rf = RandomForestClassifier(n_estimators = 100, random_state=0)\n",
        "\n",
        "# 그리드 서치 실행\n",
        "from sklearn.model_selection import GridSearchCV\n",
        "from sklearn.model_selection import StratifiedKFold\n",
        "\n",
        "# StratifiedKFold의 random_state 옵션값을 특정 숫자(예: 0)로 고정\n",
        "cross_validation = StratifiedKFold(n_splits=5, shuffle=True, random_state=0)\n",
        "params = {'max_depth': range(10, 41), 'n_estimators': [100, 200]}\n",
        "\n",
        "# GridSearchCV의 cv=cross_validation 옵션값은 위의 StratifiedKFold의 random_state 옵션값을 적용시켜서\n",
        "# GridSearchCV를 실행핼 때마다 결과가 항상 동일하게 나오도록 보장\n",
        "grid_rf = GridSearchCV(rf, param_grid=params, scoring='accuracy', cv=cross_validation,\n",
        "                       verbose=1, n_jobs=-1)\n",
        "grid_rf.fit(X_train, y_train)\n",
        "\n",
        "print(\"GridSearchCV max accuracy:{:.5f}\".format(grid_rf.best_score_))\n",
        "print(\"GridSearchCV best parameter:\", (grid_rf.best_params_))"
      ]
    },
    {
      "cell_type": "code",
      "execution_count": null,
      "metadata": {
        "id": "zVUhEPilIV5X",
        "colab": {
          "base_uri": "https://localhost:8080/"
        },
        "outputId": "397a0b38-ec35-478d-c581-699ecd19a56a"
      },
      "outputs": [
        {
          "output_type": "stream",
          "name": "stdout",
          "text": [
            "Accuracy on test set:0.91894\n",
            "ROC AUC on test set:0.97693\n"
          ]
        }
      ],
      "source": [
        "best_clf = grid_rf.best_estimator_\n",
        "pred = best_clf.predict(X_test)\n",
        "print(\"Accuracy on test set:{:.5f}\".format(accuracy_score(y_test, pred)))\n",
        "\n",
        "from sklearn.metrics import roc_auc_score\n",
        "ROC_AUC = roc_auc_score(y_test,best_clf.predict_proba(X_test)[:, 1])\n",
        "print(\"ROC AUC on test set:{:.5f}\".format(ROC_AUC))"
      ]
    },
    {
      "cell_type": "code",
      "source": [
        "#---- 연속 타겟 변수에 적용----"
      ],
      "metadata": {
        "id": "LjFSWQ3zKJk8"
      },
      "execution_count": null,
      "outputs": []
    },
    {
      "cell_type": "code",
      "source": [
        "ch6_df = pd.read_csv('/content/drive/MyDrive/Colab Notebooks/project/players_1920_fin_DataCleaning.csv')"
      ],
      "metadata": {
        "id": "JpV3ReZa-huO"
      },
      "execution_count": null,
      "outputs": []
    },
    {
      "cell_type": "code",
      "source": [
        "# 연속형 타겟변수를 다루기 위해 이진값 타겟 변수(creativity_B) 삭제\n",
        "ch6_df.drop(['creativity_B'], axis=1, inplace=True)\n",
        "\n",
        "# 엑셀에 'Unnamed: 0' 항목 삭제\n",
        "ch6_df.drop(['Unnamed: 0'], axis=1, inplace=True)"
      ],
      "metadata": {
        "id": "YEDl6R_T-k5E"
      },
      "execution_count": null,
      "outputs": []
    },
    {
      "cell_type": "code",
      "source": [
        "ch6_df.columns"
      ],
      "metadata": {
        "colab": {
          "base_uri": "https://localhost:8080/"
        },
        "id": "r-rOXBpZF-Xb",
        "outputId": "e87c1794-869c-4713-e7a3-398ad0060212"
      },
      "execution_count": null,
      "outputs": [
        {
          "output_type": "execute_result",
          "data": {
            "text/plain": [
              "Index(['clean_sheets', 'creativity', 'goals_conceded', 'influence', 'minutes',\n",
              "       'own_goals', 'penalties_missed', 'red_cards', 'team_a_score',\n",
              "       'team_h_score', 'threat', 'total_points', 'yellow_cards', 'ppm',\n",
              "       'was_home_encoded', 'opponent_team_encoded', 'team_encoded'],\n",
              "      dtype='object')"
            ]
          },
          "metadata": {},
          "execution_count": 73
        }
      ]
    },
    {
      "cell_type": "code",
      "source": [
        "# 구간 변수들만 별도로 모아 데이터프레임 df_num을 만든다.\n",
        "numeric_cols = ['goals_conceded','influence','team_a_score','team_h_score', 'ppm', 'threat']\n",
        "df_num = ch6_df[numeric_cols]\n",
        "\n",
        "# StandardScaler( )로 데이터 스케일 표준화를 실행하고 결과를 데이터프레임으로 만든다.\n",
        "from sklearn.preprocessing import StandardScaler\n",
        "scaler = StandardScaler()\n",
        "df_num_standard = pd.DataFrame(scaler.fit_transform(df_num))\n",
        "\n",
        "# StandardScaler( )는 변수명을 지우므로, 새로 만든 데이터프레임에 다시 변수명을 넣는다.\n",
        "df_num_standard.columns = df_num.columns\n",
        "df_num_standard.head()"
      ],
      "metadata": {
        "colab": {
          "base_uri": "https://localhost:8080/",
          "height": 206
        },
        "id": "t0Rz5saqKzet",
        "outputId": "b7864cfe-2a6b-4ace-8271-38c5bc7758bc"
      },
      "execution_count": null,
      "outputs": [
        {
          "output_type": "execute_result",
          "data": {
            "text/plain": [
              "   goals_conceded  influence  team_a_score  team_h_score       ppm    threat\n",
              "0        0.517554  -0.558548     -1.007884      1.996286 -0.061632 -0.587593\n",
              "1        0.517554  -0.496453     -0.167564     -0.412574 -0.061632  1.850444\n",
              "2       -0.528995  -0.418835     -1.007884     -1.215528 -0.061632  1.734811\n",
              "3        0.517554  -0.558548     -1.007884      0.390379 -0.061632 -0.587593\n",
              "4       -0.528995   4.874707     -1.007884      1.193333  5.918926  3.105403"
            ],
            "text/html": [
              "\n",
              "  <div id=\"df-6e956b31-e209-4300-a9d8-169f70aeadee\">\n",
              "    <div class=\"colab-df-container\">\n",
              "      <div>\n",
              "<style scoped>\n",
              "    .dataframe tbody tr th:only-of-type {\n",
              "        vertical-align: middle;\n",
              "    }\n",
              "\n",
              "    .dataframe tbody tr th {\n",
              "        vertical-align: top;\n",
              "    }\n",
              "\n",
              "    .dataframe thead th {\n",
              "        text-align: right;\n",
              "    }\n",
              "</style>\n",
              "<table border=\"1\" class=\"dataframe\">\n",
              "  <thead>\n",
              "    <tr style=\"text-align: right;\">\n",
              "      <th></th>\n",
              "      <th>goals_conceded</th>\n",
              "      <th>influence</th>\n",
              "      <th>team_a_score</th>\n",
              "      <th>team_h_score</th>\n",
              "      <th>ppm</th>\n",
              "      <th>threat</th>\n",
              "    </tr>\n",
              "  </thead>\n",
              "  <tbody>\n",
              "    <tr>\n",
              "      <th>0</th>\n",
              "      <td>0.517554</td>\n",
              "      <td>-0.558548</td>\n",
              "      <td>-1.007884</td>\n",
              "      <td>1.996286</td>\n",
              "      <td>-0.061632</td>\n",
              "      <td>-0.587593</td>\n",
              "    </tr>\n",
              "    <tr>\n",
              "      <th>1</th>\n",
              "      <td>0.517554</td>\n",
              "      <td>-0.496453</td>\n",
              "      <td>-0.167564</td>\n",
              "      <td>-0.412574</td>\n",
              "      <td>-0.061632</td>\n",
              "      <td>1.850444</td>\n",
              "    </tr>\n",
              "    <tr>\n",
              "      <th>2</th>\n",
              "      <td>-0.528995</td>\n",
              "      <td>-0.418835</td>\n",
              "      <td>-1.007884</td>\n",
              "      <td>-1.215528</td>\n",
              "      <td>-0.061632</td>\n",
              "      <td>1.734811</td>\n",
              "    </tr>\n",
              "    <tr>\n",
              "      <th>3</th>\n",
              "      <td>0.517554</td>\n",
              "      <td>-0.558548</td>\n",
              "      <td>-1.007884</td>\n",
              "      <td>0.390379</td>\n",
              "      <td>-0.061632</td>\n",
              "      <td>-0.587593</td>\n",
              "    </tr>\n",
              "    <tr>\n",
              "      <th>4</th>\n",
              "      <td>-0.528995</td>\n",
              "      <td>4.874707</td>\n",
              "      <td>-1.007884</td>\n",
              "      <td>1.193333</td>\n",
              "      <td>5.918926</td>\n",
              "      <td>3.105403</td>\n",
              "    </tr>\n",
              "  </tbody>\n",
              "</table>\n",
              "</div>\n",
              "      <button class=\"colab-df-convert\" onclick=\"convertToInteractive('df-6e956b31-e209-4300-a9d8-169f70aeadee')\"\n",
              "              title=\"Convert this dataframe to an interactive table.\"\n",
              "              style=\"display:none;\">\n",
              "        \n",
              "  <svg xmlns=\"http://www.w3.org/2000/svg\" height=\"24px\"viewBox=\"0 0 24 24\"\n",
              "       width=\"24px\">\n",
              "    <path d=\"M0 0h24v24H0V0z\" fill=\"none\"/>\n",
              "    <path d=\"M18.56 5.44l.94 2.06.94-2.06 2.06-.94-2.06-.94-.94-2.06-.94 2.06-2.06.94zm-11 1L8.5 8.5l.94-2.06 2.06-.94-2.06-.94L8.5 2.5l-.94 2.06-2.06.94zm10 10l.94 2.06.94-2.06 2.06-.94-2.06-.94-.94-2.06-.94 2.06-2.06.94z\"/><path d=\"M17.41 7.96l-1.37-1.37c-.4-.4-.92-.59-1.43-.59-.52 0-1.04.2-1.43.59L10.3 9.45l-7.72 7.72c-.78.78-.78 2.05 0 2.83L4 21.41c.39.39.9.59 1.41.59.51 0 1.02-.2 1.41-.59l7.78-7.78 2.81-2.81c.8-.78.8-2.07 0-2.86zM5.41 20L4 18.59l7.72-7.72 1.47 1.35L5.41 20z\"/>\n",
              "  </svg>\n",
              "      </button>\n",
              "      \n",
              "  <style>\n",
              "    .colab-df-container {\n",
              "      display:flex;\n",
              "      flex-wrap:wrap;\n",
              "      gap: 12px;\n",
              "    }\n",
              "\n",
              "    .colab-df-convert {\n",
              "      background-color: #E8F0FE;\n",
              "      border: none;\n",
              "      border-radius: 50%;\n",
              "      cursor: pointer;\n",
              "      display: none;\n",
              "      fill: #1967D2;\n",
              "      height: 32px;\n",
              "      padding: 0 0 0 0;\n",
              "      width: 32px;\n",
              "    }\n",
              "\n",
              "    .colab-df-convert:hover {\n",
              "      background-color: #E2EBFA;\n",
              "      box-shadow: 0px 1px 2px rgba(60, 64, 67, 0.3), 0px 1px 3px 1px rgba(60, 64, 67, 0.15);\n",
              "      fill: #174EA6;\n",
              "    }\n",
              "\n",
              "    [theme=dark] .colab-df-convert {\n",
              "      background-color: #3B4455;\n",
              "      fill: #D2E3FC;\n",
              "    }\n",
              "\n",
              "    [theme=dark] .colab-df-convert:hover {\n",
              "      background-color: #434B5C;\n",
              "      box-shadow: 0px 1px 3px 1px rgba(0, 0, 0, 0.15);\n",
              "      filter: drop-shadow(0px 1px 2px rgba(0, 0, 0, 0.3));\n",
              "      fill: #FFFFFF;\n",
              "    }\n",
              "  </style>\n",
              "\n",
              "      <script>\n",
              "        const buttonEl =\n",
              "          document.querySelector('#df-6e956b31-e209-4300-a9d8-169f70aeadee button.colab-df-convert');\n",
              "        buttonEl.style.display =\n",
              "          google.colab.kernel.accessAllowed ? 'block' : 'none';\n",
              "\n",
              "        async function convertToInteractive(key) {\n",
              "          const element = document.querySelector('#df-6e956b31-e209-4300-a9d8-169f70aeadee');\n",
              "          const dataTable =\n",
              "            await google.colab.kernel.invokeFunction('convertToInteractive',\n",
              "                                                     [key], {});\n",
              "          if (!dataTable) return;\n",
              "\n",
              "          const docLinkHtml = 'Like what you see? Visit the ' +\n",
              "            '<a target=\"_blank\" href=https://colab.research.google.com/notebooks/data_table.ipynb>data table notebook</a>'\n",
              "            + ' to learn more about interactive tables.';\n",
              "          element.innerHTML = '';\n",
              "          dataTable['output_type'] = 'display_data';\n",
              "          await google.colab.output.renderOutput(dataTable, element);\n",
              "          const docLink = document.createElement('div');\n",
              "          docLink.innerHTML = docLinkHtml;\n",
              "          element.appendChild(docLink);\n",
              "        }\n",
              "      </script>\n",
              "    </div>\n",
              "  </div>\n",
              "  "
            ]
          },
          "metadata": {},
          "execution_count": 67
        }
      ]
    },
    {
      "cell_type": "code",
      "source": [
        "df_cat = ch6_df.drop(numeric_cols, axis=1) # 원래 데이터프레임 df에서 구간변수들을 제거하여 df_cat에 저장"
      ],
      "metadata": {
        "id": "dVQhSv5LK-Wy"
      },
      "execution_count": null,
      "outputs": []
    },
    {
      "cell_type": "code",
      "source": [
        "# 구간변수 스케일을 표준화한 df_num_standard와 범주형 변수만 담은 df_cat을 병합\n",
        "dfu_standard = pd.concat([df_num_standard, df_cat], axis=1)\n",
        "dfu_standard.columns   # dfu의 변수명을 나열"
      ],
      "metadata": {
        "colab": {
          "base_uri": "https://localhost:8080/"
        },
        "id": "MMwuBJxZLI8B",
        "outputId": "2d4abe78-5979-4277-865e-21943bbf89eb"
      },
      "execution_count": null,
      "outputs": [
        {
          "output_type": "execute_result",
          "data": {
            "text/plain": [
              "Index(['goals_conceded', 'influence', 'team_a_score', 'team_h_score', 'ppm',\n",
              "       'threat', 'clean_sheets', 'creativity', 'minutes', 'own_goals',\n",
              "       'penalties_missed', 'red_cards', 'total_points', 'yellow_cards',\n",
              "       'was_home_encoded', 'opponent_team_encoded', 'team_encoded'],\n",
              "      dtype='object')"
            ]
          },
          "metadata": {},
          "execution_count": 69
        }
      ]
    },
    {
      "cell_type": "code",
      "source": [
        "data = dfu_standard.drop(['creativity'], axis=1)\n",
        "target = dfu_standard['creativity']                # 타겟변수만 target에 저장\n",
        "\n",
        "# 50:50 data partition.\n",
        "from sklearn.model_selection import train_test_split\n",
        "X_train, X_test, y_train, y_test = train_test_split(\n",
        "    data, target, test_size=0.5, random_state=42)   # test_size=0.5임에 주의\n",
        "\n",
        "print(\"X_train shape:\", X_train.shape)\n",
        "print(\"X_test shape:\", X_test.shape)"
      ],
      "metadata": {
        "colab": {
          "base_uri": "https://localhost:8080/"
        },
        "id": "7BFTsecSGITy",
        "outputId": "08062bde-db1c-4e5b-d489-2561d411c9f7"
      },
      "execution_count": null,
      "outputs": [
        {
          "output_type": "stream",
          "name": "stdout",
          "text": [
            "X_train shape: (11251, 16)\n",
            "X_test shape: (11251, 16)\n"
          ]
        }
      ]
    },
    {
      "cell_type": "code",
      "source": [
        "# 연속변수 타겟변수일 때 Linear Regression 모델 (Default 모델)\n",
        "from sklearn.linear_model import LinearRegression\n",
        "from sklearn.metrics import r2_score\n",
        "\n",
        "linr = LinearRegression(n_jobs=-1)\n",
        "model = linr.fit(X_train, y_train)\n",
        "pred = model.predict(X_test)\n",
        "\n",
        "print (\"Linear Regression Training set r2 score:{:.5f}\".format(model.score(X_train, y_train)))\n",
        "print (\"Linear Regression Test set r2 score:{:.5f}\".format(r2_score(y_test, pred)))"
      ],
      "metadata": {
        "colab": {
          "base_uri": "https://localhost:8080/"
        },
        "id": "E2dE25M2HSkr",
        "outputId": "ca790d9d-b1b6-4f0c-b140-33ad08dc19b2"
      },
      "execution_count": null,
      "outputs": [
        {
          "output_type": "stream",
          "name": "stdout",
          "text": [
            "Linear Regression Training set r2 score:0.39360\n",
            "Linear Regression Test set r2 score:0.38763\n"
          ]
        }
      ]
    },
    {
      "cell_type": "code",
      "source": [
        "# 연속변수 타겟변수일 때 Ridge 모델 (Default 모델)\n",
        "from sklearn.linear_model import Ridge\n",
        "Ridge = Ridge()\n",
        "model = Ridge.fit(X_train, y_train)\n",
        "pred = model.predict(X_test)  # 학습된 Classifier로 테스트 데이터셋 자료이용해서 타겟변수 예측값 생성\n",
        "\n",
        "print (\"Linear Regression Training set score:{:.5f}\".format(model.score(X_train, y_train)))\n",
        "print (\"Linear Regression Test set score:{:.5f}\".format(r2_score(y_test, pred)))"
      ],
      "metadata": {
        "colab": {
          "base_uri": "https://localhost:8080/"
        },
        "id": "a1HQB55pHYNn",
        "outputId": "7979df05-d057-47a4-cada-2bd726f2fe0a"
      },
      "execution_count": null,
      "outputs": [
        {
          "output_type": "stream",
          "name": "stdout",
          "text": [
            "Linear Regression Training set score:0.39360\n",
            "Linear Regression Test set score:0.38765\n"
          ]
        }
      ]
    },
    {
      "cell_type": "code",
      "source": [
        "# 연속변수 타겟변수일 때 Ridge 모델 (Default 모델)\n",
        "from sklearn.linear_model import Ridge\n",
        "Ridge = Ridge()"
      ],
      "metadata": {
        "id": "LCHbDqSGH9pl"
      },
      "execution_count": null,
      "outputs": []
    },
    {
      "cell_type": "code",
      "source": [
        "# 그리드 서치 실행\n",
        "from sklearn.model_selection import GridSearchCV\n",
        "\n",
        "params = {'alpha':[0.001, 0.01, 0.1, 1, 10, 100, 1000],\\\n",
        "         'solver':['auto', 'svd', 'lsqr', 'cholesky','sparse_cg','sag','saga','lbfgs']}\n",
        "\n",
        "grid_Ridge = GridSearchCV(Ridge, param_grid=params, scoring='r2', cv=5, n_jobs=-1, verbose=1)\n",
        "grid_Ridge.fit(X_train, y_train)\n",
        "\n",
        "print(\"GridSearchCV max score:{:.5f}\".format(grid_Ridge.best_score_))\n",
        "print(\"GridSearchCV best parameter:\", (grid_Ridge.best_params_))"
      ],
      "metadata": {
        "colab": {
          "base_uri": "https://localhost:8080/"
        },
        "id": "yf6AW58FIBmz",
        "outputId": "3a198ea2-fd61-42d1-c913-69d5b37e7b8c"
      },
      "execution_count": null,
      "outputs": [
        {
          "output_type": "stream",
          "name": "stdout",
          "text": [
            "Fitting 5 folds for each of 56 candidates, totalling 280 fits\n",
            "GridSearchCV max score:0.38855\n",
            "GridSearchCV best parameter: {'alpha': 10, 'solver': 'svd'}\n"
          ]
        },
        {
          "output_type": "stream",
          "name": "stderr",
          "text": [
            "/usr/local/lib/python3.10/dist-packages/sklearn/model_selection/_validation.py:378: FitFailedWarning: \n",
            "35 fits failed out of a total of 280.\n",
            "The score on these train-test partitions for these parameters will be set to nan.\n",
            "If these failures are not expected, you can try to debug them by setting error_score='raise'.\n",
            "\n",
            "Below are more details about the failures:\n",
            "--------------------------------------------------------------------------------\n",
            "35 fits failed with the following error:\n",
            "Traceback (most recent call last):\n",
            "  File \"/usr/local/lib/python3.10/dist-packages/sklearn/model_selection/_validation.py\", line 686, in _fit_and_score\n",
            "    estimator.fit(X_train, y_train, **fit_params)\n",
            "  File \"/usr/local/lib/python3.10/dist-packages/sklearn/linear_model/_ridge.py\", line 1134, in fit\n",
            "    return super().fit(X, y, sample_weight=sample_weight)\n",
            "  File \"/usr/local/lib/python3.10/dist-packages/sklearn/linear_model/_ridge.py\", line 825, in fit\n",
            "    raise ValueError(\n",
            "ValueError: 'lbfgs' solver can be used only when positive=True. Please use another solver.\n",
            "\n",
            "  warnings.warn(some_fits_failed_message, FitFailedWarning)\n",
            "/usr/local/lib/python3.10/dist-packages/sklearn/model_selection/_search.py:952: UserWarning: One or more of the test scores are non-finite: [0.38850388 0.38850388 0.38825764 0.38850388 0.38825736 0.38850783\n",
            " 0.38850654        nan 0.38850418 0.38850418 0.3882577  0.38850418\n",
            " 0.38813962 0.38850798 0.38850679        nan 0.38850718 0.38850718\n",
            " 0.38825833 0.38850718 0.38825806 0.38851008 0.38850785        nan\n",
            " 0.38852999 0.38852999 0.38826453 0.38852999 0.38826446 0.38852638\n",
            " 0.38851434        nan 0.3885539  0.3885539  0.38832052 0.3885539\n",
            " 0.38820528 0.38854712 0.3885377         nan 0.38848243 0.38848243\n",
            " 0.38839892 0.38848243 0.38845039 0.38848069 0.38847882        nan\n",
            " 0.38224595 0.38224595 0.38224916 0.38224595 0.38224916 0.38224558\n",
            " 0.38224105        nan]\n",
            "  warnings.warn(\n"
          ]
        }
      ]
    },
    {
      "cell_type": "code",
      "source": [
        "best_clf = grid_Ridge.best_estimator_\n",
        "pred = best_clf.predict(X_test)\n",
        "\n",
        "print(\"R2 Score on test set:{:.5f}\".format(best_clf.score(X_test, y_test)))"
      ],
      "metadata": {
        "colab": {
          "base_uri": "https://localhost:8080/"
        },
        "id": "HLBIYjTUIDee",
        "outputId": "f1a667a1-c998-4ec3-f7fb-0e57d05d3638"
      },
      "execution_count": null,
      "outputs": [
        {
          "output_type": "stream",
          "name": "stdout",
          "text": [
            "R2 Score on test set:0.38771\n"
          ]
        }
      ]
    },
    {
      "cell_type": "code",
      "source": [
        "from xgboost import XGBRegressor\n",
        "from lightgbm import LGBMRegressor\n",
        "\n",
        "# 기본 XGBRegressor 모델\n",
        "from sklearn.metrics import r2_score\n",
        "\n",
        "xgb = XGBRegressor(random_state=0)\n",
        "xgb.fit(X_train, y_train)\n",
        "pred = xgb.predict(X_test)\n",
        "\n",
        "print('r2: {0:.5f}'.format(r2_score(y_test, pred)))"
      ],
      "metadata": {
        "colab": {
          "base_uri": "https://localhost:8080/"
        },
        "id": "9TVKI2ZbM3ga",
        "outputId": "a4ba77f1-5055-49fa-f907-425c61501db7"
      },
      "execution_count": null,
      "outputs": [
        {
          "output_type": "stream",
          "name": "stdout",
          "text": [
            "r2: 0.43840\n"
          ]
        }
      ]
    },
    {
      "cell_type": "code",
      "source": [
        "# 그리드 서치 실행\n",
        "from sklearn.model_selection import GridSearchCV\n",
        "\n",
        "xgb = XGBRegressor()\n",
        "\n",
        "parameters = {'colsample_bytree': [0.7],\n",
        "              'learning_rate': [0.05],\n",
        "              'max_depth': [16],\n",
        "              'min_child_weight' : [4],\n",
        "              'n_estimators': [1000],\n",
        "              'subsample': [0.8, 0.9]\n",
        "              }\n",
        "\n",
        "xgb_grid = GridSearchCV(xgb,\n",
        "                        parameters,\n",
        "                        scoring = 'r2',\n",
        "                        cv = 3,\n",
        "                        n_jobs = -1,\n",
        "                        verbose=True)\n",
        "xgb_grid.fit(X_train, y_train)"
      ],
      "metadata": {
        "colab": {
          "base_uri": "https://localhost:8080/",
          "height": 728
        },
        "id": "4jUlymIQNAeg",
        "outputId": "0667dd6f-644c-44d4-8099-fa7b3761ecd9"
      },
      "execution_count": null,
      "outputs": [
        {
          "output_type": "stream",
          "name": "stdout",
          "text": [
            "Fitting 3 folds for each of 2 candidates, totalling 6 fits\n"
          ]
        },
        {
          "output_type": "execute_result",
          "data": {
            "text/plain": [
              "GridSearchCV(cv=3,\n",
              "             estimator=XGBRegressor(base_score=None, booster=None,\n",
              "                                    callbacks=None, colsample_bylevel=None,\n",
              "                                    colsample_bynode=None,\n",
              "                                    colsample_bytree=None,\n",
              "                                    early_stopping_rounds=None,\n",
              "                                    enable_categorical=False, eval_metric=None,\n",
              "                                    feature_types=None, gamma=None, gpu_id=None,\n",
              "                                    grow_policy=None, importance_type=None,\n",
              "                                    interaction_constraints=None,\n",
              "                                    learning_rate=None, m...\n",
              "                                    max_depth=None, max_leaves=None,\n",
              "                                    min_child_weight=None, missing=nan,\n",
              "                                    monotone_constraints=None, n_estimators=100,\n",
              "                                    n_jobs=None, num_parallel_tree=None,\n",
              "                                    predictor=None, random_state=None, ...),\n",
              "             n_jobs=-1,\n",
              "             param_grid={'colsample_bytree': [0.7], 'learning_rate': [0.05],\n",
              "                         'max_depth': [16], 'min_child_weight': [4],\n",
              "                         'n_estimators': [1000], 'subsample': [0.8, 0.9]},\n",
              "             scoring='r2', verbose=True)"
            ],
            "text/html": [
              "<style>#sk-container-id-1 {color: black;background-color: white;}#sk-container-id-1 pre{padding: 0;}#sk-container-id-1 div.sk-toggleable {background-color: white;}#sk-container-id-1 label.sk-toggleable__label {cursor: pointer;display: block;width: 100%;margin-bottom: 0;padding: 0.3em;box-sizing: border-box;text-align: center;}#sk-container-id-1 label.sk-toggleable__label-arrow:before {content: \"▸\";float: left;margin-right: 0.25em;color: #696969;}#sk-container-id-1 label.sk-toggleable__label-arrow:hover:before {color: black;}#sk-container-id-1 div.sk-estimator:hover label.sk-toggleable__label-arrow:before {color: black;}#sk-container-id-1 div.sk-toggleable__content {max-height: 0;max-width: 0;overflow: hidden;text-align: left;background-color: #f0f8ff;}#sk-container-id-1 div.sk-toggleable__content pre {margin: 0.2em;color: black;border-radius: 0.25em;background-color: #f0f8ff;}#sk-container-id-1 input.sk-toggleable__control:checked~div.sk-toggleable__content {max-height: 200px;max-width: 100%;overflow: auto;}#sk-container-id-1 input.sk-toggleable__control:checked~label.sk-toggleable__label-arrow:before {content: \"▾\";}#sk-container-id-1 div.sk-estimator input.sk-toggleable__control:checked~label.sk-toggleable__label {background-color: #d4ebff;}#sk-container-id-1 div.sk-label input.sk-toggleable__control:checked~label.sk-toggleable__label {background-color: #d4ebff;}#sk-container-id-1 input.sk-hidden--visually {border: 0;clip: rect(1px 1px 1px 1px);clip: rect(1px, 1px, 1px, 1px);height: 1px;margin: -1px;overflow: hidden;padding: 0;position: absolute;width: 1px;}#sk-container-id-1 div.sk-estimator {font-family: monospace;background-color: #f0f8ff;border: 1px dotted black;border-radius: 0.25em;box-sizing: border-box;margin-bottom: 0.5em;}#sk-container-id-1 div.sk-estimator:hover {background-color: #d4ebff;}#sk-container-id-1 div.sk-parallel-item::after {content: \"\";width: 100%;border-bottom: 1px solid gray;flex-grow: 1;}#sk-container-id-1 div.sk-label:hover label.sk-toggleable__label {background-color: #d4ebff;}#sk-container-id-1 div.sk-serial::before {content: \"\";position: absolute;border-left: 1px solid gray;box-sizing: border-box;top: 0;bottom: 0;left: 50%;z-index: 0;}#sk-container-id-1 div.sk-serial {display: flex;flex-direction: column;align-items: center;background-color: white;padding-right: 0.2em;padding-left: 0.2em;position: relative;}#sk-container-id-1 div.sk-item {position: relative;z-index: 1;}#sk-container-id-1 div.sk-parallel {display: flex;align-items: stretch;justify-content: center;background-color: white;position: relative;}#sk-container-id-1 div.sk-item::before, #sk-container-id-1 div.sk-parallel-item::before {content: \"\";position: absolute;border-left: 1px solid gray;box-sizing: border-box;top: 0;bottom: 0;left: 50%;z-index: -1;}#sk-container-id-1 div.sk-parallel-item {display: flex;flex-direction: column;z-index: 1;position: relative;background-color: white;}#sk-container-id-1 div.sk-parallel-item:first-child::after {align-self: flex-end;width: 50%;}#sk-container-id-1 div.sk-parallel-item:last-child::after {align-self: flex-start;width: 50%;}#sk-container-id-1 div.sk-parallel-item:only-child::after {width: 0;}#sk-container-id-1 div.sk-dashed-wrapped {border: 1px dashed gray;margin: 0 0.4em 0.5em 0.4em;box-sizing: border-box;padding-bottom: 0.4em;background-color: white;}#sk-container-id-1 div.sk-label label {font-family: monospace;font-weight: bold;display: inline-block;line-height: 1.2em;}#sk-container-id-1 div.sk-label-container {text-align: center;}#sk-container-id-1 div.sk-container {/* jupyter's `normalize.less` sets `[hidden] { display: none; }` but bootstrap.min.css set `[hidden] { display: none !important; }` so we also need the `!important` here to be able to override the default hidden behavior on the sphinx rendered scikit-learn.org. See: https://github.com/scikit-learn/scikit-learn/issues/21755 */display: inline-block !important;position: relative;}#sk-container-id-1 div.sk-text-repr-fallback {display: none;}</style><div id=\"sk-container-id-1\" class=\"sk-top-container\"><div class=\"sk-text-repr-fallback\"><pre>GridSearchCV(cv=3,\n",
              "             estimator=XGBRegressor(base_score=None, booster=None,\n",
              "                                    callbacks=None, colsample_bylevel=None,\n",
              "                                    colsample_bynode=None,\n",
              "                                    colsample_bytree=None,\n",
              "                                    early_stopping_rounds=None,\n",
              "                                    enable_categorical=False, eval_metric=None,\n",
              "                                    feature_types=None, gamma=None, gpu_id=None,\n",
              "                                    grow_policy=None, importance_type=None,\n",
              "                                    interaction_constraints=None,\n",
              "                                    learning_rate=None, m...\n",
              "                                    max_depth=None, max_leaves=None,\n",
              "                                    min_child_weight=None, missing=nan,\n",
              "                                    monotone_constraints=None, n_estimators=100,\n",
              "                                    n_jobs=None, num_parallel_tree=None,\n",
              "                                    predictor=None, random_state=None, ...),\n",
              "             n_jobs=-1,\n",
              "             param_grid={&#x27;colsample_bytree&#x27;: [0.7], &#x27;learning_rate&#x27;: [0.05],\n",
              "                         &#x27;max_depth&#x27;: [16], &#x27;min_child_weight&#x27;: [4],\n",
              "                         &#x27;n_estimators&#x27;: [1000], &#x27;subsample&#x27;: [0.8, 0.9]},\n",
              "             scoring=&#x27;r2&#x27;, verbose=True)</pre><b>In a Jupyter environment, please rerun this cell to show the HTML representation or trust the notebook. <br />On GitHub, the HTML representation is unable to render, please try loading this page with nbviewer.org.</b></div><div class=\"sk-container\" hidden><div class=\"sk-item sk-dashed-wrapped\"><div class=\"sk-label-container\"><div class=\"sk-label sk-toggleable\"><input class=\"sk-toggleable__control sk-hidden--visually\" id=\"sk-estimator-id-1\" type=\"checkbox\" ><label for=\"sk-estimator-id-1\" class=\"sk-toggleable__label sk-toggleable__label-arrow\">GridSearchCV</label><div class=\"sk-toggleable__content\"><pre>GridSearchCV(cv=3,\n",
              "             estimator=XGBRegressor(base_score=None, booster=None,\n",
              "                                    callbacks=None, colsample_bylevel=None,\n",
              "                                    colsample_bynode=None,\n",
              "                                    colsample_bytree=None,\n",
              "                                    early_stopping_rounds=None,\n",
              "                                    enable_categorical=False, eval_metric=None,\n",
              "                                    feature_types=None, gamma=None, gpu_id=None,\n",
              "                                    grow_policy=None, importance_type=None,\n",
              "                                    interaction_constraints=None,\n",
              "                                    learning_rate=None, m...\n",
              "                                    max_depth=None, max_leaves=None,\n",
              "                                    min_child_weight=None, missing=nan,\n",
              "                                    monotone_constraints=None, n_estimators=100,\n",
              "                                    n_jobs=None, num_parallel_tree=None,\n",
              "                                    predictor=None, random_state=None, ...),\n",
              "             n_jobs=-1,\n",
              "             param_grid={&#x27;colsample_bytree&#x27;: [0.7], &#x27;learning_rate&#x27;: [0.05],\n",
              "                         &#x27;max_depth&#x27;: [16], &#x27;min_child_weight&#x27;: [4],\n",
              "                         &#x27;n_estimators&#x27;: [1000], &#x27;subsample&#x27;: [0.8, 0.9]},\n",
              "             scoring=&#x27;r2&#x27;, verbose=True)</pre></div></div></div><div class=\"sk-parallel\"><div class=\"sk-parallel-item\"><div class=\"sk-item\"><div class=\"sk-label-container\"><div class=\"sk-label sk-toggleable\"><input class=\"sk-toggleable__control sk-hidden--visually\" id=\"sk-estimator-id-2\" type=\"checkbox\" ><label for=\"sk-estimator-id-2\" class=\"sk-toggleable__label sk-toggleable__label-arrow\">estimator: XGBRegressor</label><div class=\"sk-toggleable__content\"><pre>XGBRegressor(base_score=None, booster=None, callbacks=None,\n",
              "             colsample_bylevel=None, colsample_bynode=None,\n",
              "             colsample_bytree=None, early_stopping_rounds=None,\n",
              "             enable_categorical=False, eval_metric=None, feature_types=None,\n",
              "             gamma=None, gpu_id=None, grow_policy=None, importance_type=None,\n",
              "             interaction_constraints=None, learning_rate=None, max_bin=None,\n",
              "             max_cat_threshold=None, max_cat_to_onehot=None,\n",
              "             max_delta_step=None, max_depth=None, max_leaves=None,\n",
              "             min_child_weight=None, missing=nan, monotone_constraints=None,\n",
              "             n_estimators=100, n_jobs=None, num_parallel_tree=None,\n",
              "             predictor=None, random_state=None, ...)</pre></div></div></div><div class=\"sk-serial\"><div class=\"sk-item\"><div class=\"sk-estimator sk-toggleable\"><input class=\"sk-toggleable__control sk-hidden--visually\" id=\"sk-estimator-id-3\" type=\"checkbox\" ><label for=\"sk-estimator-id-3\" class=\"sk-toggleable__label sk-toggleable__label-arrow\">XGBRegressor</label><div class=\"sk-toggleable__content\"><pre>XGBRegressor(base_score=None, booster=None, callbacks=None,\n",
              "             colsample_bylevel=None, colsample_bynode=None,\n",
              "             colsample_bytree=None, early_stopping_rounds=None,\n",
              "             enable_categorical=False, eval_metric=None, feature_types=None,\n",
              "             gamma=None, gpu_id=None, grow_policy=None, importance_type=None,\n",
              "             interaction_constraints=None, learning_rate=None, max_bin=None,\n",
              "             max_cat_threshold=None, max_cat_to_onehot=None,\n",
              "             max_delta_step=None, max_depth=None, max_leaves=None,\n",
              "             min_child_weight=None, missing=nan, monotone_constraints=None,\n",
              "             n_estimators=100, n_jobs=None, num_parallel_tree=None,\n",
              "             predictor=None, random_state=None, ...)</pre></div></div></div></div></div></div></div></div></div></div>"
            ]
          },
          "metadata": {},
          "execution_count": 424
        }
      ]
    },
    {
      "cell_type": "code",
      "source": [
        "print('GridSearchCV 최적 파라미터:', xgb_grid.best_params_)"
      ],
      "metadata": {
        "colab": {
          "base_uri": "https://localhost:8080/"
        },
        "id": "RZefxM-vVb9n",
        "outputId": "cdf3487f-1597-4da9-95db-ba6c4c487c63"
      },
      "execution_count": null,
      "outputs": [
        {
          "output_type": "stream",
          "name": "stdout",
          "text": [
            "GridSearchCV 최적 파라미터: {'colsample_bytree': 0.7, 'learning_rate': 0.05, 'max_depth': 16, 'min_child_weight': 4, 'n_estimators': 1000, 'subsample': 0.8}\n"
          ]
        }
      ]
    },
    {
      "cell_type": "code",
      "source": [
        "model = xgb_grid.best_estimator_\n",
        "pred = model.predict(X_test)\n",
        "\n",
        "print('r2: {0:.5f}'.format(r2_score(y_test, pred)))"
      ],
      "metadata": {
        "colab": {
          "base_uri": "https://localhost:8080/"
        },
        "id": "Lzg0IuHYNGoY",
        "outputId": "4b6fabc0-5846-4de0-c9d1-d99c8e4c1fac"
      },
      "execution_count": null,
      "outputs": [
        {
          "output_type": "stream",
          "name": "stdout",
          "text": [
            "r2: 0.45788\n"
          ]
        }
      ]
    },
    {
      "cell_type": "code",
      "source": [
        "# 기본 lGBMRegressor 모델\n",
        "from lightgbm import LGBMRegressor\n",
        "from sklearn.metrics import r2_score\n",
        "\n",
        "lgb = LGBMRegressor(random_state=0)\n",
        "lgb.fit(X_train, y_train)\n",
        "pred = lgb.predict(X_test)\n",
        "\n",
        "print('r2: {0:.5f}'.format(r2_score(y_test, pred)))"
      ],
      "metadata": {
        "colab": {
          "base_uri": "https://localhost:8080/"
        },
        "id": "Jp6EbCXfN44J",
        "outputId": "e3ad69d7-dcd3-489f-a0be-77f2fcc61571"
      },
      "execution_count": null,
      "outputs": [
        {
          "output_type": "stream",
          "name": "stdout",
          "text": [
            "r2: 0.49245\n"
          ]
        }
      ]
    },
    {
      "cell_type": "code",
      "source": [
        "#그리드 서치 실행\n",
        "from sklearn.model_selection import GridSearchCV\n",
        "from lightgbm import LGBMRegressor\n",
        "\n",
        "lgb = LGBMRegressor()\n",
        "\n",
        "parameters = {'colsample_bytree': [0.7, 0.8],\n",
        "              'learning_rate': [0.1, 0.15, 0.2],\n",
        "              'max_depth': [11],\n",
        "              'min_child_weight' : [4],\n",
        "              'n_estimators': [1000],\n",
        "              'subsample': [0.3, 0.4]\n",
        "              }\n",
        "\n",
        "lgb_grid = GridSearchCV(lgb,\n",
        "                        parameters,\n",
        "                        scoring = 'r2',\n",
        "                        cv = 3,\n",
        "                        n_jobs = -1,\n",
        "                        verbose=True)\n",
        "lgb_grid.fit(X_train, y_train)"
      ],
      "metadata": {
        "colab": {
          "base_uri": "https://localhost:8080/",
          "height": 135
        },
        "id": "o3l7R5XZVAjI",
        "outputId": "01e823f0-08bd-4150-e06c-438a0307fc84"
      },
      "execution_count": null,
      "outputs": [
        {
          "output_type": "stream",
          "name": "stdout",
          "text": [
            "Fitting 3 folds for each of 12 candidates, totalling 36 fits\n"
          ]
        },
        {
          "output_type": "execute_result",
          "data": {
            "text/plain": [
              "GridSearchCV(cv=3, estimator=LGBMRegressor(), n_jobs=-1,\n",
              "             param_grid={'colsample_bytree': [0.7, 0.8],\n",
              "                         'learning_rate': [0.1, 0.15, 0.2], 'max_depth': [11],\n",
              "                         'min_child_weight': [4], 'n_estimators': [1000],\n",
              "                         'subsample': [0.3, 0.4]},\n",
              "             scoring='r2', verbose=True)"
            ],
            "text/html": [
              "<style>#sk-container-id-2 {color: black;background-color: white;}#sk-container-id-2 pre{padding: 0;}#sk-container-id-2 div.sk-toggleable {background-color: white;}#sk-container-id-2 label.sk-toggleable__label {cursor: pointer;display: block;width: 100%;margin-bottom: 0;padding: 0.3em;box-sizing: border-box;text-align: center;}#sk-container-id-2 label.sk-toggleable__label-arrow:before {content: \"▸\";float: left;margin-right: 0.25em;color: #696969;}#sk-container-id-2 label.sk-toggleable__label-arrow:hover:before {color: black;}#sk-container-id-2 div.sk-estimator:hover label.sk-toggleable__label-arrow:before {color: black;}#sk-container-id-2 div.sk-toggleable__content {max-height: 0;max-width: 0;overflow: hidden;text-align: left;background-color: #f0f8ff;}#sk-container-id-2 div.sk-toggleable__content pre {margin: 0.2em;color: black;border-radius: 0.25em;background-color: #f0f8ff;}#sk-container-id-2 input.sk-toggleable__control:checked~div.sk-toggleable__content {max-height: 200px;max-width: 100%;overflow: auto;}#sk-container-id-2 input.sk-toggleable__control:checked~label.sk-toggleable__label-arrow:before {content: \"▾\";}#sk-container-id-2 div.sk-estimator input.sk-toggleable__control:checked~label.sk-toggleable__label {background-color: #d4ebff;}#sk-container-id-2 div.sk-label input.sk-toggleable__control:checked~label.sk-toggleable__label {background-color: #d4ebff;}#sk-container-id-2 input.sk-hidden--visually {border: 0;clip: rect(1px 1px 1px 1px);clip: rect(1px, 1px, 1px, 1px);height: 1px;margin: -1px;overflow: hidden;padding: 0;position: absolute;width: 1px;}#sk-container-id-2 div.sk-estimator {font-family: monospace;background-color: #f0f8ff;border: 1px dotted black;border-radius: 0.25em;box-sizing: border-box;margin-bottom: 0.5em;}#sk-container-id-2 div.sk-estimator:hover {background-color: #d4ebff;}#sk-container-id-2 div.sk-parallel-item::after {content: \"\";width: 100%;border-bottom: 1px solid gray;flex-grow: 1;}#sk-container-id-2 div.sk-label:hover label.sk-toggleable__label {background-color: #d4ebff;}#sk-container-id-2 div.sk-serial::before {content: \"\";position: absolute;border-left: 1px solid gray;box-sizing: border-box;top: 0;bottom: 0;left: 50%;z-index: 0;}#sk-container-id-2 div.sk-serial {display: flex;flex-direction: column;align-items: center;background-color: white;padding-right: 0.2em;padding-left: 0.2em;position: relative;}#sk-container-id-2 div.sk-item {position: relative;z-index: 1;}#sk-container-id-2 div.sk-parallel {display: flex;align-items: stretch;justify-content: center;background-color: white;position: relative;}#sk-container-id-2 div.sk-item::before, #sk-container-id-2 div.sk-parallel-item::before {content: \"\";position: absolute;border-left: 1px solid gray;box-sizing: border-box;top: 0;bottom: 0;left: 50%;z-index: -1;}#sk-container-id-2 div.sk-parallel-item {display: flex;flex-direction: column;z-index: 1;position: relative;background-color: white;}#sk-container-id-2 div.sk-parallel-item:first-child::after {align-self: flex-end;width: 50%;}#sk-container-id-2 div.sk-parallel-item:last-child::after {align-self: flex-start;width: 50%;}#sk-container-id-2 div.sk-parallel-item:only-child::after {width: 0;}#sk-container-id-2 div.sk-dashed-wrapped {border: 1px dashed gray;margin: 0 0.4em 0.5em 0.4em;box-sizing: border-box;padding-bottom: 0.4em;background-color: white;}#sk-container-id-2 div.sk-label label {font-family: monospace;font-weight: bold;display: inline-block;line-height: 1.2em;}#sk-container-id-2 div.sk-label-container {text-align: center;}#sk-container-id-2 div.sk-container {/* jupyter's `normalize.less` sets `[hidden] { display: none; }` but bootstrap.min.css set `[hidden] { display: none !important; }` so we also need the `!important` here to be able to override the default hidden behavior on the sphinx rendered scikit-learn.org. See: https://github.com/scikit-learn/scikit-learn/issues/21755 */display: inline-block !important;position: relative;}#sk-container-id-2 div.sk-text-repr-fallback {display: none;}</style><div id=\"sk-container-id-2\" class=\"sk-top-container\"><div class=\"sk-text-repr-fallback\"><pre>GridSearchCV(cv=3, estimator=LGBMRegressor(), n_jobs=-1,\n",
              "             param_grid={&#x27;colsample_bytree&#x27;: [0.7, 0.8],\n",
              "                         &#x27;learning_rate&#x27;: [0.1, 0.15, 0.2], &#x27;max_depth&#x27;: [11],\n",
              "                         &#x27;min_child_weight&#x27;: [4], &#x27;n_estimators&#x27;: [1000],\n",
              "                         &#x27;subsample&#x27;: [0.3, 0.4]},\n",
              "             scoring=&#x27;r2&#x27;, verbose=True)</pre><b>In a Jupyter environment, please rerun this cell to show the HTML representation or trust the notebook. <br />On GitHub, the HTML representation is unable to render, please try loading this page with nbviewer.org.</b></div><div class=\"sk-container\" hidden><div class=\"sk-item sk-dashed-wrapped\"><div class=\"sk-label-container\"><div class=\"sk-label sk-toggleable\"><input class=\"sk-toggleable__control sk-hidden--visually\" id=\"sk-estimator-id-4\" type=\"checkbox\" ><label for=\"sk-estimator-id-4\" class=\"sk-toggleable__label sk-toggleable__label-arrow\">GridSearchCV</label><div class=\"sk-toggleable__content\"><pre>GridSearchCV(cv=3, estimator=LGBMRegressor(), n_jobs=-1,\n",
              "             param_grid={&#x27;colsample_bytree&#x27;: [0.7, 0.8],\n",
              "                         &#x27;learning_rate&#x27;: [0.1, 0.15, 0.2], &#x27;max_depth&#x27;: [11],\n",
              "                         &#x27;min_child_weight&#x27;: [4], &#x27;n_estimators&#x27;: [1000],\n",
              "                         &#x27;subsample&#x27;: [0.3, 0.4]},\n",
              "             scoring=&#x27;r2&#x27;, verbose=True)</pre></div></div></div><div class=\"sk-parallel\"><div class=\"sk-parallel-item\"><div class=\"sk-item\"><div class=\"sk-label-container\"><div class=\"sk-label sk-toggleable\"><input class=\"sk-toggleable__control sk-hidden--visually\" id=\"sk-estimator-id-5\" type=\"checkbox\" ><label for=\"sk-estimator-id-5\" class=\"sk-toggleable__label sk-toggleable__label-arrow\">estimator: LGBMRegressor</label><div class=\"sk-toggleable__content\"><pre>LGBMRegressor()</pre></div></div></div><div class=\"sk-serial\"><div class=\"sk-item\"><div class=\"sk-estimator sk-toggleable\"><input class=\"sk-toggleable__control sk-hidden--visually\" id=\"sk-estimator-id-6\" type=\"checkbox\" ><label for=\"sk-estimator-id-6\" class=\"sk-toggleable__label sk-toggleable__label-arrow\">LGBMRegressor</label><div class=\"sk-toggleable__content\"><pre>LGBMRegressor()</pre></div></div></div></div></div></div></div></div></div></div>"
            ]
          },
          "metadata": {},
          "execution_count": 427
        }
      ]
    },
    {
      "cell_type": "code",
      "source": [
        "print('GridSearchCV 최적 파라미터:', lgb_grid.best_params_)"
      ],
      "metadata": {
        "id": "wrQrBz6QVspI",
        "outputId": "7ecb265c-cd6d-47e3-b644-63d71e57d883",
        "colab": {
          "base_uri": "https://localhost:8080/"
        }
      },
      "execution_count": null,
      "outputs": [
        {
          "output_type": "stream",
          "name": "stdout",
          "text": [
            "GridSearchCV 최적 파라미터: {'colsample_bytree': 0.7, 'learning_rate': 0.1, 'max_depth': 11, 'min_child_weight': 4, 'n_estimators': 1000, 'subsample': 0.3}\n"
          ]
        }
      ]
    },
    {
      "cell_type": "code",
      "source": [
        "from sklearn.metrics import r2_score\n",
        "\n",
        "model = lgb_grid.best_estimator_\n",
        "pred = model.predict(X_test)\n",
        "\n",
        "print('r2: {0:.5f}'.format(r2_score(y_test, pred)))"
      ],
      "metadata": {
        "colab": {
          "base_uri": "https://localhost:8080/"
        },
        "id": "f2fyyENgVFKC",
        "outputId": "d28cbb61-6045-4b0b-8b13-c138d33200dc"
      },
      "execution_count": null,
      "outputs": [
        {
          "output_type": "stream",
          "name": "stdout",
          "text": [
            "r2: 0.43809\n"
          ]
        }
      ]
    },
    {
      "cell_type": "code",
      "source": [],
      "metadata": {
        "id": "L_ItT6ssVZBV"
      },
      "execution_count": null,
      "outputs": []
    }
  ],
  "metadata": {
    "colab": {
      "provenance": [],
      "toc_visible": true
    },
    "kernelspec": {
      "display_name": "Python 3",
      "name": "python3"
    },
    "language_info": {
      "name": "python"
    }
  },
  "nbformat": 4,
  "nbformat_minor": 0
}